{
  "nbformat": 4,
  "nbformat_minor": 0,
  "metadata": {
    "colab": {
      "name": "Master Model.ipynb",
      "provenance": [],
      "collapsed_sections": [],
      "include_colab_link": true
    },
    "kernelspec": {
      "name": "python3",
      "display_name": "Python 3"
    },
    "accelerator": "GPU",
    "widgets": {
      "application/vnd.jupyter.widget-state+json": {
        "f46b1487d73e404ba7088f3127f3ee0b": {
          "model_module": "@jupyter-widgets/controls",
          "model_name": "HBoxModel",
          "state": {
            "_view_name": "HBoxView",
            "_dom_classes": [],
            "_model_name": "HBoxModel",
            "_view_module": "@jupyter-widgets/controls",
            "_model_module_version": "1.5.0",
            "_view_count": null,
            "_view_module_version": "1.5.0",
            "box_style": "",
            "layout": "IPY_MODEL_284d8d9e976946b8a9179afebd95b878",
            "_model_module": "@jupyter-widgets/controls",
            "children": [
              "IPY_MODEL_338c8378cf0e4ca389e2aa7675a13b8b",
              "IPY_MODEL_4b736ee00d694d80b786cd7858b34c13"
            ]
          }
        },
        "284d8d9e976946b8a9179afebd95b878": {
          "model_module": "@jupyter-widgets/base",
          "model_name": "LayoutModel",
          "state": {
            "_view_name": "LayoutView",
            "grid_template_rows": null,
            "right": null,
            "justify_content": null,
            "_view_module": "@jupyter-widgets/base",
            "overflow": null,
            "_model_module_version": "1.2.0",
            "_view_count": null,
            "flex_flow": null,
            "width": null,
            "min_width": null,
            "border": null,
            "align_items": null,
            "bottom": null,
            "_model_module": "@jupyter-widgets/base",
            "top": null,
            "grid_column": null,
            "overflow_y": null,
            "overflow_x": null,
            "grid_auto_flow": null,
            "grid_area": null,
            "grid_template_columns": null,
            "flex": null,
            "_model_name": "LayoutModel",
            "justify_items": null,
            "grid_row": null,
            "max_height": null,
            "align_content": null,
            "visibility": null,
            "align_self": null,
            "height": null,
            "min_height": null,
            "padding": null,
            "grid_auto_rows": null,
            "grid_gap": null,
            "max_width": null,
            "order": null,
            "_view_module_version": "1.2.0",
            "grid_template_areas": null,
            "object_position": null,
            "object_fit": null,
            "grid_auto_columns": null,
            "margin": null,
            "display": null,
            "left": null
          }
        },
        "338c8378cf0e4ca389e2aa7675a13b8b": {
          "model_module": "@jupyter-widgets/controls",
          "model_name": "IntProgressModel",
          "state": {
            "_view_name": "ProgressView",
            "style": "IPY_MODEL_5d052d3568bb4adca4eef4f8d5961616",
            "_dom_classes": [],
            "description": "",
            "_model_name": "IntProgressModel",
            "bar_style": "success",
            "max": 1,
            "_view_module": "@jupyter-widgets/controls",
            "_model_module_version": "1.5.0",
            "value": 1,
            "_view_count": null,
            "_view_module_version": "1.5.0",
            "orientation": "horizontal",
            "min": 0,
            "description_tooltip": null,
            "_model_module": "@jupyter-widgets/controls",
            "layout": "IPY_MODEL_b880f97041c8448cadb17a7dca9c4bf4"
          }
        },
        "4b736ee00d694d80b786cd7858b34c13": {
          "model_module": "@jupyter-widgets/controls",
          "model_name": "HTMLModel",
          "state": {
            "_view_name": "HTMLView",
            "style": "IPY_MODEL_072e79c1f77040c7b6e0545f99fd3b0d",
            "_dom_classes": [],
            "description": "",
            "_model_name": "HTMLModel",
            "placeholder": "​",
            "_view_module": "@jupyter-widgets/controls",
            "_model_module_version": "1.5.0",
            "value": "170500096it [00:04, 41746624.32it/s]",
            "_view_count": null,
            "_view_module_version": "1.5.0",
            "description_tooltip": null,
            "_model_module": "@jupyter-widgets/controls",
            "layout": "IPY_MODEL_a3f131b588874618b54558ecc6ca41ea"
          }
        },
        "5d052d3568bb4adca4eef4f8d5961616": {
          "model_module": "@jupyter-widgets/controls",
          "model_name": "ProgressStyleModel",
          "state": {
            "_view_name": "StyleView",
            "_model_name": "ProgressStyleModel",
            "description_width": "",
            "_view_module": "@jupyter-widgets/base",
            "_model_module_version": "1.5.0",
            "_view_count": null,
            "_view_module_version": "1.2.0",
            "bar_color": null,
            "_model_module": "@jupyter-widgets/controls"
          }
        },
        "b880f97041c8448cadb17a7dca9c4bf4": {
          "model_module": "@jupyter-widgets/base",
          "model_name": "LayoutModel",
          "state": {
            "_view_name": "LayoutView",
            "grid_template_rows": null,
            "right": null,
            "justify_content": null,
            "_view_module": "@jupyter-widgets/base",
            "overflow": null,
            "_model_module_version": "1.2.0",
            "_view_count": null,
            "flex_flow": null,
            "width": null,
            "min_width": null,
            "border": null,
            "align_items": null,
            "bottom": null,
            "_model_module": "@jupyter-widgets/base",
            "top": null,
            "grid_column": null,
            "overflow_y": null,
            "overflow_x": null,
            "grid_auto_flow": null,
            "grid_area": null,
            "grid_template_columns": null,
            "flex": null,
            "_model_name": "LayoutModel",
            "justify_items": null,
            "grid_row": null,
            "max_height": null,
            "align_content": null,
            "visibility": null,
            "align_self": null,
            "height": null,
            "min_height": null,
            "padding": null,
            "grid_auto_rows": null,
            "grid_gap": null,
            "max_width": null,
            "order": null,
            "_view_module_version": "1.2.0",
            "grid_template_areas": null,
            "object_position": null,
            "object_fit": null,
            "grid_auto_columns": null,
            "margin": null,
            "display": null,
            "left": null
          }
        },
        "072e79c1f77040c7b6e0545f99fd3b0d": {
          "model_module": "@jupyter-widgets/controls",
          "model_name": "DescriptionStyleModel",
          "state": {
            "_view_name": "StyleView",
            "_model_name": "DescriptionStyleModel",
            "description_width": "",
            "_view_module": "@jupyter-widgets/base",
            "_model_module_version": "1.5.0",
            "_view_count": null,
            "_view_module_version": "1.2.0",
            "_model_module": "@jupyter-widgets/controls"
          }
        },
        "a3f131b588874618b54558ecc6ca41ea": {
          "model_module": "@jupyter-widgets/base",
          "model_name": "LayoutModel",
          "state": {
            "_view_name": "LayoutView",
            "grid_template_rows": null,
            "right": null,
            "justify_content": null,
            "_view_module": "@jupyter-widgets/base",
            "overflow": null,
            "_model_module_version": "1.2.0",
            "_view_count": null,
            "flex_flow": null,
            "width": null,
            "min_width": null,
            "border": null,
            "align_items": null,
            "bottom": null,
            "_model_module": "@jupyter-widgets/base",
            "top": null,
            "grid_column": null,
            "overflow_y": null,
            "overflow_x": null,
            "grid_auto_flow": null,
            "grid_area": null,
            "grid_template_columns": null,
            "flex": null,
            "_model_name": "LayoutModel",
            "justify_items": null,
            "grid_row": null,
            "max_height": null,
            "align_content": null,
            "visibility": null,
            "align_self": null,
            "height": null,
            "min_height": null,
            "padding": null,
            "grid_auto_rows": null,
            "grid_gap": null,
            "max_width": null,
            "order": null,
            "_view_module_version": "1.2.0",
            "grid_template_areas": null,
            "object_position": null,
            "object_fit": null,
            "grid_auto_columns": null,
            "margin": null,
            "display": null,
            "left": null
          }
        }
      }
    }
  },
  "cells": [
    {
      "cell_type": "markdown",
      "metadata": {
        "id": "view-in-github",
        "colab_type": "text"
      },
      "source": [
        "<a href=\"https://colab.research.google.com/github/anilbhatt1/Deep_Learning_EVA4_Phase1/blob/master/Master_Model.ipynb\" target=\"_parent\"><img src=\"https://colab.research.google.com/assets/colab-badge.svg\" alt=\"Open In Colab\"/></a>"
      ]
    },
    {
      "cell_type": "code",
      "metadata": {
        "id": "qwMc1rYisyZ9",
        "colab_type": "code",
        "outputId": "0dc41833-f80f-4bbc-956a-009160eab535",
        "colab": {
          "base_uri": "https://localhost:8080/",
          "height": 69
        }
      },
      "source": [
        "# Mounting the drive and copying the code from github to drive\n",
        "from google.colab import drive \n",
        "drive.mount('/content/gdrive')\n",
        "%cd gdrive/My Drive/project_folder\n",
        "! ls"
      ],
      "execution_count": 1,
      "outputs": [
        {
          "output_type": "stream",
          "text": [
            "Drive already mounted at /content/gdrive; to attempt to forcibly remount, call drive.mount(\"/content/gdrive\", force_remount=True).\n",
            "/content/gdrive/My Drive/project_folder\n",
            "Untitled0.ipynb\n"
          ],
          "name": "stdout"
        }
      ]
    },
    {
      "cell_type": "code",
      "metadata": {
        "id": "5y-BdVIirPsJ",
        "colab_type": "code",
        "colab": {
          "base_uri": "https://localhost:8080/",
          "height": 139
        },
        "outputId": "17bee971-426d-4108-a76b-b5b530c78809"
      },
      "source": [
        "!git clone https://github.com/anilbhatt1/Deep_Learning_EVA4_Phase1"
      ],
      "execution_count": 2,
      "outputs": [
        {
          "output_type": "stream",
          "text": [
            "Cloning into 'Deep_Learning_EVA4_Phase1'...\n",
            "remote: Enumerating objects: 154, done.\u001b[K\n",
            "remote: Counting objects: 100% (154/154), done.\u001b[K\n",
            "remote: Compressing objects: 100% (152/152), done.\u001b[K\n",
            "remote: Total 543 (delta 96), reused 0 (delta 0), pack-reused 389\u001b[K\n",
            "Receiving objects: 100% (543/543), 4.16 MiB | 14.70 MiB/s, done.\n",
            "Resolving deltas: 100% (333/333), done.\n"
          ],
          "name": "stdout"
        }
      ]
    },
    {
      "cell_type": "code",
      "metadata": {
        "id": "Q20naiUStIan",
        "colab_type": "code",
        "outputId": "aa1338a6-bf35-46c1-8b44-82b9b81a105b",
        "colab": {
          "base_uri": "https://localhost:8080/",
          "height": 52
        }
      },
      "source": [
        "%cd Deep_Learning_EVA4_Phase1/S7_CIFAR10_Modular\n",
        "! ls"
      ],
      "execution_count": 3,
      "outputs": [
        {
          "output_type": "stream",
          "text": [
            "/content/gdrive/My Drive/project_folder/Deep_Learning_EVA4_Phase1/S7_CIFAR10_Modular\n",
            "Master_Model.py  models  README.md\n"
          ],
          "name": "stdout"
        }
      ]
    },
    {
      "cell_type": "code",
      "metadata": {
        "id": "3pkMQem56QSQ",
        "colab_type": "code",
        "colab": {}
      },
      "source": [
        "from __future__ import print_function\n",
        "import torch\n",
        "import torchvision\n",
        "from torchvision import transforms\n",
        "import torch.nn as nn\n",
        "import torch.nn.functional as F\n",
        "import torch.optim as optim\n",
        "import numpy as np\n",
        "from tqdm import tqdm\n",
        "from models import S7_Datatransforms,S7_Model,S7_Dataloaders,S7_Train_Losses,S7_Test_losses"
      ],
      "execution_count": 0,
      "outputs": []
    },
    {
      "cell_type": "code",
      "metadata": {
        "id": "73_JJsQt6ehB",
        "colab_type": "code",
        "colab": {
          "base_uri": "https://localhost:8080/",
          "height": 119,
          "referenced_widgets": [
            "f46b1487d73e404ba7088f3127f3ee0b",
            "284d8d9e976946b8a9179afebd95b878",
            "338c8378cf0e4ca389e2aa7675a13b8b",
            "4b736ee00d694d80b786cd7858b34c13",
            "5d052d3568bb4adca4eef4f8d5961616",
            "b880f97041c8448cadb17a7dca9c4bf4",
            "072e79c1f77040c7b6e0545f99fd3b0d",
            "a3f131b588874618b54558ecc6ca41ea"
          ]
        },
        "outputId": "15b11778-eec1-4db8-d44f-ba94b5c50b23"
      },
      "source": [
        "data_loader = S7_Dataloaders.DataLoader(shuffle=True,batch_size=128,seed=1)\n",
        "\n",
        "mean = (0.49139968, 0.48215841, 0.44653091)\n",
        "stdev = (0.24703223, 0.24348513, 0.26158784)\n",
        "transform_instance  = S7_Datatransforms.Transforms_custom(normalize=True, mean=mean, stdev=stdev)\n",
        "\n",
        "before_norm_list = [transforms.ColorJitter(brightness=0.1, contrast=0.1, saturation=0.1, hue=0.1),\n",
        "               transforms.RandomRotation((-7,7),fill=(1,))]\n",
        "               \n",
        "test_transforms   = transform_instance.test_transforms()\n",
        "train_transforms  = transform_instance.train_transforms(before_norm = None)\n",
        "\n",
        "train_data = torchvision.datasets.CIFAR10('./data', train=True, download=True, transform=train_transforms)\n",
        "test_data  = torchvision.datasets.CIFAR10('./data', train=False, download=True, transform=test_transforms)\n",
        "\n",
        "classes = ('plane', 'car', 'bird', 'cat','deer', 'dog', 'frog', 'horse', 'ship', 'truck')"
      ],
      "execution_count": 5,
      "outputs": [
        {
          "output_type": "stream",
          "text": [
            "Downloading https://www.cs.toronto.edu/~kriz/cifar-10-python.tar.gz to ./data/cifar-10-python.tar.gz\n"
          ],
          "name": "stdout"
        },
        {
          "output_type": "display_data",
          "data": {
            "application/vnd.jupyter.widget-view+json": {
              "model_id": "f46b1487d73e404ba7088f3127f3ee0b",
              "version_minor": 0,
              "version_major": 2
            },
            "text/plain": [
              "HBox(children=(IntProgress(value=1, bar_style='info', max=1), HTML(value='')))"
            ]
          },
          "metadata": {
            "tags": []
          }
        },
        {
          "output_type": "stream",
          "text": [
            "\n",
            "Extracting ./data/cifar-10-python.tar.gz to ./data\n",
            "Files already downloaded and verified\n"
          ],
          "name": "stdout"
        }
      ]
    },
    {
      "cell_type": "code",
      "metadata": {
        "id": "-ZzMIofPsy6v",
        "colab_type": "code",
        "colab": {}
      },
      "source": [
        "trainloader = data_loader.load(train_data)\n",
        "testloader  = data_loader.load(test_data)"
      ],
      "execution_count": 0,
      "outputs": []
    },
    {
      "cell_type": "code",
      "metadata": {
        "id": "0SdiTKnWuhyn",
        "colab_type": "code",
        "colab": {
          "base_uri": "https://localhost:8080/",
          "height": 780
        },
        "outputId": "e77a7885-79bf-4b63-d464-206d58fcc4de"
      },
      "source": [
        "!pip install torchsummary\n",
        "from torchsummary import summary\n",
        "use_cuda = torch.cuda.is_available()\n",
        "device = torch.device(\"cuda\" if use_cuda else \"cpu\")\n",
        "print(device)\n",
        "model = S7_Model.Net()\n",
        "model.to(device)\n",
        "summary(model, input_size=(3, 32, 32))"
      ],
      "execution_count": 7,
      "outputs": [
        {
          "output_type": "stream",
          "text": [
            "Requirement already satisfied: torchsummary in /usr/local/lib/python3.6/dist-packages (1.5.1)\n",
            "cuda\n",
            "----------------------------------------------------------------\n",
            "        Layer (type)               Output Shape         Param #\n",
            "================================================================\n",
            "            Conv2d-1           [-1, 32, 32, 32]             864\n",
            "              ReLU-2           [-1, 32, 32, 32]               0\n",
            "       BatchNorm2d-3           [-1, 32, 32, 32]              64\n",
            "           Dropout-4           [-1, 32, 32, 32]               0\n",
            "            Conv2d-5           [-1, 64, 32, 32]          18,432\n",
            "              ReLU-6           [-1, 64, 32, 32]               0\n",
            "       BatchNorm2d-7           [-1, 64, 32, 32]             128\n",
            "           Dropout-8           [-1, 64, 32, 32]               0\n",
            "         MaxPool2d-9           [-1, 64, 16, 16]               0\n",
            "           Conv2d-10           [-1, 32, 16, 16]           2,048\n",
            "           Conv2d-11           [-1, 64, 16, 16]          18,432\n",
            "             ReLU-12           [-1, 64, 16, 16]               0\n",
            "      BatchNorm2d-13           [-1, 64, 16, 16]             128\n",
            "          Dropout-14           [-1, 64, 16, 16]               0\n",
            "           Conv2d-15           [-1, 64, 16, 16]             576\n",
            "             ReLU-16           [-1, 64, 16, 16]               0\n",
            "      BatchNorm2d-17           [-1, 64, 16, 16]             128\n",
            "          Dropout-18           [-1, 64, 16, 16]               0\n",
            "           Conv2d-19          [-1, 128, 16, 16]           8,192\n",
            "        MaxPool2d-20            [-1, 128, 8, 8]               0\n",
            "           Conv2d-21             [-1, 32, 8, 8]           4,096\n",
            "           Conv2d-22             [-1, 64, 8, 8]          18,432\n",
            "             ReLU-23             [-1, 64, 8, 8]               0\n",
            "      BatchNorm2d-24             [-1, 64, 8, 8]             128\n",
            "          Dropout-25             [-1, 64, 8, 8]               0\n",
            "        MaxPool2d-26             [-1, 64, 4, 4]               0\n",
            "           Conv2d-27             [-1, 32, 6, 6]           2,048\n",
            "        AvgPool2d-28             [-1, 32, 1, 1]               0\n",
            "           Conv2d-29             [-1, 10, 1, 1]             320\n",
            "================================================================\n",
            "Total params: 74,016\n",
            "Trainable params: 74,016\n",
            "Non-trainable params: 0\n",
            "----------------------------------------------------------------\n",
            "Input size (MB): 0.01\n",
            "Forward/backward pass size (MB): 4.66\n",
            "Params size (MB): 0.28\n",
            "Estimated Total Size (MB): 4.95\n",
            "----------------------------------------------------------------\n"
          ],
          "name": "stdout"
        }
      ]
    },
    {
      "cell_type": "code",
      "metadata": {
        "id": "sYGWz6VDxkC8",
        "colab_type": "code",
        "colab": {}
      },
      "source": [
        "train_loss = S7_Train_Losses.Train_loss()\n",
        "test_loss  = S7_Test_losses.Test_loss()"
      ],
      "execution_count": 0,
      "outputs": []
    },
    {
      "cell_type": "markdown",
      "metadata": {
        "id": "Cu4wRX-WLGAi",
        "colab_type": "text"
      },
      "source": [
        "# Train and Test the model "
      ]
    },
    {
      "cell_type": "code",
      "metadata": {
        "id": "BNX9W00SLKYr",
        "colab_type": "code",
        "colab": {
          "base_uri": "https://localhost:8080/",
          "height": 191
        },
        "outputId": "c21b1808-4af5-4f91-e3ed-3ff4a4f71c3b"
      },
      "source": [
        "EPOCH     = 2\n",
        "L2_factor = 0.0005\n",
        "L1_factor = 0.001\n",
        "OPTIMIZER = optim.SGD(model.parameters(), lr=0.025, momentum=0.9,weight_decay=L2_factor)\n",
        "\n",
        "for epoch in range(EPOCH):\n",
        "    print(\"EPOCH:\", epoch)\n",
        "    train_loss.train_loss_calc(model,device,train_loader=trainloader,optimizer=OPTIMIZER,epoch=EPOCH,factor=L1_factor)\n",
        "    a, b = test_loss.test_loss_calc(model,device,test_loader=testloader)"
      ],
      "execution_count": 9,
      "outputs": [
        {
          "output_type": "stream",
          "text": [
            "\r  0%|          | 0/391 [00:00<?, ?it/s]"
          ],
          "name": "stderr"
        },
        {
          "output_type": "stream",
          "text": [
            "EPOCH: 0\n"
          ],
          "name": "stdout"
        },
        {
          "output_type": "stream",
          "text": [
            "Epoch = 2 Train Loss = 1.1561788320541382 Batch Id = 390 Train Accuracy = 46.87: 100%|██████████| 391/391 [00:23<00:00, 16.39it/s]\n",
            "  0%|          | 0/391 [00:00<?, ?it/s]"
          ],
          "name": "stderr"
        },
        {
          "output_type": "stream",
          "text": [
            "\n",
            "Test set: Average loss: 143.8381, Test Accuracy: 74.19\n",
            "\n",
            "EPOCH: 1\n"
          ],
          "name": "stdout"
        },
        {
          "output_type": "stream",
          "text": [
            "Epoch = 2 Train Loss = 0.9637211561203003 Batch Id = 390 Train Accuracy = 63.03: 100%|██████████| 391/391 [00:24<00:00, 16.26it/s]\n"
          ],
          "name": "stderr"
        },
        {
          "output_type": "stream",
          "text": [
            "\n",
            "Test set: Average loss: 128.1587, Test Accuracy: 80.92\n",
            "\n"
          ],
          "name": "stdout"
        }
      ]
    },
    {
      "cell_type": "code",
      "metadata": {
        "id": "g_1BWQZCFQf9",
        "colab_type": "code",
        "colab": {}
      },
      "source": [
        ""
      ],
      "execution_count": 0,
      "outputs": []
    }
  ]
}
