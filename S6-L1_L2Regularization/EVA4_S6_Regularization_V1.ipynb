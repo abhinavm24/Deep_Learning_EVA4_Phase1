{
  "nbformat": 4,
  "nbformat_minor": 0,
  "metadata": {
    "colab": {
      "name": "EVA4_S6_Regularization_V1.ipynb",
      "provenance": [],
      "collapsed_sections": [],
      "include_colab_link": true
    },
    "kernelspec": {
      "name": "python3",
      "display_name": "Python 3"
    },
    "accelerator": "GPU",
    "widgets": {
      "application/vnd.jupyter.widget-state+json": {
        "2a9bf0ce987d4c8c84ad45a115f1cc5f": {
          "model_module": "@jupyter-widgets/controls",
          "model_name": "HBoxModel",
          "state": {
            "_view_name": "HBoxView",
            "_dom_classes": [],
            "_model_name": "HBoxModel",
            "_view_module": "@jupyter-widgets/controls",
            "_model_module_version": "1.5.0",
            "_view_count": null,
            "_view_module_version": "1.5.0",
            "box_style": "",
            "layout": "IPY_MODEL_b06052f33ca5435eb4b608bd7979f6a5",
            "_model_module": "@jupyter-widgets/controls",
            "children": [
              "IPY_MODEL_04380fdb739744ac8d13b3bd2105a1bc",
              "IPY_MODEL_bcfe619e75564d1b913fc6896555bb04"
            ]
          }
        },
        "b06052f33ca5435eb4b608bd7979f6a5": {
          "model_module": "@jupyter-widgets/base",
          "model_name": "LayoutModel",
          "state": {
            "_view_name": "LayoutView",
            "grid_template_rows": null,
            "right": null,
            "justify_content": null,
            "_view_module": "@jupyter-widgets/base",
            "overflow": null,
            "_model_module_version": "1.2.0",
            "_view_count": null,
            "flex_flow": null,
            "width": null,
            "min_width": null,
            "border": null,
            "align_items": null,
            "bottom": null,
            "_model_module": "@jupyter-widgets/base",
            "top": null,
            "grid_column": null,
            "overflow_y": null,
            "overflow_x": null,
            "grid_auto_flow": null,
            "grid_area": null,
            "grid_template_columns": null,
            "flex": null,
            "_model_name": "LayoutModel",
            "justify_items": null,
            "grid_row": null,
            "max_height": null,
            "align_content": null,
            "visibility": null,
            "align_self": null,
            "height": null,
            "min_height": null,
            "padding": null,
            "grid_auto_rows": null,
            "grid_gap": null,
            "max_width": null,
            "order": null,
            "_view_module_version": "1.2.0",
            "grid_template_areas": null,
            "object_position": null,
            "object_fit": null,
            "grid_auto_columns": null,
            "margin": null,
            "display": null,
            "left": null
          }
        },
        "04380fdb739744ac8d13b3bd2105a1bc": {
          "model_module": "@jupyter-widgets/controls",
          "model_name": "IntProgressModel",
          "state": {
            "_view_name": "ProgressView",
            "style": "IPY_MODEL_1e82169e52f24338844b04f0ca999fe1",
            "_dom_classes": [],
            "description": "",
            "_model_name": "IntProgressModel",
            "bar_style": "success",
            "max": 1,
            "_view_module": "@jupyter-widgets/controls",
            "_model_module_version": "1.5.0",
            "value": 1,
            "_view_count": null,
            "_view_module_version": "1.5.0",
            "orientation": "horizontal",
            "min": 0,
            "description_tooltip": null,
            "_model_module": "@jupyter-widgets/controls",
            "layout": "IPY_MODEL_b4ec72133d054f35b4d1e45de4a072f5"
          }
        },
        "bcfe619e75564d1b913fc6896555bb04": {
          "model_module": "@jupyter-widgets/controls",
          "model_name": "HTMLModel",
          "state": {
            "_view_name": "HTMLView",
            "style": "IPY_MODEL_f4c6ab20e6764f4096de3a5462691e61",
            "_dom_classes": [],
            "description": "",
            "_model_name": "HTMLModel",
            "placeholder": "​",
            "_view_module": "@jupyter-widgets/controls",
            "_model_module_version": "1.5.0",
            "value": "9920512it [00:02, 3720598.72it/s]",
            "_view_count": null,
            "_view_module_version": "1.5.0",
            "description_tooltip": null,
            "_model_module": "@jupyter-widgets/controls",
            "layout": "IPY_MODEL_373fb79f1d4d438090d5291d7b6e805d"
          }
        },
        "1e82169e52f24338844b04f0ca999fe1": {
          "model_module": "@jupyter-widgets/controls",
          "model_name": "ProgressStyleModel",
          "state": {
            "_view_name": "StyleView",
            "_model_name": "ProgressStyleModel",
            "description_width": "",
            "_view_module": "@jupyter-widgets/base",
            "_model_module_version": "1.5.0",
            "_view_count": null,
            "_view_module_version": "1.2.0",
            "bar_color": null,
            "_model_module": "@jupyter-widgets/controls"
          }
        },
        "b4ec72133d054f35b4d1e45de4a072f5": {
          "model_module": "@jupyter-widgets/base",
          "model_name": "LayoutModel",
          "state": {
            "_view_name": "LayoutView",
            "grid_template_rows": null,
            "right": null,
            "justify_content": null,
            "_view_module": "@jupyter-widgets/base",
            "overflow": null,
            "_model_module_version": "1.2.0",
            "_view_count": null,
            "flex_flow": null,
            "width": null,
            "min_width": null,
            "border": null,
            "align_items": null,
            "bottom": null,
            "_model_module": "@jupyter-widgets/base",
            "top": null,
            "grid_column": null,
            "overflow_y": null,
            "overflow_x": null,
            "grid_auto_flow": null,
            "grid_area": null,
            "grid_template_columns": null,
            "flex": null,
            "_model_name": "LayoutModel",
            "justify_items": null,
            "grid_row": null,
            "max_height": null,
            "align_content": null,
            "visibility": null,
            "align_self": null,
            "height": null,
            "min_height": null,
            "padding": null,
            "grid_auto_rows": null,
            "grid_gap": null,
            "max_width": null,
            "order": null,
            "_view_module_version": "1.2.0",
            "grid_template_areas": null,
            "object_position": null,
            "object_fit": null,
            "grid_auto_columns": null,
            "margin": null,
            "display": null,
            "left": null
          }
        },
        "f4c6ab20e6764f4096de3a5462691e61": {
          "model_module": "@jupyter-widgets/controls",
          "model_name": "DescriptionStyleModel",
          "state": {
            "_view_name": "StyleView",
            "_model_name": "DescriptionStyleModel",
            "description_width": "",
            "_view_module": "@jupyter-widgets/base",
            "_model_module_version": "1.5.0",
            "_view_count": null,
            "_view_module_version": "1.2.0",
            "_model_module": "@jupyter-widgets/controls"
          }
        },
        "373fb79f1d4d438090d5291d7b6e805d": {
          "model_module": "@jupyter-widgets/base",
          "model_name": "LayoutModel",
          "state": {
            "_view_name": "LayoutView",
            "grid_template_rows": null,
            "right": null,
            "justify_content": null,
            "_view_module": "@jupyter-widgets/base",
            "overflow": null,
            "_model_module_version": "1.2.0",
            "_view_count": null,
            "flex_flow": null,
            "width": null,
            "min_width": null,
            "border": null,
            "align_items": null,
            "bottom": null,
            "_model_module": "@jupyter-widgets/base",
            "top": null,
            "grid_column": null,
            "overflow_y": null,
            "overflow_x": null,
            "grid_auto_flow": null,
            "grid_area": null,
            "grid_template_columns": null,
            "flex": null,
            "_model_name": "LayoutModel",
            "justify_items": null,
            "grid_row": null,
            "max_height": null,
            "align_content": null,
            "visibility": null,
            "align_self": null,
            "height": null,
            "min_height": null,
            "padding": null,
            "grid_auto_rows": null,
            "grid_gap": null,
            "max_width": null,
            "order": null,
            "_view_module_version": "1.2.0",
            "grid_template_areas": null,
            "object_position": null,
            "object_fit": null,
            "grid_auto_columns": null,
            "margin": null,
            "display": null,
            "left": null
          }
        },
        "81753ef293fb4e28b2eeb657c2342181": {
          "model_module": "@jupyter-widgets/controls",
          "model_name": "HBoxModel",
          "state": {
            "_view_name": "HBoxView",
            "_dom_classes": [],
            "_model_name": "HBoxModel",
            "_view_module": "@jupyter-widgets/controls",
            "_model_module_version": "1.5.0",
            "_view_count": null,
            "_view_module_version": "1.5.0",
            "box_style": "",
            "layout": "IPY_MODEL_57bd28bfdd9e458ba167559b4b883cab",
            "_model_module": "@jupyter-widgets/controls",
            "children": [
              "IPY_MODEL_eb62600abab146fc8072576e06e2bddf",
              "IPY_MODEL_50a02c0d56214d3d883322173aa6ea88"
            ]
          }
        },
        "57bd28bfdd9e458ba167559b4b883cab": {
          "model_module": "@jupyter-widgets/base",
          "model_name": "LayoutModel",
          "state": {
            "_view_name": "LayoutView",
            "grid_template_rows": null,
            "right": null,
            "justify_content": null,
            "_view_module": "@jupyter-widgets/base",
            "overflow": null,
            "_model_module_version": "1.2.0",
            "_view_count": null,
            "flex_flow": null,
            "width": null,
            "min_width": null,
            "border": null,
            "align_items": null,
            "bottom": null,
            "_model_module": "@jupyter-widgets/base",
            "top": null,
            "grid_column": null,
            "overflow_y": null,
            "overflow_x": null,
            "grid_auto_flow": null,
            "grid_area": null,
            "grid_template_columns": null,
            "flex": null,
            "_model_name": "LayoutModel",
            "justify_items": null,
            "grid_row": null,
            "max_height": null,
            "align_content": null,
            "visibility": null,
            "align_self": null,
            "height": null,
            "min_height": null,
            "padding": null,
            "grid_auto_rows": null,
            "grid_gap": null,
            "max_width": null,
            "order": null,
            "_view_module_version": "1.2.0",
            "grid_template_areas": null,
            "object_position": null,
            "object_fit": null,
            "grid_auto_columns": null,
            "margin": null,
            "display": null,
            "left": null
          }
        },
        "eb62600abab146fc8072576e06e2bddf": {
          "model_module": "@jupyter-widgets/controls",
          "model_name": "IntProgressModel",
          "state": {
            "_view_name": "ProgressView",
            "style": "IPY_MODEL_6ce097b9eb9147399ec6cf172f8dbee8",
            "_dom_classes": [],
            "description": "",
            "_model_name": "IntProgressModel",
            "bar_style": "success",
            "max": 1,
            "_view_module": "@jupyter-widgets/controls",
            "_model_module_version": "1.5.0",
            "value": 1,
            "_view_count": null,
            "_view_module_version": "1.5.0",
            "orientation": "horizontal",
            "min": 0,
            "description_tooltip": null,
            "_model_module": "@jupyter-widgets/controls",
            "layout": "IPY_MODEL_55800e0de6ea4bf5ba9543ffea29af72"
          }
        },
        "50a02c0d56214d3d883322173aa6ea88": {
          "model_module": "@jupyter-widgets/controls",
          "model_name": "HTMLModel",
          "state": {
            "_view_name": "HTMLView",
            "style": "IPY_MODEL_02ad2a2b47404a87be8535a66de61b22",
            "_dom_classes": [],
            "description": "",
            "_model_name": "HTMLModel",
            "placeholder": "​",
            "_view_module": "@jupyter-widgets/controls",
            "_model_module_version": "1.5.0",
            "value": "32768it [00:00, 38458.89it/s]",
            "_view_count": null,
            "_view_module_version": "1.5.0",
            "description_tooltip": null,
            "_model_module": "@jupyter-widgets/controls",
            "layout": "IPY_MODEL_8e28eca2a3f245808b295977bc4cf048"
          }
        },
        "6ce097b9eb9147399ec6cf172f8dbee8": {
          "model_module": "@jupyter-widgets/controls",
          "model_name": "ProgressStyleModel",
          "state": {
            "_view_name": "StyleView",
            "_model_name": "ProgressStyleModel",
            "description_width": "",
            "_view_module": "@jupyter-widgets/base",
            "_model_module_version": "1.5.0",
            "_view_count": null,
            "_view_module_version": "1.2.0",
            "bar_color": null,
            "_model_module": "@jupyter-widgets/controls"
          }
        },
        "55800e0de6ea4bf5ba9543ffea29af72": {
          "model_module": "@jupyter-widgets/base",
          "model_name": "LayoutModel",
          "state": {
            "_view_name": "LayoutView",
            "grid_template_rows": null,
            "right": null,
            "justify_content": null,
            "_view_module": "@jupyter-widgets/base",
            "overflow": null,
            "_model_module_version": "1.2.0",
            "_view_count": null,
            "flex_flow": null,
            "width": null,
            "min_width": null,
            "border": null,
            "align_items": null,
            "bottom": null,
            "_model_module": "@jupyter-widgets/base",
            "top": null,
            "grid_column": null,
            "overflow_y": null,
            "overflow_x": null,
            "grid_auto_flow": null,
            "grid_area": null,
            "grid_template_columns": null,
            "flex": null,
            "_model_name": "LayoutModel",
            "justify_items": null,
            "grid_row": null,
            "max_height": null,
            "align_content": null,
            "visibility": null,
            "align_self": null,
            "height": null,
            "min_height": null,
            "padding": null,
            "grid_auto_rows": null,
            "grid_gap": null,
            "max_width": null,
            "order": null,
            "_view_module_version": "1.2.0",
            "grid_template_areas": null,
            "object_position": null,
            "object_fit": null,
            "grid_auto_columns": null,
            "margin": null,
            "display": null,
            "left": null
          }
        },
        "02ad2a2b47404a87be8535a66de61b22": {
          "model_module": "@jupyter-widgets/controls",
          "model_name": "DescriptionStyleModel",
          "state": {
            "_view_name": "StyleView",
            "_model_name": "DescriptionStyleModel",
            "description_width": "",
            "_view_module": "@jupyter-widgets/base",
            "_model_module_version": "1.5.0",
            "_view_count": null,
            "_view_module_version": "1.2.0",
            "_model_module": "@jupyter-widgets/controls"
          }
        },
        "8e28eca2a3f245808b295977bc4cf048": {
          "model_module": "@jupyter-widgets/base",
          "model_name": "LayoutModel",
          "state": {
            "_view_name": "LayoutView",
            "grid_template_rows": null,
            "right": null,
            "justify_content": null,
            "_view_module": "@jupyter-widgets/base",
            "overflow": null,
            "_model_module_version": "1.2.0",
            "_view_count": null,
            "flex_flow": null,
            "width": null,
            "min_width": null,
            "border": null,
            "align_items": null,
            "bottom": null,
            "_model_module": "@jupyter-widgets/base",
            "top": null,
            "grid_column": null,
            "overflow_y": null,
            "overflow_x": null,
            "grid_auto_flow": null,
            "grid_area": null,
            "grid_template_columns": null,
            "flex": null,
            "_model_name": "LayoutModel",
            "justify_items": null,
            "grid_row": null,
            "max_height": null,
            "align_content": null,
            "visibility": null,
            "align_self": null,
            "height": null,
            "min_height": null,
            "padding": null,
            "grid_auto_rows": null,
            "grid_gap": null,
            "max_width": null,
            "order": null,
            "_view_module_version": "1.2.0",
            "grid_template_areas": null,
            "object_position": null,
            "object_fit": null,
            "grid_auto_columns": null,
            "margin": null,
            "display": null,
            "left": null
          }
        },
        "65b0c07b555447d39946311f4e548618": {
          "model_module": "@jupyter-widgets/controls",
          "model_name": "HBoxModel",
          "state": {
            "_view_name": "HBoxView",
            "_dom_classes": [],
            "_model_name": "HBoxModel",
            "_view_module": "@jupyter-widgets/controls",
            "_model_module_version": "1.5.0",
            "_view_count": null,
            "_view_module_version": "1.5.0",
            "box_style": "",
            "layout": "IPY_MODEL_b192d24d47fd4d0b9364b098c7271633",
            "_model_module": "@jupyter-widgets/controls",
            "children": [
              "IPY_MODEL_bafa2910a591418297c238604ce247ae",
              "IPY_MODEL_991b196e83f8460291a1cdb4df72b083"
            ]
          }
        },
        "b192d24d47fd4d0b9364b098c7271633": {
          "model_module": "@jupyter-widgets/base",
          "model_name": "LayoutModel",
          "state": {
            "_view_name": "LayoutView",
            "grid_template_rows": null,
            "right": null,
            "justify_content": null,
            "_view_module": "@jupyter-widgets/base",
            "overflow": null,
            "_model_module_version": "1.2.0",
            "_view_count": null,
            "flex_flow": null,
            "width": null,
            "min_width": null,
            "border": null,
            "align_items": null,
            "bottom": null,
            "_model_module": "@jupyter-widgets/base",
            "top": null,
            "grid_column": null,
            "overflow_y": null,
            "overflow_x": null,
            "grid_auto_flow": null,
            "grid_area": null,
            "grid_template_columns": null,
            "flex": null,
            "_model_name": "LayoutModel",
            "justify_items": null,
            "grid_row": null,
            "max_height": null,
            "align_content": null,
            "visibility": null,
            "align_self": null,
            "height": null,
            "min_height": null,
            "padding": null,
            "grid_auto_rows": null,
            "grid_gap": null,
            "max_width": null,
            "order": null,
            "_view_module_version": "1.2.0",
            "grid_template_areas": null,
            "object_position": null,
            "object_fit": null,
            "grid_auto_columns": null,
            "margin": null,
            "display": null,
            "left": null
          }
        },
        "bafa2910a591418297c238604ce247ae": {
          "model_module": "@jupyter-widgets/controls",
          "model_name": "IntProgressModel",
          "state": {
            "_view_name": "ProgressView",
            "style": "IPY_MODEL_9ca93940994441febbf7675ed0cef370",
            "_dom_classes": [],
            "description": "",
            "_model_name": "IntProgressModel",
            "bar_style": "success",
            "max": 1,
            "_view_module": "@jupyter-widgets/controls",
            "_model_module_version": "1.5.0",
            "value": 1,
            "_view_count": null,
            "_view_module_version": "1.5.0",
            "orientation": "horizontal",
            "min": 0,
            "description_tooltip": null,
            "_model_module": "@jupyter-widgets/controls",
            "layout": "IPY_MODEL_06ee7da9ba9b495db7aa573bdd3fe8cc"
          }
        },
        "991b196e83f8460291a1cdb4df72b083": {
          "model_module": "@jupyter-widgets/controls",
          "model_name": "HTMLModel",
          "state": {
            "_view_name": "HTMLView",
            "style": "IPY_MODEL_33556d7ca7e046b19d5eb8b7ad73f342",
            "_dom_classes": [],
            "description": "",
            "_model_name": "HTMLModel",
            "placeholder": "​",
            "_view_module": "@jupyter-widgets/controls",
            "_model_module_version": "1.5.0",
            "value": "1654784it [00:02, 795081.50it/s]",
            "_view_count": null,
            "_view_module_version": "1.5.0",
            "description_tooltip": null,
            "_model_module": "@jupyter-widgets/controls",
            "layout": "IPY_MODEL_5c700ca2cf294259aa03aa370b0b53d3"
          }
        },
        "9ca93940994441febbf7675ed0cef370": {
          "model_module": "@jupyter-widgets/controls",
          "model_name": "ProgressStyleModel",
          "state": {
            "_view_name": "StyleView",
            "_model_name": "ProgressStyleModel",
            "description_width": "",
            "_view_module": "@jupyter-widgets/base",
            "_model_module_version": "1.5.0",
            "_view_count": null,
            "_view_module_version": "1.2.0",
            "bar_color": null,
            "_model_module": "@jupyter-widgets/controls"
          }
        },
        "06ee7da9ba9b495db7aa573bdd3fe8cc": {
          "model_module": "@jupyter-widgets/base",
          "model_name": "LayoutModel",
          "state": {
            "_view_name": "LayoutView",
            "grid_template_rows": null,
            "right": null,
            "justify_content": null,
            "_view_module": "@jupyter-widgets/base",
            "overflow": null,
            "_model_module_version": "1.2.0",
            "_view_count": null,
            "flex_flow": null,
            "width": null,
            "min_width": null,
            "border": null,
            "align_items": null,
            "bottom": null,
            "_model_module": "@jupyter-widgets/base",
            "top": null,
            "grid_column": null,
            "overflow_y": null,
            "overflow_x": null,
            "grid_auto_flow": null,
            "grid_area": null,
            "grid_template_columns": null,
            "flex": null,
            "_model_name": "LayoutModel",
            "justify_items": null,
            "grid_row": null,
            "max_height": null,
            "align_content": null,
            "visibility": null,
            "align_self": null,
            "height": null,
            "min_height": null,
            "padding": null,
            "grid_auto_rows": null,
            "grid_gap": null,
            "max_width": null,
            "order": null,
            "_view_module_version": "1.2.0",
            "grid_template_areas": null,
            "object_position": null,
            "object_fit": null,
            "grid_auto_columns": null,
            "margin": null,
            "display": null,
            "left": null
          }
        },
        "33556d7ca7e046b19d5eb8b7ad73f342": {
          "model_module": "@jupyter-widgets/controls",
          "model_name": "DescriptionStyleModel",
          "state": {
            "_view_name": "StyleView",
            "_model_name": "DescriptionStyleModel",
            "description_width": "",
            "_view_module": "@jupyter-widgets/base",
            "_model_module_version": "1.5.0",
            "_view_count": null,
            "_view_module_version": "1.2.0",
            "_model_module": "@jupyter-widgets/controls"
          }
        },
        "5c700ca2cf294259aa03aa370b0b53d3": {
          "model_module": "@jupyter-widgets/base",
          "model_name": "LayoutModel",
          "state": {
            "_view_name": "LayoutView",
            "grid_template_rows": null,
            "right": null,
            "justify_content": null,
            "_view_module": "@jupyter-widgets/base",
            "overflow": null,
            "_model_module_version": "1.2.0",
            "_view_count": null,
            "flex_flow": null,
            "width": null,
            "min_width": null,
            "border": null,
            "align_items": null,
            "bottom": null,
            "_model_module": "@jupyter-widgets/base",
            "top": null,
            "grid_column": null,
            "overflow_y": null,
            "overflow_x": null,
            "grid_auto_flow": null,
            "grid_area": null,
            "grid_template_columns": null,
            "flex": null,
            "_model_name": "LayoutModel",
            "justify_items": null,
            "grid_row": null,
            "max_height": null,
            "align_content": null,
            "visibility": null,
            "align_self": null,
            "height": null,
            "min_height": null,
            "padding": null,
            "grid_auto_rows": null,
            "grid_gap": null,
            "max_width": null,
            "order": null,
            "_view_module_version": "1.2.0",
            "grid_template_areas": null,
            "object_position": null,
            "object_fit": null,
            "grid_auto_columns": null,
            "margin": null,
            "display": null,
            "left": null
          }
        },
        "3eb6c7259da84d8f94dda0cb52ad73ca": {
          "model_module": "@jupyter-widgets/controls",
          "model_name": "HBoxModel",
          "state": {
            "_view_name": "HBoxView",
            "_dom_classes": [],
            "_model_name": "HBoxModel",
            "_view_module": "@jupyter-widgets/controls",
            "_model_module_version": "1.5.0",
            "_view_count": null,
            "_view_module_version": "1.5.0",
            "box_style": "",
            "layout": "IPY_MODEL_772cbe552c4147a292971ac82d65ab59",
            "_model_module": "@jupyter-widgets/controls",
            "children": [
              "IPY_MODEL_256de7f269724d4eb47a482c02230b30",
              "IPY_MODEL_bafb8eba08504fcc807afaad2c2754be"
            ]
          }
        },
        "772cbe552c4147a292971ac82d65ab59": {
          "model_module": "@jupyter-widgets/base",
          "model_name": "LayoutModel",
          "state": {
            "_view_name": "LayoutView",
            "grid_template_rows": null,
            "right": null,
            "justify_content": null,
            "_view_module": "@jupyter-widgets/base",
            "overflow": null,
            "_model_module_version": "1.2.0",
            "_view_count": null,
            "flex_flow": null,
            "width": null,
            "min_width": null,
            "border": null,
            "align_items": null,
            "bottom": null,
            "_model_module": "@jupyter-widgets/base",
            "top": null,
            "grid_column": null,
            "overflow_y": null,
            "overflow_x": null,
            "grid_auto_flow": null,
            "grid_area": null,
            "grid_template_columns": null,
            "flex": null,
            "_model_name": "LayoutModel",
            "justify_items": null,
            "grid_row": null,
            "max_height": null,
            "align_content": null,
            "visibility": null,
            "align_self": null,
            "height": null,
            "min_height": null,
            "padding": null,
            "grid_auto_rows": null,
            "grid_gap": null,
            "max_width": null,
            "order": null,
            "_view_module_version": "1.2.0",
            "grid_template_areas": null,
            "object_position": null,
            "object_fit": null,
            "grid_auto_columns": null,
            "margin": null,
            "display": null,
            "left": null
          }
        },
        "256de7f269724d4eb47a482c02230b30": {
          "model_module": "@jupyter-widgets/controls",
          "model_name": "IntProgressModel",
          "state": {
            "_view_name": "ProgressView",
            "style": "IPY_MODEL_2330e9e2f49d4b3b859f473f6c52d1d8",
            "_dom_classes": [],
            "description": "",
            "_model_name": "IntProgressModel",
            "bar_style": "success",
            "max": 1,
            "_view_module": "@jupyter-widgets/controls",
            "_model_module_version": "1.5.0",
            "value": 1,
            "_view_count": null,
            "_view_module_version": "1.5.0",
            "orientation": "horizontal",
            "min": 0,
            "description_tooltip": null,
            "_model_module": "@jupyter-widgets/controls",
            "layout": "IPY_MODEL_0be1d473b4a74040aeec93717e6667af"
          }
        },
        "bafb8eba08504fcc807afaad2c2754be": {
          "model_module": "@jupyter-widgets/controls",
          "model_name": "HTMLModel",
          "state": {
            "_view_name": "HTMLView",
            "style": "IPY_MODEL_69b572577e1d408a8dadf410072f8a6d",
            "_dom_classes": [],
            "description": "",
            "_model_name": "HTMLModel",
            "placeholder": "​",
            "_view_module": "@jupyter-widgets/controls",
            "_model_module_version": "1.5.0",
            "value": "8192it [00:00, 12526.74it/s]",
            "_view_count": null,
            "_view_module_version": "1.5.0",
            "description_tooltip": null,
            "_model_module": "@jupyter-widgets/controls",
            "layout": "IPY_MODEL_23395dddfd354d069b52ce0d693bfdf4"
          }
        },
        "2330e9e2f49d4b3b859f473f6c52d1d8": {
          "model_module": "@jupyter-widgets/controls",
          "model_name": "ProgressStyleModel",
          "state": {
            "_view_name": "StyleView",
            "_model_name": "ProgressStyleModel",
            "description_width": "",
            "_view_module": "@jupyter-widgets/base",
            "_model_module_version": "1.5.0",
            "_view_count": null,
            "_view_module_version": "1.2.0",
            "bar_color": null,
            "_model_module": "@jupyter-widgets/controls"
          }
        },
        "0be1d473b4a74040aeec93717e6667af": {
          "model_module": "@jupyter-widgets/base",
          "model_name": "LayoutModel",
          "state": {
            "_view_name": "LayoutView",
            "grid_template_rows": null,
            "right": null,
            "justify_content": null,
            "_view_module": "@jupyter-widgets/base",
            "overflow": null,
            "_model_module_version": "1.2.0",
            "_view_count": null,
            "flex_flow": null,
            "width": null,
            "min_width": null,
            "border": null,
            "align_items": null,
            "bottom": null,
            "_model_module": "@jupyter-widgets/base",
            "top": null,
            "grid_column": null,
            "overflow_y": null,
            "overflow_x": null,
            "grid_auto_flow": null,
            "grid_area": null,
            "grid_template_columns": null,
            "flex": null,
            "_model_name": "LayoutModel",
            "justify_items": null,
            "grid_row": null,
            "max_height": null,
            "align_content": null,
            "visibility": null,
            "align_self": null,
            "height": null,
            "min_height": null,
            "padding": null,
            "grid_auto_rows": null,
            "grid_gap": null,
            "max_width": null,
            "order": null,
            "_view_module_version": "1.2.0",
            "grid_template_areas": null,
            "object_position": null,
            "object_fit": null,
            "grid_auto_columns": null,
            "margin": null,
            "display": null,
            "left": null
          }
        },
        "69b572577e1d408a8dadf410072f8a6d": {
          "model_module": "@jupyter-widgets/controls",
          "model_name": "DescriptionStyleModel",
          "state": {
            "_view_name": "StyleView",
            "_model_name": "DescriptionStyleModel",
            "description_width": "",
            "_view_module": "@jupyter-widgets/base",
            "_model_module_version": "1.5.0",
            "_view_count": null,
            "_view_module_version": "1.2.0",
            "_model_module": "@jupyter-widgets/controls"
          }
        },
        "23395dddfd354d069b52ce0d693bfdf4": {
          "model_module": "@jupyter-widgets/base",
          "model_name": "LayoutModel",
          "state": {
            "_view_name": "LayoutView",
            "grid_template_rows": null,
            "right": null,
            "justify_content": null,
            "_view_module": "@jupyter-widgets/base",
            "overflow": null,
            "_model_module_version": "1.2.0",
            "_view_count": null,
            "flex_flow": null,
            "width": null,
            "min_width": null,
            "border": null,
            "align_items": null,
            "bottom": null,
            "_model_module": "@jupyter-widgets/base",
            "top": null,
            "grid_column": null,
            "overflow_y": null,
            "overflow_x": null,
            "grid_auto_flow": null,
            "grid_area": null,
            "grid_template_columns": null,
            "flex": null,
            "_model_name": "LayoutModel",
            "justify_items": null,
            "grid_row": null,
            "max_height": null,
            "align_content": null,
            "visibility": null,
            "align_self": null,
            "height": null,
            "min_height": null,
            "padding": null,
            "grid_auto_rows": null,
            "grid_gap": null,
            "max_width": null,
            "order": null,
            "_view_module_version": "1.2.0",
            "grid_template_areas": null,
            "object_position": null,
            "object_fit": null,
            "grid_auto_columns": null,
            "margin": null,
            "display": null,
            "left": null
          }
        }
      }
    }
  },
  "cells": [
    {
      "cell_type": "markdown",
      "metadata": {
        "id": "view-in-github",
        "colab_type": "text"
      },
      "source": [
        "<a href=\"https://colab.research.google.com/github/anilbhatt1/Deep_Learning_EVA4_Phase1/blob/master/EVA4_S6_Regularization_V1.ipynb\" target=\"_parent\"><img src=\"https://colab.research.google.com/assets/colab-badge.svg\" alt=\"Open In Colab\"/></a>"
      ]
    },
    {
      "cell_type": "code",
      "metadata": {
        "id": "8kH16rnZ7wt_",
        "colab_type": "code",
        "colab": {}
      },
      "source": [
        "from __future__ import print_function\n",
        "import torch\n",
        "import torch.nn as nn\n",
        "import torch.nn.functional as F\n",
        "import torch.optim as optim\n",
        "from torchvision import datasets, transforms\n",
        "import numpy as np"
      ],
      "execution_count": 0,
      "outputs": []
    },
    {
      "cell_type": "markdown",
      "metadata": {
        "id": "ky3f_Odl-7um",
        "colab_type": "text"
      },
      "source": [
        "## Data Transformations\n",
        "\n"
      ]
    },
    {
      "cell_type": "code",
      "metadata": {
        "id": "YtssFUKb-jqx",
        "colab_type": "code",
        "colab": {}
      },
      "source": [
        "# Train Phase transformations\n",
        "train_transforms = transforms.Compose([\n",
        "                                      #  transforms.Resize((28, 28)),\n",
        "                                       transforms.ColorJitter(brightness=0.1, contrast=0.1, saturation=0.1, hue=0.1),\n",
        "                                       transforms.RandomRotation((-7,7),fill=(1,)),\n",
        "                                      #  transforms.RandomHorizontalFlip(),\n",
        "                                      #  transforms.RandomErasing(p=0.2), \n",
        "                                       transforms.ToTensor(),                                       \n",
        "                                       transforms.Normalize((0.1307,), (0.3081,)) # The mean and std have to be sequences (e.g., tuples), therefore you should add a comma after the values. \n",
        "                                       # Note the difference between (0.1307) and (0.1307,)\n",
        "                                       ])\n",
        "\n",
        "# Test Phase transformations\n",
        "test_transforms = transforms.Compose([\n",
        "                                      #  transforms.Resize((28, 28)),\n",
        "                                      #  transforms.ColorJitter(brightness=0.10, contrast=0.1, saturation=0.10, hue=0.1),\n",
        "                                       transforms.ToTensor(),\n",
        "                                       transforms.Normalize((0.1307,), (0.3081,))\n",
        "                                       ])"
      ],
      "execution_count": 0,
      "outputs": []
    },
    {
      "cell_type": "markdown",
      "metadata": {
        "id": "oQciFYo2B1mO",
        "colab_type": "text"
      },
      "source": [
        "# Dataset and Creating Train/Test Split"
      ]
    },
    {
      "cell_type": "code",
      "metadata": {
        "id": "_4A84rlfDA23",
        "colab_type": "code",
        "outputId": "e01c0675-195a-4d32-f125-a864fbb9d5fa",
        "colab": {
          "base_uri": "https://localhost:8080/",
          "height": 388,
          "referenced_widgets": [
            "2a9bf0ce987d4c8c84ad45a115f1cc5f",
            "b06052f33ca5435eb4b608bd7979f6a5",
            "04380fdb739744ac8d13b3bd2105a1bc",
            "bcfe619e75564d1b913fc6896555bb04",
            "1e82169e52f24338844b04f0ca999fe1",
            "b4ec72133d054f35b4d1e45de4a072f5",
            "f4c6ab20e6764f4096de3a5462691e61",
            "373fb79f1d4d438090d5291d7b6e805d",
            "81753ef293fb4e28b2eeb657c2342181",
            "57bd28bfdd9e458ba167559b4b883cab",
            "eb62600abab146fc8072576e06e2bddf",
            "50a02c0d56214d3d883322173aa6ea88",
            "6ce097b9eb9147399ec6cf172f8dbee8",
            "55800e0de6ea4bf5ba9543ffea29af72",
            "02ad2a2b47404a87be8535a66de61b22",
            "8e28eca2a3f245808b295977bc4cf048",
            "65b0c07b555447d39946311f4e548618",
            "b192d24d47fd4d0b9364b098c7271633",
            "bafa2910a591418297c238604ce247ae",
            "991b196e83f8460291a1cdb4df72b083",
            "9ca93940994441febbf7675ed0cef370",
            "06ee7da9ba9b495db7aa573bdd3fe8cc",
            "33556d7ca7e046b19d5eb8b7ad73f342",
            "5c700ca2cf294259aa03aa370b0b53d3",
            "3eb6c7259da84d8f94dda0cb52ad73ca",
            "772cbe552c4147a292971ac82d65ab59",
            "256de7f269724d4eb47a482c02230b30",
            "bafb8eba08504fcc807afaad2c2754be",
            "2330e9e2f49d4b3b859f473f6c52d1d8",
            "0be1d473b4a74040aeec93717e6667af",
            "69b572577e1d408a8dadf410072f8a6d",
            "23395dddfd354d069b52ce0d693bfdf4"
          ]
        }
      },
      "source": [
        "train = datasets.MNIST('./data', train=True, download=True, transform=train_transforms)\n",
        "test = datasets.MNIST('./data', train=False, download=True, transform=test_transforms)"
      ],
      "execution_count": 0,
      "outputs": [
        {
          "output_type": "stream",
          "text": [
            "Downloading http://yann.lecun.com/exdb/mnist/train-images-idx3-ubyte.gz to ./data/MNIST/raw/train-images-idx3-ubyte.gz\n"
          ],
          "name": "stdout"
        },
        {
          "output_type": "display_data",
          "data": {
            "application/vnd.jupyter.widget-view+json": {
              "model_id": "2a9bf0ce987d4c8c84ad45a115f1cc5f",
              "version_minor": 0,
              "version_major": 2
            },
            "text/plain": [
              "HBox(children=(IntProgress(value=1, bar_style='info', max=1), HTML(value='')))"
            ]
          },
          "metadata": {
            "tags": []
          }
        },
        {
          "output_type": "stream",
          "text": [
            "\n",
            "Extracting ./data/MNIST/raw/train-images-idx3-ubyte.gz to ./data/MNIST/raw\n",
            "Downloading http://yann.lecun.com/exdb/mnist/train-labels-idx1-ubyte.gz to ./data/MNIST/raw/train-labels-idx1-ubyte.gz\n"
          ],
          "name": "stdout"
        },
        {
          "output_type": "display_data",
          "data": {
            "application/vnd.jupyter.widget-view+json": {
              "model_id": "81753ef293fb4e28b2eeb657c2342181",
              "version_minor": 0,
              "version_major": 2
            },
            "text/plain": [
              "HBox(children=(IntProgress(value=1, bar_style='info', max=1), HTML(value='')))"
            ]
          },
          "metadata": {
            "tags": []
          }
        },
        {
          "output_type": "stream",
          "text": [
            "\n",
            "Extracting ./data/MNIST/raw/train-labels-idx1-ubyte.gz to ./data/MNIST/raw\n",
            "Downloading http://yann.lecun.com/exdb/mnist/t10k-images-idx3-ubyte.gz to ./data/MNIST/raw/t10k-images-idx3-ubyte.gz\n"
          ],
          "name": "stdout"
        },
        {
          "output_type": "display_data",
          "data": {
            "application/vnd.jupyter.widget-view+json": {
              "model_id": "65b0c07b555447d39946311f4e548618",
              "version_minor": 0,
              "version_major": 2
            },
            "text/plain": [
              "HBox(children=(IntProgress(value=1, bar_style='info', max=1), HTML(value='')))"
            ]
          },
          "metadata": {
            "tags": []
          }
        },
        {
          "output_type": "stream",
          "text": [
            "\n",
            "Extracting ./data/MNIST/raw/t10k-images-idx3-ubyte.gz to ./data/MNIST/raw\n",
            "Downloading http://yann.lecun.com/exdb/mnist/t10k-labels-idx1-ubyte.gz to ./data/MNIST/raw/t10k-labels-idx1-ubyte.gz\n"
          ],
          "name": "stdout"
        },
        {
          "output_type": "display_data",
          "data": {
            "application/vnd.jupyter.widget-view+json": {
              "model_id": "3eb6c7259da84d8f94dda0cb52ad73ca",
              "version_minor": 0,
              "version_major": 2
            },
            "text/plain": [
              "HBox(children=(IntProgress(value=1, bar_style='info', max=1), HTML(value='')))"
            ]
          },
          "metadata": {
            "tags": []
          }
        },
        {
          "output_type": "stream",
          "text": [
            "\n",
            "Extracting ./data/MNIST/raw/t10k-labels-idx1-ubyte.gz to ./data/MNIST/raw\n",
            "Processing...\n",
            "Done!\n"
          ],
          "name": "stdout"
        }
      ]
    },
    {
      "cell_type": "markdown",
      "metadata": {
        "id": "qgldp_3-Dn0c",
        "colab_type": "text"
      },
      "source": [
        "# Dataloader Arguments & Test/Train Dataloaders\n"
      ]
    },
    {
      "cell_type": "code",
      "metadata": {
        "id": "C8OLDR79DrHG",
        "colab_type": "code",
        "outputId": "d882b8f7-3389-4250-df75-60c3358d431a",
        "colab": {
          "base_uri": "https://localhost:8080/",
          "height": 35
        }
      },
      "source": [
        "SEED = 1\n",
        "\n",
        "# CUDA?\n",
        "cuda = torch.cuda.is_available()\n",
        "print(\"CUDA Available?\", cuda)\n",
        "\n",
        "# For reproducibility\n",
        "torch.manual_seed(SEED)\n",
        "\n",
        "if cuda:\n",
        "    torch.cuda.manual_seed(SEED)\n",
        "\n",
        "# dataloader arguments - something you'll fetch these from cmdprmt\n",
        "dataloader_args = dict(shuffle=True, batch_size=128, num_workers=4, pin_memory=True) if cuda else dict(shuffle=True, batch_size=64)\n",
        "\n",
        "# train dataloader\n",
        "train_loader = torch.utils.data.DataLoader(train, **dataloader_args)\n",
        "\n",
        "# test dataloader\n",
        "test_loader = torch.utils.data.DataLoader(test, **dataloader_args)"
      ],
      "execution_count": 0,
      "outputs": [
        {
          "output_type": "stream",
          "text": [
            "CUDA Available? True\n"
          ],
          "name": "stdout"
        }
      ]
    },
    {
      "cell_type": "code",
      "metadata": {
        "id": "7FXQlB9kH1ov",
        "colab_type": "code",
        "colab": {}
      },
      "source": [
        "dropout_value = 0.05\n",
        "class Net(nn.Module):\n",
        "    def __init__(self):\n",
        "        super(Net, self).__init__()\n",
        "        # Input Block\n",
        "        self.convblock1 = nn.Sequential(\n",
        "            nn.Conv2d(in_channels=1, out_channels=16, kernel_size=(3, 3), padding=0, bias=False),\n",
        "            nn.ReLU(),\n",
        "            nn.BatchNorm2d(16),\n",
        "            nn.Dropout(dropout_value)\n",
        "        ) # in = 28x28x1 , out = 26x26x16, RF = 3\n",
        "\n",
        "        # CONVOLUTION BLOCK 1\n",
        "        self.convblock2 = nn.Sequential(\n",
        "            nn.Conv2d(in_channels=16, out_channels=16, kernel_size=(3, 3), padding=0, bias=False),\n",
        "            nn.ReLU(),\n",
        "            nn.BatchNorm2d(16),\n",
        "            nn.Dropout(dropout_value)\n",
        "        ) # in = 26x26x16 , out = 24x24x16, RF = 5\n",
        " \n",
        "        # TRANSITION BLOCK 1\n",
        "        self.pool1 = nn.MaxPool2d(2, 2) # in = 24x24x16 , out = 12x12x16, RF = 6\n",
        "\n",
        "        # CONVOLUTION BLOCK 2\n",
        "        self.convblock3 = nn.Sequential(\n",
        "            nn.Conv2d(in_channels=16, out_channels=16, kernel_size=(3, 3), padding=0, bias=False),\n",
        "            nn.ReLU(),\n",
        "            nn.BatchNorm2d(16),\n",
        "            nn.Dropout(dropout_value)\n",
        "        ) # in = 12x12x16 , out = 10x10x16, RF = 10\n",
        "        self.convblock4 = nn.Sequential(\n",
        "            nn.Conv2d(in_channels=16, out_channels=16, kernel_size=(3, 3), padding=0, bias=False),\n",
        "            nn.ReLU(),\n",
        "            nn.BatchNorm2d(16),\n",
        "            nn.Dropout(dropout_value)\n",
        "        ) # in = 10x10x16 , out = 8x8x16, RF = 14\n",
        "\n",
        "        # OUTPUT BLOCK\n",
        "        self.convblock5 = nn.Sequential(\n",
        "            nn.Conv2d(in_channels=16, out_channels=16, kernel_size=(3, 3), padding=0, bias=False),\n",
        "            nn.ReLU(),\n",
        "            nn.BatchNorm2d(16),\n",
        "            nn.Dropout(dropout_value)\n",
        "        ) # in = 8x8x16 , out = 6x6x16, RF = 18\n",
        "        self.Gap1 = nn.Sequential(\n",
        "            nn.AvgPool2d(kernel_size=6)\n",
        "        ) # in = 6x6x16 , out = 1x1x16, RF = 28\t\n",
        "        self.fc1 = nn.Sequential(\n",
        "            nn.Conv2d(in_channels=16, out_channels=10, kernel_size=(1, 1), padding=0, bias=False)\n",
        "        ) # in = 1x1x16 , out = 1x1x10, RF = 28\n",
        "\n",
        "    def forward(self, x):\n",
        "        x = self.convblock2(self.convblock1(x))\n",
        "        x = self.pool1(x)\n",
        "        x = self.convblock4(self.convblock3(x))\n",
        "        x = self.Gap1(self.convblock5(x))\n",
        "        x = self.fc1(x)\n",
        "        x = x.view(-1, 10)\n",
        "        return F.log_softmax(x, dim=-1)"
      ],
      "execution_count": 0,
      "outputs": []
    },
    {
      "cell_type": "markdown",
      "metadata": {
        "id": "M3-vp8X9LCWo",
        "colab_type": "text"
      },
      "source": [
        "# Model Params\n"
      ]
    },
    {
      "cell_type": "code",
      "metadata": {
        "id": "5skB97zIJQQe",
        "colab_type": "code",
        "outputId": "cb523e87-067b-4a60-e59d-738a9679cf7a",
        "colab": {
          "base_uri": "https://localhost:8080/",
          "height": 676
        }
      },
      "source": [
        "!pip install torchsummary\n",
        "from torchsummary import summary\n",
        "use_cuda = torch.cuda.is_available()\n",
        "device = torch.device(\"cuda\" if use_cuda else \"cpu\")\n",
        "print(device)\n",
        "model = Net().to(device)\n",
        "summary(model, input_size=(1, 28, 28))"
      ],
      "execution_count": 0,
      "outputs": [
        {
          "output_type": "stream",
          "text": [
            "Requirement already satisfied: torchsummary in /usr/local/lib/python3.6/dist-packages (1.5.1)\n",
            "cuda\n",
            "----------------------------------------------------------------\n",
            "        Layer (type)               Output Shape         Param #\n",
            "================================================================\n",
            "            Conv2d-1           [-1, 16, 26, 26]             144\n",
            "              ReLU-2           [-1, 16, 26, 26]               0\n",
            "       BatchNorm2d-3           [-1, 16, 26, 26]              32\n",
            "           Dropout-4           [-1, 16, 26, 26]               0\n",
            "            Conv2d-5           [-1, 16, 24, 24]           2,304\n",
            "              ReLU-6           [-1, 16, 24, 24]               0\n",
            "       BatchNorm2d-7           [-1, 16, 24, 24]              32\n",
            "           Dropout-8           [-1, 16, 24, 24]               0\n",
            "         MaxPool2d-9           [-1, 16, 12, 12]               0\n",
            "           Conv2d-10           [-1, 16, 10, 10]           2,304\n",
            "             ReLU-11           [-1, 16, 10, 10]               0\n",
            "      BatchNorm2d-12           [-1, 16, 10, 10]              32\n",
            "          Dropout-13           [-1, 16, 10, 10]               0\n",
            "           Conv2d-14             [-1, 16, 8, 8]           2,304\n",
            "             ReLU-15             [-1, 16, 8, 8]               0\n",
            "      BatchNorm2d-16             [-1, 16, 8, 8]              32\n",
            "          Dropout-17             [-1, 16, 8, 8]               0\n",
            "           Conv2d-18             [-1, 16, 6, 6]           2,304\n",
            "             ReLU-19             [-1, 16, 6, 6]               0\n",
            "      BatchNorm2d-20             [-1, 16, 6, 6]              32\n",
            "          Dropout-21             [-1, 16, 6, 6]               0\n",
            "        AvgPool2d-22             [-1, 16, 1, 1]               0\n",
            "           Conv2d-23             [-1, 10, 1, 1]             160\n",
            "================================================================\n",
            "Total params: 9,680\n",
            "Trainable params: 9,680\n",
            "Non-trainable params: 0\n",
            "----------------------------------------------------------------\n",
            "Input size (MB): 0.00\n",
            "Forward/backward pass size (MB): 0.73\n",
            "Params size (MB): 0.04\n",
            "Estimated Total Size (MB): 0.77\n",
            "----------------------------------------------------------------\n"
          ],
          "name": "stdout"
        }
      ]
    },
    {
      "cell_type": "markdown",
      "metadata": {
        "id": "1__x_SbrL7z3",
        "colab_type": "text"
      },
      "source": [
        "# Training and Testing"
      ]
    },
    {
      "cell_type": "code",
      "metadata": {
        "id": "fbkF2nN_LYIb",
        "colab_type": "code",
        "colab": {}
      },
      "source": [
        "from tqdm import tqdm\n",
        "\n",
        "def train(model, device, train_loader, optimizer, epoch, factor):\n",
        "  model.train()\n",
        "  pbar = tqdm(train_loader)\n",
        "  correct = 0\n",
        "  processed = 0\n",
        "  i = 0\n",
        "  for batch_idx, (data, target) in enumerate(pbar):\n",
        "    # get samples\n",
        "    data, target = data.to(device), target.to(device)\n",
        "\n",
        "    # Init\n",
        "    optimizer.zero_grad()\n",
        "    # In PyTorch, we need to set the gradients to zero before starting to do backpropragation because PyTorch accumulates the gradients on subsequent backward passes. \n",
        "    # Because of this, when you start your training loop, ideally you should zero out the gradients so that you do the parameter update correctly.\n",
        "\n",
        "    # Predict\n",
        "    y_pred = model(data)\n",
        "\n",
        "    # Calculate loss\n",
        "    loss = F.nll_loss(y_pred, target)\n",
        "    \n",
        "    L1_Crit = nn.L1Loss(size_average=None, reduce=None, reduction='mean')\n",
        "    reg_loss = 0 \n",
        "    for param in model.parameters():\n",
        "      zero_vector = torch.rand_like(param) * 0\n",
        "      reg_loss += L1_Crit(param,zero_vector)\n",
        "    loss += factor * reg_loss\n",
        "    \n",
        "    train_losses.append(loss)\n",
        "\n",
        "    # Backpropagation\n",
        "    loss.backward()\n",
        "    optimizer.step()\n",
        "\n",
        "    # Update pbar-tqdm\n",
        "    # in view() method the shape of the desired output tensor is to be passed in as the parameter,\n",
        "    # whereas in view_as() a tensor whose shape is to be mimicked it passed.\n",
        "    # tensor.view_as(other) is equivalent to tensor.view(other.size())\n",
        "    \n",
        "    pred = y_pred.argmax(dim=1, keepdim=True)  # get the index of the max log-probability\n",
        "    correct += pred.eq(target.view_as(pred)).sum().item()\n",
        "    processed += len(data)\n",
        "\n",
        "    pbar.set_description(desc= f'Loss={loss.item()} Batch_id={batch_idx} Train Accuracy={100*correct/processed:0.2f}')\n",
        "    train_acc.append(100*correct/processed)\n",
        "    if batch_idx == 468:\n",
        "      train_acc_epoch.append(100*correct/processed)\n",
        "      train_losses_epoch.append(loss)\n",
        "\n",
        "def test(model, device, test_loader):\n",
        "    model.eval()\n",
        "    test_loss = 0\n",
        "    correct = 0\n",
        "    i = 0\n",
        "    with torch.no_grad():\n",
        "\n",
        "        for data, target in test_loader:\n",
        "            data, target = data.to(device), target.to(device)\n",
        "            output = model(data)\n",
        "            test_loss += F.nll_loss(output, target, reduction='sum').item()  # sum up batch loss\n",
        "            pred = output.argmax(dim=1, keepdim=True)  # get the index of the max log-probability\n",
        "            correct += pred.eq(target.view_as(pred)).sum().item()\n",
        "            \n",
        "            idx_incorrect = pred.ne(target.view_as(pred)).view(-1)\n",
        "            actual_img.append(data[idx_incorrect.nonzero()].cpu().numpy())\n",
        "            wrong_pred.append(pred[idx_incorrect.nonzero()].cpu().numpy())\n",
        "            actual_target.append(target[idx_incorrect.nonzero()].cpu().numpy())\n",
        "            \n",
        "    test_loss /= len(test_loader.dataset)\n",
        "    test_losses.append(test_loss)\n",
        "\n",
        "    print('\\nTest set: Average loss: {:.4f}, Test Accuracy: {}/{} ({:.2f}%)\\n'.format(\n",
        "        test_loss, correct, len(test_loader.dataset),\n",
        "        100. * correct / len(test_loader.dataset)))\n",
        "    \n",
        "    test_acc.append(100. * correct / len(test_loader.dataset))"
      ],
      "execution_count": 0,
      "outputs": []
    },
    {
      "cell_type": "code",
      "metadata": {
        "id": "iHyl0fS0nAh5",
        "colab_type": "code",
        "colab": {}
      },
      "source": [
        "def save_image(orig_img,wrong_class,right_class):\n",
        "\n",
        "    orig_wrong_right  = []\n",
        "    orig_img_s1       = []\n",
        "    wrong_class_s0    = []\n",
        "    wrong_class_s1    = []\n",
        "    right_class_s0    = []\n",
        "    right_class_s1    = []\n",
        "\n",
        "    for i in range(len(orig_img)):\n",
        "        if orig_img[i].shape[0] == 1:                              # Only take those images whose batch-size is 1 to avoid reshape issues\n",
        "          orig_img_s1.append(orig_img[i])\n",
        "          wrong_class_s0.append(wrong_class[i].reshape(1))         # For the orig image, we are capturing its wrong class predicted by model\n",
        "          right_class_s0.append(right_class[i].reshape(1))         # For the orig image, we are capturing its right class present in target\n",
        "\n",
        "    for i in range(len(wrong_class_s0)):\n",
        "        wrong_class_s1.append(wrong_class_s0[i][0])  # We are reducing the wrong_class to 1 dimension for ease of display using 'print'\n",
        "        right_class_s1.append(right_class_s0[i][0])  # We are reducing the wrong_class to 1 dimension for ease of display using 'print'\n",
        "    \n",
        "    orig_wrong_right.append(orig_img_s1)\n",
        "    orig_wrong_right.append(wrong_class_s1)\n",
        "    orig_wrong_right.append(right_class_s1)\n",
        "\n",
        "    return orig_wrong_right"
      ],
      "execution_count": 0,
      "outputs": []
    },
    {
      "cell_type": "markdown",
      "metadata": {
        "id": "drokW8wWODKq",
        "colab_type": "text"
      },
      "source": [
        "# Running the Model in order (1) w/o L1 or L2 (2) With L1 (3) With L2 (4) With L1 & L2"
      ]
    },
    {
      "cell_type": "code",
      "metadata": {
        "id": "xMCFxeAKOB53",
        "colab_type": "code",
        "outputId": "77043f05-0a96-4664-e340-ede6729dff1c",
        "colab": {
          "base_uri": "https://localhost:8080/",
          "height": 1000
        }
      },
      "source": [
        "from torch.optim.lr_scheduler import StepLR\n",
        "%matplotlib inline\n",
        "import matplotlib.pyplot as plt\n",
        "\n",
        "val_accuracy = []  # To store val_accuracy for models (a) w/o L1 or L2 (b) With L1 (c) With L2 (d) With L1 & L2\n",
        "loss_test    = []  # To save test losses as above\n",
        "loss_train   = []  # To save train losses as above\n",
        "act_img      = []  # To save 25 actual images which got misclassified for each of the above models\n",
        "pred_class   = []  # To save predicted class for above images\n",
        "act_class    = []  # To save actual class for above images\n",
        "\n",
        "factor_list  = [(0,0),(0.001,0),(0,0.0005),(0.001,0.0005)]  # List of tuples (L1,L2) for 4 above models\n",
        "\n",
        "for factors in factor_list:\n",
        "    L1_factor,L2_factor = factors\n",
        "    print('L1_Factor :',L1_factor,'L2_factor :',L2_factor)\n",
        "    train_losses        = []\n",
        "    test_losses         = []\n",
        "    train_acc           = []\n",
        "    test_acc            = []\n",
        "    train_acc_epoch     = []\n",
        "    train_losses_epoch  = []\n",
        "\n",
        "    actual_img          = []\n",
        "    wrong_pred          = []\n",
        "    actual_target       = []   \n",
        "\n",
        "    model =  Net().to(device)\n",
        "    optimizer = optim.SGD(model.parameters(), lr=0.025, momentum=0.9,weight_decay=L2_factor)    \n",
        "    scheduler = StepLR(optimizer, step_size=6, gamma=0.1)\n",
        "\n",
        "    EPOCHS = 40\n",
        "    factor_in = L1_factor\n",
        "    for epoch in range(EPOCHS):\n",
        "        print(\"EPOCH:\", epoch)\n",
        "        train(model, device, train_loader, optimizer, epoch, factor_in)\n",
        "        test(model, device, test_loader)\n",
        "    \n",
        "    val_accuracy.append(test_acc)\n",
        "    loss_test.append(test_losses) \n",
        "    loss_train.append(train_losses_epoch) \n",
        "\n",
        "    incorrect_pred = []\n",
        "    incorrect_pred = save_image(actual_img,wrong_pred,actual_target)\n",
        "\n",
        "    act_img.append(incorrect_pred[0])\n",
        "    pred_class.append(incorrect_pred[1])\n",
        "    act_class.append(incorrect_pred[2])\n",
        "\n",
        "    print('\\nMaxium test accuracy: {:.2f}, Achieved in epoch: {}, Max Train accuracy : {:.2f}, Achieved in epoch : {}\\n'.format(\n",
        "           max(test_acc),  np.argmax(test_acc) , max(train_acc_epoch), np.argmax(train_acc_epoch)))   \n"
      ],
      "execution_count": 0,
      "outputs": [
        {
          "output_type": "stream",
          "text": [
            "\r  0%|          | 0/469 [00:00<?, ?it/s]"
          ],
          "name": "stderr"
        },
        {
          "output_type": "stream",
          "text": [
            "L1_Factor : 0 L2_factor : 0\n",
            "EPOCH: 0\n"
          ],
          "name": "stdout"
        },
        {
          "output_type": "stream",
          "text": [
            "Loss=0.14957933127880096 Batch_id=468 Train Accuracy=91.66: 100%|██████████| 469/469 [00:22<00:00, 20.42it/s]\n",
            "  0%|          | 0/469 [00:00<?, ?it/s]"
          ],
          "name": "stderr"
        },
        {
          "output_type": "stream",
          "text": [
            "\n",
            "Test set: Average loss: 0.0568, Test Accuracy: 9837/10000 (98.37%)\n",
            "\n",
            "EPOCH: 1\n"
          ],
          "name": "stdout"
        },
        {
          "output_type": "stream",
          "text": [
            "Loss=0.04168619215488434 Batch_id=468 Train Accuracy=97.95: 100%|██████████| 469/469 [00:22<00:00, 20.88it/s]\n",
            "  0%|          | 0/469 [00:00<?, ?it/s]"
          ],
          "name": "stderr"
        },
        {
          "output_type": "stream",
          "text": [
            "\n",
            "Test set: Average loss: 0.0370, Test Accuracy: 9889/10000 (98.89%)\n",
            "\n",
            "EPOCH: 2\n"
          ],
          "name": "stdout"
        },
        {
          "output_type": "stream",
          "text": [
            "Loss=0.05219123139977455 Batch_id=468 Train Accuracy=98.47: 100%|██████████| 469/469 [00:22<00:00, 20.70it/s]\n",
            "  0%|          | 0/469 [00:00<?, ?it/s]"
          ],
          "name": "stderr"
        },
        {
          "output_type": "stream",
          "text": [
            "\n",
            "Test set: Average loss: 0.0413, Test Accuracy: 9881/10000 (98.81%)\n",
            "\n",
            "EPOCH: 3\n"
          ],
          "name": "stdout"
        },
        {
          "output_type": "stream",
          "text": [
            "Loss=0.04657415673136711 Batch_id=468 Train Accuracy=98.59: 100%|██████████| 469/469 [00:22<00:00, 20.90it/s]\n",
            "  0%|          | 0/469 [00:00<?, ?it/s]"
          ],
          "name": "stderr"
        },
        {
          "output_type": "stream",
          "text": [
            "\n",
            "Test set: Average loss: 0.0312, Test Accuracy: 9896/10000 (98.96%)\n",
            "\n",
            "EPOCH: 4\n"
          ],
          "name": "stdout"
        },
        {
          "output_type": "stream",
          "text": [
            "Loss=0.007946004159748554 Batch_id=468 Train Accuracy=98.82: 100%|██████████| 469/469 [00:22<00:00, 21.05it/s]\n",
            "  0%|          | 0/469 [00:00<?, ?it/s]"
          ],
          "name": "stderr"
        },
        {
          "output_type": "stream",
          "text": [
            "\n",
            "Test set: Average loss: 0.0252, Test Accuracy: 9918/10000 (99.18%)\n",
            "\n",
            "EPOCH: 5\n"
          ],
          "name": "stdout"
        },
        {
          "output_type": "stream",
          "text": [
            "Loss=0.05316543951630592 Batch_id=468 Train Accuracy=98.80: 100%|██████████| 469/469 [00:21<00:00, 21.37it/s]\n",
            "  0%|          | 0/469 [00:00<?, ?it/s]"
          ],
          "name": "stderr"
        },
        {
          "output_type": "stream",
          "text": [
            "\n",
            "Test set: Average loss: 0.0230, Test Accuracy: 9928/10000 (99.28%)\n",
            "\n",
            "EPOCH: 6\n"
          ],
          "name": "stdout"
        },
        {
          "output_type": "stream",
          "text": [
            "Loss=0.021016612648963928 Batch_id=468 Train Accuracy=98.98: 100%|██████████| 469/469 [00:21<00:00, 21.50it/s]\n",
            "  0%|          | 0/469 [00:00<?, ?it/s]"
          ],
          "name": "stderr"
        },
        {
          "output_type": "stream",
          "text": [
            "\n",
            "Test set: Average loss: 0.0217, Test Accuracy: 9938/10000 (99.38%)\n",
            "\n",
            "EPOCH: 7\n"
          ],
          "name": "stdout"
        },
        {
          "output_type": "stream",
          "text": [
            "Loss=0.01435686182230711 Batch_id=468 Train Accuracy=98.97: 100%|██████████| 469/469 [00:21<00:00, 21.44it/s]\n",
            "  0%|          | 0/469 [00:00<?, ?it/s]"
          ],
          "name": "stderr"
        },
        {
          "output_type": "stream",
          "text": [
            "\n",
            "Test set: Average loss: 0.0215, Test Accuracy: 9924/10000 (99.24%)\n",
            "\n",
            "EPOCH: 8\n"
          ],
          "name": "stdout"
        },
        {
          "output_type": "stream",
          "text": [
            "Loss=0.08309020102024078 Batch_id=468 Train Accuracy=99.05: 100%|██████████| 469/469 [00:21<00:00, 21.90it/s]\n",
            "  0%|          | 0/469 [00:00<?, ?it/s]"
          ],
          "name": "stderr"
        },
        {
          "output_type": "stream",
          "text": [
            "\n",
            "Test set: Average loss: 0.0225, Test Accuracy: 9922/10000 (99.22%)\n",
            "\n",
            "EPOCH: 9\n"
          ],
          "name": "stdout"
        },
        {
          "output_type": "stream",
          "text": [
            "Loss=0.04180857539176941 Batch_id=468 Train Accuracy=99.03: 100%|██████████| 469/469 [00:21<00:00, 21.58it/s]\n",
            "  0%|          | 0/469 [00:00<?, ?it/s]"
          ],
          "name": "stderr"
        },
        {
          "output_type": "stream",
          "text": [
            "\n",
            "Test set: Average loss: 0.0198, Test Accuracy: 9940/10000 (99.40%)\n",
            "\n",
            "EPOCH: 10\n"
          ],
          "name": "stdout"
        },
        {
          "output_type": "stream",
          "text": [
            "Loss=0.0778084322810173 Batch_id=468 Train Accuracy=99.10: 100%|██████████| 469/469 [00:21<00:00, 21.88it/s]\n",
            "  0%|          | 0/469 [00:00<?, ?it/s]"
          ],
          "name": "stderr"
        },
        {
          "output_type": "stream",
          "text": [
            "\n",
            "Test set: Average loss: 0.0205, Test Accuracy: 9935/10000 (99.35%)\n",
            "\n",
            "EPOCH: 11\n"
          ],
          "name": "stdout"
        },
        {
          "output_type": "stream",
          "text": [
            "Loss=0.019840911030769348 Batch_id=468 Train Accuracy=99.19: 100%|██████████| 469/469 [00:21<00:00, 21.71it/s]\n",
            "  0%|          | 0/469 [00:00<?, ?it/s]"
          ],
          "name": "stderr"
        },
        {
          "output_type": "stream",
          "text": [
            "\n",
            "Test set: Average loss: 0.0201, Test Accuracy: 9934/10000 (99.34%)\n",
            "\n",
            "EPOCH: 12\n"
          ],
          "name": "stdout"
        },
        {
          "output_type": "stream",
          "text": [
            "Loss=0.007930045016109943 Batch_id=468 Train Accuracy=99.15: 100%|██████████| 469/469 [00:21<00:00, 21.61it/s]\n",
            "  0%|          | 0/469 [00:00<?, ?it/s]"
          ],
          "name": "stderr"
        },
        {
          "output_type": "stream",
          "text": [
            "\n",
            "Test set: Average loss: 0.0224, Test Accuracy: 9929/10000 (99.29%)\n",
            "\n",
            "EPOCH: 13\n"
          ],
          "name": "stdout"
        },
        {
          "output_type": "stream",
          "text": [
            "Loss=0.009087547659873962 Batch_id=468 Train Accuracy=99.15: 100%|██████████| 469/469 [00:21<00:00, 21.86it/s]\n",
            "  0%|          | 0/469 [00:00<?, ?it/s]"
          ],
          "name": "stderr"
        },
        {
          "output_type": "stream",
          "text": [
            "\n",
            "Test set: Average loss: 0.0223, Test Accuracy: 9933/10000 (99.33%)\n",
            "\n",
            "EPOCH: 14\n"
          ],
          "name": "stdout"
        },
        {
          "output_type": "stream",
          "text": [
            "Loss=0.0028951962012797594 Batch_id=468 Train Accuracy=99.23: 100%|██████████| 469/469 [00:21<00:00, 21.99it/s]\n",
            "  0%|          | 0/469 [00:00<?, ?it/s]"
          ],
          "name": "stderr"
        },
        {
          "output_type": "stream",
          "text": [
            "\n",
            "Test set: Average loss: 0.0223, Test Accuracy: 9931/10000 (99.31%)\n",
            "\n",
            "EPOCH: 15\n"
          ],
          "name": "stdout"
        },
        {
          "output_type": "stream",
          "text": [
            "Loss=0.0061874911189079285 Batch_id=468 Train Accuracy=99.23: 100%|██████████| 469/469 [00:21<00:00, 22.31it/s]\n",
            "  0%|          | 0/469 [00:00<?, ?it/s]"
          ],
          "name": "stderr"
        },
        {
          "output_type": "stream",
          "text": [
            "\n",
            "Test set: Average loss: 0.0212, Test Accuracy: 9932/10000 (99.32%)\n",
            "\n",
            "EPOCH: 16\n"
          ],
          "name": "stdout"
        },
        {
          "output_type": "stream",
          "text": [
            "Loss=0.003804728388786316 Batch_id=468 Train Accuracy=99.22: 100%|██████████| 469/469 [00:21<00:00, 22.21it/s]\n",
            "  0%|          | 0/469 [00:00<?, ?it/s]"
          ],
          "name": "stderr"
        },
        {
          "output_type": "stream",
          "text": [
            "\n",
            "Test set: Average loss: 0.0214, Test Accuracy: 9935/10000 (99.35%)\n",
            "\n",
            "EPOCH: 17\n"
          ],
          "name": "stdout"
        },
        {
          "output_type": "stream",
          "text": [
            "Loss=0.007757887244224548 Batch_id=468 Train Accuracy=99.27: 100%|██████████| 469/469 [00:21<00:00, 22.05it/s]\n",
            "  0%|          | 0/469 [00:00<?, ?it/s]"
          ],
          "name": "stderr"
        },
        {
          "output_type": "stream",
          "text": [
            "\n",
            "Test set: Average loss: 0.0197, Test Accuracy: 9933/10000 (99.33%)\n",
            "\n",
            "EPOCH: 18\n"
          ],
          "name": "stdout"
        },
        {
          "output_type": "stream",
          "text": [
            "Loss=0.014340718276798725 Batch_id=468 Train Accuracy=99.24: 100%|██████████| 469/469 [00:20<00:00, 22.80it/s]\n",
            "  0%|          | 0/469 [00:00<?, ?it/s]"
          ],
          "name": "stderr"
        },
        {
          "output_type": "stream",
          "text": [
            "\n",
            "Test set: Average loss: 0.0200, Test Accuracy: 9938/10000 (99.38%)\n",
            "\n",
            "EPOCH: 19\n"
          ],
          "name": "stdout"
        },
        {
          "output_type": "stream",
          "text": [
            "Loss=0.08574358373880386 Batch_id=468 Train Accuracy=99.24: 100%|██████████| 469/469 [00:20<00:00, 28.71it/s]\n",
            "  0%|          | 0/469 [00:00<?, ?it/s]"
          ],
          "name": "stderr"
        },
        {
          "output_type": "stream",
          "text": [
            "\n",
            "Test set: Average loss: 0.0204, Test Accuracy: 9929/10000 (99.29%)\n",
            "\n",
            "EPOCH: 20\n"
          ],
          "name": "stdout"
        },
        {
          "output_type": "stream",
          "text": [
            "Loss=0.01731359399855137 Batch_id=468 Train Accuracy=99.28: 100%|██████████| 469/469 [00:21<00:00, 22.21it/s]\n",
            "  0%|          | 0/469 [00:00<?, ?it/s]"
          ],
          "name": "stderr"
        },
        {
          "output_type": "stream",
          "text": [
            "\n",
            "Test set: Average loss: 0.0217, Test Accuracy: 9927/10000 (99.27%)\n",
            "\n",
            "EPOCH: 21\n"
          ],
          "name": "stdout"
        },
        {
          "output_type": "stream",
          "text": [
            "Loss=0.03752005100250244 Batch_id=468 Train Accuracy=99.33: 100%|██████████| 469/469 [00:20<00:00, 22.42it/s]\n",
            "  0%|          | 0/469 [00:00<?, ?it/s]"
          ],
          "name": "stderr"
        },
        {
          "output_type": "stream",
          "text": [
            "\n",
            "Test set: Average loss: 0.0211, Test Accuracy: 9933/10000 (99.33%)\n",
            "\n",
            "EPOCH: 22\n"
          ],
          "name": "stdout"
        },
        {
          "output_type": "stream",
          "text": [
            "Loss=0.00480043375864625 Batch_id=468 Train Accuracy=99.33: 100%|██████████| 469/469 [00:21<00:00, 22.13it/s]\n",
            "  0%|          | 0/469 [00:00<?, ?it/s]"
          ],
          "name": "stderr"
        },
        {
          "output_type": "stream",
          "text": [
            "\n",
            "Test set: Average loss: 0.0186, Test Accuracy: 9945/10000 (99.45%)\n",
            "\n",
            "EPOCH: 23\n"
          ],
          "name": "stdout"
        },
        {
          "output_type": "stream",
          "text": [
            "Loss=0.008958190679550171 Batch_id=468 Train Accuracy=99.30: 100%|██████████| 469/469 [00:21<00:00, 22.26it/s]\n",
            "  0%|          | 0/469 [00:00<?, ?it/s]"
          ],
          "name": "stderr"
        },
        {
          "output_type": "stream",
          "text": [
            "\n",
            "Test set: Average loss: 0.0205, Test Accuracy: 9931/10000 (99.31%)\n",
            "\n",
            "EPOCH: 24\n"
          ],
          "name": "stdout"
        },
        {
          "output_type": "stream",
          "text": [
            "Loss=0.072562076151371 Batch_id=468 Train Accuracy=99.34: 100%|██████████| 469/469 [00:21<00:00, 26.63it/s]\n",
            "  0%|          | 0/469 [00:00<?, ?it/s]"
          ],
          "name": "stderr"
        },
        {
          "output_type": "stream",
          "text": [
            "\n",
            "Test set: Average loss: 0.0179, Test Accuracy: 9939/10000 (99.39%)\n",
            "\n",
            "EPOCH: 25\n"
          ],
          "name": "stdout"
        },
        {
          "output_type": "stream",
          "text": [
            "Loss=0.0039421021938323975 Batch_id=468 Train Accuracy=99.37: 100%|██████████| 469/469 [00:21<00:00, 22.16it/s]\n",
            "  0%|          | 0/469 [00:00<?, ?it/s]"
          ],
          "name": "stderr"
        },
        {
          "output_type": "stream",
          "text": [
            "\n",
            "Test set: Average loss: 0.0185, Test Accuracy: 9947/10000 (99.47%)\n",
            "\n",
            "EPOCH: 26\n"
          ],
          "name": "stdout"
        },
        {
          "output_type": "stream",
          "text": [
            "Loss=0.001300280331633985 Batch_id=468 Train Accuracy=99.37: 100%|██████████| 469/469 [00:20<00:00, 22.84it/s]\n",
            "  0%|          | 0/469 [00:00<?, ?it/s]"
          ],
          "name": "stderr"
        },
        {
          "output_type": "stream",
          "text": [
            "\n",
            "Test set: Average loss: 0.0192, Test Accuracy: 9943/10000 (99.43%)\n",
            "\n",
            "EPOCH: 27\n"
          ],
          "name": "stdout"
        },
        {
          "output_type": "stream",
          "text": [
            "Loss=0.022244803607463837 Batch_id=468 Train Accuracy=99.37: 100%|██████████| 469/469 [00:21<00:00, 22.20it/s]\n",
            "  0%|          | 0/469 [00:00<?, ?it/s]"
          ],
          "name": "stderr"
        },
        {
          "output_type": "stream",
          "text": [
            "\n",
            "Test set: Average loss: 0.0190, Test Accuracy: 9935/10000 (99.35%)\n",
            "\n",
            "EPOCH: 28\n"
          ],
          "name": "stdout"
        },
        {
          "output_type": "stream",
          "text": [
            "Loss=0.02773278020322323 Batch_id=468 Train Accuracy=99.40: 100%|██████████| 469/469 [00:21<00:00, 27.56it/s]\n",
            "  0%|          | 0/469 [00:00<?, ?it/s]"
          ],
          "name": "stderr"
        },
        {
          "output_type": "stream",
          "text": [
            "\n",
            "Test set: Average loss: 0.0186, Test Accuracy: 9944/10000 (99.44%)\n",
            "\n",
            "EPOCH: 29\n"
          ],
          "name": "stdout"
        },
        {
          "output_type": "stream",
          "text": [
            "Loss=0.011786033399403095 Batch_id=468 Train Accuracy=99.41: 100%|██████████| 469/469 [00:20<00:00, 22.43it/s]\n",
            "  0%|          | 0/469 [00:00<?, ?it/s]"
          ],
          "name": "stderr"
        },
        {
          "output_type": "stream",
          "text": [
            "\n",
            "Test set: Average loss: 0.0201, Test Accuracy: 9935/10000 (99.35%)\n",
            "\n",
            "EPOCH: 30\n"
          ],
          "name": "stdout"
        },
        {
          "output_type": "stream",
          "text": [
            "Loss=0.05687035620212555 Batch_id=468 Train Accuracy=99.34: 100%|██████████| 469/469 [00:20<00:00, 22.65it/s]\n",
            "  0%|          | 0/469 [00:00<?, ?it/s]"
          ],
          "name": "stderr"
        },
        {
          "output_type": "stream",
          "text": [
            "\n",
            "Test set: Average loss: 0.0205, Test Accuracy: 9935/10000 (99.35%)\n",
            "\n",
            "EPOCH: 31\n"
          ],
          "name": "stdout"
        },
        {
          "output_type": "stream",
          "text": [
            "Loss=0.010410964488983154 Batch_id=468 Train Accuracy=99.39: 100%|██████████| 469/469 [00:20<00:00, 22.62it/s]\n",
            "  0%|          | 0/469 [00:00<?, ?it/s]"
          ],
          "name": "stderr"
        },
        {
          "output_type": "stream",
          "text": [
            "\n",
            "Test set: Average loss: 0.0206, Test Accuracy: 9941/10000 (99.41%)\n",
            "\n",
            "EPOCH: 32\n"
          ],
          "name": "stdout"
        },
        {
          "output_type": "stream",
          "text": [
            "Loss=0.008290340192615986 Batch_id=468 Train Accuracy=99.42: 100%|██████████| 469/469 [00:20<00:00, 23.14it/s]\n",
            "  0%|          | 0/469 [00:00<?, ?it/s]"
          ],
          "name": "stderr"
        },
        {
          "output_type": "stream",
          "text": [
            "\n",
            "Test set: Average loss: 0.0188, Test Accuracy: 9939/10000 (99.39%)\n",
            "\n",
            "EPOCH: 33\n"
          ],
          "name": "stdout"
        },
        {
          "output_type": "stream",
          "text": [
            "Loss=0.0012304186820983887 Batch_id=468 Train Accuracy=99.47: 100%|██████████| 469/469 [00:20<00:00, 22.68it/s]\n",
            "  0%|          | 0/469 [00:00<?, ?it/s]"
          ],
          "name": "stderr"
        },
        {
          "output_type": "stream",
          "text": [
            "\n",
            "Test set: Average loss: 0.0195, Test Accuracy: 9944/10000 (99.44%)\n",
            "\n",
            "EPOCH: 34\n"
          ],
          "name": "stdout"
        },
        {
          "output_type": "stream",
          "text": [
            "Loss=0.006689086556434631 Batch_id=468 Train Accuracy=99.44: 100%|██████████| 469/469 [00:20<00:00, 23.38it/s]\n",
            "  0%|          | 0/469 [00:00<?, ?it/s]"
          ],
          "name": "stderr"
        },
        {
          "output_type": "stream",
          "text": [
            "\n",
            "Test set: Average loss: 0.0200, Test Accuracy: 9940/10000 (99.40%)\n",
            "\n",
            "EPOCH: 35\n"
          ],
          "name": "stdout"
        },
        {
          "output_type": "stream",
          "text": [
            "Loss=0.012893582694232464 Batch_id=468 Train Accuracy=99.47: 100%|██████████| 469/469 [00:20<00:00, 22.51it/s]\n",
            "  0%|          | 0/469 [00:00<?, ?it/s]"
          ],
          "name": "stderr"
        },
        {
          "output_type": "stream",
          "text": [
            "\n",
            "Test set: Average loss: 0.0198, Test Accuracy: 9934/10000 (99.34%)\n",
            "\n",
            "EPOCH: 36\n"
          ],
          "name": "stdout"
        },
        {
          "output_type": "stream",
          "text": [
            "Loss=0.0020259320735931396 Batch_id=468 Train Accuracy=99.47: 100%|██████████| 469/469 [00:20<00:00, 22.87it/s]\n",
            "  0%|          | 0/469 [00:00<?, ?it/s]"
          ],
          "name": "stderr"
        },
        {
          "output_type": "stream",
          "text": [
            "\n",
            "Test set: Average loss: 0.0184, Test Accuracy: 9941/10000 (99.41%)\n",
            "\n",
            "EPOCH: 37\n"
          ],
          "name": "stdout"
        },
        {
          "output_type": "stream",
          "text": [
            "Loss=0.00847791600972414 Batch_id=468 Train Accuracy=99.49: 100%|██████████| 469/469 [00:20<00:00, 22.92it/s]\n",
            "  0%|          | 0/469 [00:00<?, ?it/s]"
          ],
          "name": "stderr"
        },
        {
          "output_type": "stream",
          "text": [
            "\n",
            "Test set: Average loss: 0.0197, Test Accuracy: 9938/10000 (99.38%)\n",
            "\n",
            "EPOCH: 38\n"
          ],
          "name": "stdout"
        },
        {
          "output_type": "stream",
          "text": [
            "Loss=0.004702831152826548 Batch_id=468 Train Accuracy=99.45: 100%|██████████| 469/469 [00:20<00:00, 23.17it/s]\n",
            "  0%|          | 0/469 [00:00<?, ?it/s]"
          ],
          "name": "stderr"
        },
        {
          "output_type": "stream",
          "text": [
            "\n",
            "Test set: Average loss: 0.0192, Test Accuracy: 9944/10000 (99.44%)\n",
            "\n",
            "EPOCH: 39\n"
          ],
          "name": "stdout"
        },
        {
          "output_type": "stream",
          "text": [
            "Loss=0.048143479973077774 Batch_id=468 Train Accuracy=99.44: 100%|██████████| 469/469 [00:20<00:00, 22.87it/s]\n"
          ],
          "name": "stderr"
        },
        {
          "output_type": "stream",
          "text": [
            "\n",
            "Test set: Average loss: 0.0189, Test Accuracy: 9940/10000 (99.40%)\n",
            "\n",
            "\n",
            "Maxium test accuracy: 99.47, Achieved in epoch: 25, Max Train accuracy : 99.49, Achieved in epoch : 37\n",
            "\n",
            "L1_Factor : 0.001 L2_factor : 0\n"
          ],
          "name": "stdout"
        },
        {
          "output_type": "stream",
          "text": [
            "\r  0%|          | 0/469 [00:00<?, ?it/s]"
          ],
          "name": "stderr"
        },
        {
          "output_type": "stream",
          "text": [
            "EPOCH: 0\n"
          ],
          "name": "stdout"
        },
        {
          "output_type": "stream",
          "text": [
            "Loss=0.06792976707220078 Batch_id=468 Train Accuracy=91.96: 100%|██████████| 469/469 [00:20<00:00, 23.16it/s]\n",
            "  0%|          | 0/469 [00:00<?, ?it/s]"
          ],
          "name": "stderr"
        },
        {
          "output_type": "stream",
          "text": [
            "\n",
            "Test set: Average loss: 0.0481, Test Accuracy: 9873/10000 (98.73%)\n",
            "\n",
            "EPOCH: 1\n"
          ],
          "name": "stdout"
        },
        {
          "output_type": "stream",
          "text": [
            "Loss=0.10919225960969925 Batch_id=468 Train Accuracy=98.19: 100%|██████████| 469/469 [00:20<00:00, 22.79it/s]\n",
            "  0%|          | 0/469 [00:00<?, ?it/s]"
          ],
          "name": "stderr"
        },
        {
          "output_type": "stream",
          "text": [
            "\n",
            "Test set: Average loss: 0.0386, Test Accuracy: 9881/10000 (98.81%)\n",
            "\n",
            "EPOCH: 2\n"
          ],
          "name": "stdout"
        },
        {
          "output_type": "stream",
          "text": [
            "Loss=0.054118670523166656 Batch_id=468 Train Accuracy=98.52: 100%|██████████| 469/469 [00:20<00:00, 22.83it/s]\n",
            "  0%|          | 0/469 [00:00<?, ?it/s]"
          ],
          "name": "stderr"
        },
        {
          "output_type": "stream",
          "text": [
            "\n",
            "Test set: Average loss: 0.0334, Test Accuracy: 9902/10000 (99.02%)\n",
            "\n",
            "EPOCH: 3\n"
          ],
          "name": "stdout"
        },
        {
          "output_type": "stream",
          "text": [
            "Loss=0.11127287149429321 Batch_id=468 Train Accuracy=98.61: 100%|██████████| 469/469 [00:20<00:00, 22.36it/s]\n",
            "  0%|          | 0/469 [00:00<?, ?it/s]"
          ],
          "name": "stderr"
        },
        {
          "output_type": "stream",
          "text": [
            "\n",
            "Test set: Average loss: 0.0269, Test Accuracy: 9912/10000 (99.12%)\n",
            "\n",
            "EPOCH: 4\n"
          ],
          "name": "stdout"
        },
        {
          "output_type": "stream",
          "text": [
            "Loss=0.02432667277753353 Batch_id=468 Train Accuracy=98.79: 100%|██████████| 469/469 [00:20<00:00, 22.51it/s]\n",
            "  0%|          | 0/469 [00:00<?, ?it/s]"
          ],
          "name": "stderr"
        },
        {
          "output_type": "stream",
          "text": [
            "\n",
            "Test set: Average loss: 0.0334, Test Accuracy: 9896/10000 (98.96%)\n",
            "\n",
            "EPOCH: 5\n"
          ],
          "name": "stdout"
        },
        {
          "output_type": "stream",
          "text": [
            "Loss=0.05357769504189491 Batch_id=468 Train Accuracy=98.90: 100%|██████████| 469/469 [00:20<00:00, 23.32it/s]\n",
            "  0%|          | 0/469 [00:00<?, ?it/s]"
          ],
          "name": "stderr"
        },
        {
          "output_type": "stream",
          "text": [
            "\n",
            "Test set: Average loss: 0.0304, Test Accuracy: 9908/10000 (99.08%)\n",
            "\n",
            "EPOCH: 6\n"
          ],
          "name": "stdout"
        },
        {
          "output_type": "stream",
          "text": [
            "Loss=0.015482636168599129 Batch_id=468 Train Accuracy=98.94: 100%|██████████| 469/469 [00:20<00:00, 22.46it/s]\n",
            "  0%|          | 0/469 [00:00<?, ?it/s]"
          ],
          "name": "stderr"
        },
        {
          "output_type": "stream",
          "text": [
            "\n",
            "Test set: Average loss: 0.0254, Test Accuracy: 9914/10000 (99.14%)\n",
            "\n",
            "EPOCH: 7\n"
          ],
          "name": "stdout"
        },
        {
          "output_type": "stream",
          "text": [
            "Loss=0.01624773070216179 Batch_id=468 Train Accuracy=99.00: 100%|██████████| 469/469 [00:20<00:00, 22.82it/s]\n",
            "  0%|          | 0/469 [00:00<?, ?it/s]"
          ],
          "name": "stderr"
        },
        {
          "output_type": "stream",
          "text": [
            "\n",
            "Test set: Average loss: 0.0238, Test Accuracy: 9923/10000 (99.23%)\n",
            "\n",
            "EPOCH: 8\n"
          ],
          "name": "stdout"
        },
        {
          "output_type": "stream",
          "text": [
            "Loss=0.03711816668510437 Batch_id=468 Train Accuracy=98.98: 100%|██████████| 469/469 [00:20<00:00, 22.92it/s]\n",
            "  0%|          | 0/469 [00:00<?, ?it/s]"
          ],
          "name": "stderr"
        },
        {
          "output_type": "stream",
          "text": [
            "\n",
            "Test set: Average loss: 0.0257, Test Accuracy: 9912/10000 (99.12%)\n",
            "\n",
            "EPOCH: 9\n"
          ],
          "name": "stdout"
        },
        {
          "output_type": "stream",
          "text": [
            "Loss=0.05473122000694275 Batch_id=468 Train Accuracy=99.13: 100%|██████████| 469/469 [00:20<00:00, 22.92it/s]\n",
            "  0%|          | 0/469 [00:00<?, ?it/s]"
          ],
          "name": "stderr"
        },
        {
          "output_type": "stream",
          "text": [
            "\n",
            "Test set: Average loss: 0.0230, Test Accuracy: 9918/10000 (99.18%)\n",
            "\n",
            "EPOCH: 10\n"
          ],
          "name": "stdout"
        },
        {
          "output_type": "stream",
          "text": [
            "Loss=0.031870853155851364 Batch_id=468 Train Accuracy=99.11: 100%|██████████| 469/469 [00:20<00:00, 22.74it/s]\n",
            "  0%|          | 0/469 [00:00<?, ?it/s]"
          ],
          "name": "stderr"
        },
        {
          "output_type": "stream",
          "text": [
            "\n",
            "Test set: Average loss: 0.0287, Test Accuracy: 9908/10000 (99.08%)\n",
            "\n",
            "EPOCH: 11\n"
          ],
          "name": "stdout"
        },
        {
          "output_type": "stream",
          "text": [
            "Loss=0.015199238434433937 Batch_id=468 Train Accuracy=99.15: 100%|██████████| 469/469 [00:20<00:00, 23.24it/s]\n",
            "  0%|          | 0/469 [00:00<?, ?it/s]"
          ],
          "name": "stderr"
        },
        {
          "output_type": "stream",
          "text": [
            "\n",
            "Test set: Average loss: 0.0225, Test Accuracy: 9925/10000 (99.25%)\n",
            "\n",
            "EPOCH: 12\n"
          ],
          "name": "stdout"
        },
        {
          "output_type": "stream",
          "text": [
            "Loss=0.013311373069882393 Batch_id=468 Train Accuracy=99.19: 100%|██████████| 469/469 [00:20<00:00, 23.00it/s]\n",
            "  0%|          | 0/469 [00:00<?, ?it/s]"
          ],
          "name": "stderr"
        },
        {
          "output_type": "stream",
          "text": [
            "\n",
            "Test set: Average loss: 0.0216, Test Accuracy: 9922/10000 (99.22%)\n",
            "\n",
            "EPOCH: 13\n"
          ],
          "name": "stdout"
        },
        {
          "output_type": "stream",
          "text": [
            "Loss=0.03386809304356575 Batch_id=468 Train Accuracy=99.12: 100%|██████████| 469/469 [00:20<00:00, 23.04it/s]\n",
            "  0%|          | 0/469 [00:00<?, ?it/s]"
          ],
          "name": "stderr"
        },
        {
          "output_type": "stream",
          "text": [
            "\n",
            "Test set: Average loss: 0.0211, Test Accuracy: 9928/10000 (99.28%)\n",
            "\n",
            "EPOCH: 14\n"
          ],
          "name": "stdout"
        },
        {
          "output_type": "stream",
          "text": [
            "Loss=0.013087579049170017 Batch_id=468 Train Accuracy=99.25: 100%|██████████| 469/469 [00:20<00:00, 22.98it/s]\n",
            "  0%|          | 0/469 [00:00<?, ?it/s]"
          ],
          "name": "stderr"
        },
        {
          "output_type": "stream",
          "text": [
            "\n",
            "Test set: Average loss: 0.0219, Test Accuracy: 9933/10000 (99.33%)\n",
            "\n",
            "EPOCH: 15\n"
          ],
          "name": "stdout"
        },
        {
          "output_type": "stream",
          "text": [
            "Loss=0.09147600084543228 Batch_id=468 Train Accuracy=99.25: 100%|██████████| 469/469 [00:20<00:00, 22.96it/s]\n",
            "  0%|          | 0/469 [00:00<?, ?it/s]"
          ],
          "name": "stderr"
        },
        {
          "output_type": "stream",
          "text": [
            "\n",
            "Test set: Average loss: 0.0231, Test Accuracy: 9932/10000 (99.32%)\n",
            "\n",
            "EPOCH: 16\n"
          ],
          "name": "stdout"
        },
        {
          "output_type": "stream",
          "text": [
            "Loss=0.03226539492607117 Batch_id=468 Train Accuracy=99.29: 100%|██████████| 469/469 [00:19<00:00, 23.58it/s]\n",
            "  0%|          | 0/469 [00:00<?, ?it/s]"
          ],
          "name": "stderr"
        },
        {
          "output_type": "stream",
          "text": [
            "\n",
            "Test set: Average loss: 0.0201, Test Accuracy: 9935/10000 (99.35%)\n",
            "\n",
            "EPOCH: 17\n"
          ],
          "name": "stdout"
        },
        {
          "output_type": "stream",
          "text": [
            "Loss=0.022909656167030334 Batch_id=468 Train Accuracy=99.21: 100%|██████████| 469/469 [00:20<00:00, 22.59it/s]\n",
            "  0%|          | 0/469 [00:00<?, ?it/s]"
          ],
          "name": "stderr"
        },
        {
          "output_type": "stream",
          "text": [
            "\n",
            "Test set: Average loss: 0.0198, Test Accuracy: 9935/10000 (99.35%)\n",
            "\n",
            "EPOCH: 18\n"
          ],
          "name": "stdout"
        },
        {
          "output_type": "stream",
          "text": [
            "Loss=0.015538974665105343 Batch_id=468 Train Accuracy=99.28: 100%|██████████| 469/469 [00:20<00:00, 22.90it/s]\n",
            "  0%|          | 0/469 [00:00<?, ?it/s]"
          ],
          "name": "stderr"
        },
        {
          "output_type": "stream",
          "text": [
            "\n",
            "Test set: Average loss: 0.0213, Test Accuracy: 9930/10000 (99.30%)\n",
            "\n",
            "EPOCH: 19\n"
          ],
          "name": "stdout"
        },
        {
          "output_type": "stream",
          "text": [
            "Loss=0.02723189815878868 Batch_id=468 Train Accuracy=99.29: 100%|██████████| 469/469 [00:20<00:00, 28.45it/s]\n",
            "  0%|          | 0/469 [00:00<?, ?it/s]"
          ],
          "name": "stderr"
        },
        {
          "output_type": "stream",
          "text": [
            "\n",
            "Test set: Average loss: 0.0191, Test Accuracy: 9939/10000 (99.39%)\n",
            "\n",
            "EPOCH: 20\n"
          ],
          "name": "stdout"
        },
        {
          "output_type": "stream",
          "text": [
            "Loss=0.02172345481812954 Batch_id=468 Train Accuracy=99.26: 100%|██████████| 469/469 [00:20<00:00, 23.09it/s]\n",
            "  0%|          | 0/469 [00:00<?, ?it/s]"
          ],
          "name": "stderr"
        },
        {
          "output_type": "stream",
          "text": [
            "\n",
            "Test set: Average loss: 0.0198, Test Accuracy: 9935/10000 (99.35%)\n",
            "\n",
            "EPOCH: 21\n"
          ],
          "name": "stdout"
        },
        {
          "output_type": "stream",
          "text": [
            "Loss=0.0707305371761322 Batch_id=468 Train Accuracy=99.31: 100%|██████████| 469/469 [00:20<00:00, 22.73it/s]\n",
            "  0%|          | 0/469 [00:00<?, ?it/s]"
          ],
          "name": "stderr"
        },
        {
          "output_type": "stream",
          "text": [
            "\n",
            "Test set: Average loss: 0.0201, Test Accuracy: 9936/10000 (99.36%)\n",
            "\n",
            "EPOCH: 22\n"
          ],
          "name": "stdout"
        },
        {
          "output_type": "stream",
          "text": [
            "Loss=0.05342070758342743 Batch_id=468 Train Accuracy=99.31: 100%|██████████| 469/469 [00:19<00:00, 23.47it/s]\n",
            "  0%|          | 0/469 [00:00<?, ?it/s]"
          ],
          "name": "stderr"
        },
        {
          "output_type": "stream",
          "text": [
            "\n",
            "Test set: Average loss: 0.0182, Test Accuracy: 9935/10000 (99.35%)\n",
            "\n",
            "EPOCH: 23\n"
          ],
          "name": "stdout"
        },
        {
          "output_type": "stream",
          "text": [
            "Loss=0.009519519284367561 Batch_id=468 Train Accuracy=99.31: 100%|██████████| 469/469 [00:20<00:00, 22.90it/s]\n",
            "  0%|          | 0/469 [00:00<?, ?it/s]"
          ],
          "name": "stderr"
        },
        {
          "output_type": "stream",
          "text": [
            "\n",
            "Test set: Average loss: 0.0204, Test Accuracy: 9939/10000 (99.39%)\n",
            "\n",
            "EPOCH: 24\n"
          ],
          "name": "stdout"
        },
        {
          "output_type": "stream",
          "text": [
            "Loss=0.04368451610207558 Batch_id=468 Train Accuracy=99.30: 100%|██████████| 469/469 [00:20<00:00, 23.08it/s]\n",
            "  0%|          | 0/469 [00:00<?, ?it/s]"
          ],
          "name": "stderr"
        },
        {
          "output_type": "stream",
          "text": [
            "\n",
            "Test set: Average loss: 0.0175, Test Accuracy: 9941/10000 (99.41%)\n",
            "\n",
            "EPOCH: 25\n"
          ],
          "name": "stdout"
        },
        {
          "output_type": "stream",
          "text": [
            "Loss=0.026400554925203323 Batch_id=468 Train Accuracy=99.38: 100%|██████████| 469/469 [00:20<00:00, 22.67it/s]\n",
            "  0%|          | 0/469 [00:00<?, ?it/s]"
          ],
          "name": "stderr"
        },
        {
          "output_type": "stream",
          "text": [
            "\n",
            "Test set: Average loss: 0.0190, Test Accuracy: 9938/10000 (99.38%)\n",
            "\n",
            "EPOCH: 26\n"
          ],
          "name": "stdout"
        },
        {
          "output_type": "stream",
          "text": [
            "Loss=0.012716976925730705 Batch_id=468 Train Accuracy=99.37: 100%|██████████| 469/469 [00:20<00:00, 28.80it/s]\n",
            "  0%|          | 0/469 [00:00<?, ?it/s]"
          ],
          "name": "stderr"
        },
        {
          "output_type": "stream",
          "text": [
            "\n",
            "Test set: Average loss: 0.0204, Test Accuracy: 9936/10000 (99.36%)\n",
            "\n",
            "EPOCH: 27\n"
          ],
          "name": "stdout"
        },
        {
          "output_type": "stream",
          "text": [
            "Loss=0.010325625538825989 Batch_id=468 Train Accuracy=99.34: 100%|██████████| 469/469 [00:20<00:00, 23.29it/s]\n",
            "  0%|          | 0/469 [00:00<?, ?it/s]"
          ],
          "name": "stderr"
        },
        {
          "output_type": "stream",
          "text": [
            "\n",
            "Test set: Average loss: 0.0185, Test Accuracy: 9944/10000 (99.44%)\n",
            "\n",
            "EPOCH: 28\n"
          ],
          "name": "stdout"
        },
        {
          "output_type": "stream",
          "text": [
            "Loss=0.01605868712067604 Batch_id=468 Train Accuracy=99.39: 100%|██████████| 469/469 [00:20<00:00, 22.41it/s]\n",
            "  0%|          | 0/469 [00:00<?, ?it/s]"
          ],
          "name": "stderr"
        },
        {
          "output_type": "stream",
          "text": [
            "\n",
            "Test set: Average loss: 0.0173, Test Accuracy: 9945/10000 (99.45%)\n",
            "\n",
            "EPOCH: 29\n"
          ],
          "name": "stdout"
        },
        {
          "output_type": "stream",
          "text": [
            "Loss=0.009867513552308083 Batch_id=468 Train Accuracy=99.43: 100%|██████████| 469/469 [00:20<00:00, 22.66it/s]\n",
            "  0%|          | 0/469 [00:00<?, ?it/s]"
          ],
          "name": "stderr"
        },
        {
          "output_type": "stream",
          "text": [
            "\n",
            "Test set: Average loss: 0.0208, Test Accuracy: 9934/10000 (99.34%)\n",
            "\n",
            "EPOCH: 30\n"
          ],
          "name": "stdout"
        },
        {
          "output_type": "stream",
          "text": [
            "Loss=0.023796970024704933 Batch_id=468 Train Accuracy=99.42: 100%|██████████| 469/469 [00:20<00:00, 22.87it/s]\n",
            "  0%|          | 0/469 [00:00<?, ?it/s]"
          ],
          "name": "stderr"
        },
        {
          "output_type": "stream",
          "text": [
            "\n",
            "Test set: Average loss: 0.0181, Test Accuracy: 9934/10000 (99.34%)\n",
            "\n",
            "EPOCH: 31\n"
          ],
          "name": "stdout"
        },
        {
          "output_type": "stream",
          "text": [
            "Loss=0.010786631144583225 Batch_id=468 Train Accuracy=99.42: 100%|██████████| 469/469 [00:20<00:00, 23.07it/s]\n",
            "  0%|          | 0/469 [00:00<?, ?it/s]"
          ],
          "name": "stderr"
        },
        {
          "output_type": "stream",
          "text": [
            "\n",
            "Test set: Average loss: 0.0181, Test Accuracy: 9936/10000 (99.36%)\n",
            "\n",
            "EPOCH: 32\n"
          ],
          "name": "stdout"
        },
        {
          "output_type": "stream",
          "text": [
            "Loss=0.03742294758558273 Batch_id=468 Train Accuracy=99.39: 100%|██████████| 469/469 [00:20<00:00, 22.65it/s]\n",
            "  0%|          | 0/469 [00:00<?, ?it/s]"
          ],
          "name": "stderr"
        },
        {
          "output_type": "stream",
          "text": [
            "\n",
            "Test set: Average loss: 0.0185, Test Accuracy: 9940/10000 (99.40%)\n",
            "\n",
            "EPOCH: 33\n"
          ],
          "name": "stdout"
        },
        {
          "output_type": "stream",
          "text": [
            "Loss=0.015613693743944168 Batch_id=468 Train Accuracy=99.36: 100%|██████████| 469/469 [00:20<00:00, 23.36it/s]\n",
            "  0%|          | 0/469 [00:00<?, ?it/s]"
          ],
          "name": "stderr"
        },
        {
          "output_type": "stream",
          "text": [
            "\n",
            "Test set: Average loss: 0.0190, Test Accuracy: 9940/10000 (99.40%)\n",
            "\n",
            "EPOCH: 34\n"
          ],
          "name": "stdout"
        },
        {
          "output_type": "stream",
          "text": [
            "Loss=0.008476538583636284 Batch_id=468 Train Accuracy=99.39: 100%|██████████| 469/469 [00:20<00:00, 23.00it/s]\n",
            "  0%|          | 0/469 [00:00<?, ?it/s]"
          ],
          "name": "stderr"
        },
        {
          "output_type": "stream",
          "text": [
            "\n",
            "Test set: Average loss: 0.0194, Test Accuracy: 9941/10000 (99.41%)\n",
            "\n",
            "EPOCH: 35\n"
          ],
          "name": "stdout"
        },
        {
          "output_type": "stream",
          "text": [
            "Loss=0.01764802634716034 Batch_id=468 Train Accuracy=99.45: 100%|██████████| 469/469 [00:20<00:00, 22.96it/s]\n",
            "  0%|          | 0/469 [00:00<?, ?it/s]"
          ],
          "name": "stderr"
        },
        {
          "output_type": "stream",
          "text": [
            "\n",
            "Test set: Average loss: 0.0191, Test Accuracy: 9943/10000 (99.43%)\n",
            "\n",
            "EPOCH: 36\n"
          ],
          "name": "stdout"
        },
        {
          "output_type": "stream",
          "text": [
            "Loss=0.01254530344158411 Batch_id=468 Train Accuracy=99.42: 100%|██████████| 469/469 [00:20<00:00, 22.92it/s]\n",
            "  0%|          | 0/469 [00:00<?, ?it/s]"
          ],
          "name": "stderr"
        },
        {
          "output_type": "stream",
          "text": [
            "\n",
            "Test set: Average loss: 0.0170, Test Accuracy: 9941/10000 (99.41%)\n",
            "\n",
            "EPOCH: 37\n"
          ],
          "name": "stdout"
        },
        {
          "output_type": "stream",
          "text": [
            "Loss=0.008972897194325924 Batch_id=468 Train Accuracy=99.44: 100%|██████████| 469/469 [00:20<00:00, 22.77it/s]\n",
            "  0%|          | 0/469 [00:00<?, ?it/s]"
          ],
          "name": "stderr"
        },
        {
          "output_type": "stream",
          "text": [
            "\n",
            "Test set: Average loss: 0.0186, Test Accuracy: 9936/10000 (99.36%)\n",
            "\n",
            "EPOCH: 38\n"
          ],
          "name": "stdout"
        },
        {
          "output_type": "stream",
          "text": [
            "Loss=0.028770681470632553 Batch_id=468 Train Accuracy=99.46: 100%|██████████| 469/469 [00:19<00:00, 23.48it/s]\n",
            "  0%|          | 0/469 [00:00<?, ?it/s]"
          ],
          "name": "stderr"
        },
        {
          "output_type": "stream",
          "text": [
            "\n",
            "Test set: Average loss: 0.0186, Test Accuracy: 9941/10000 (99.41%)\n",
            "\n",
            "EPOCH: 39\n"
          ],
          "name": "stdout"
        },
        {
          "output_type": "stream",
          "text": [
            "Loss=0.05219465494155884 Batch_id=468 Train Accuracy=99.44: 100%|██████████| 469/469 [00:20<00:00, 22.56it/s]\n"
          ],
          "name": "stderr"
        },
        {
          "output_type": "stream",
          "text": [
            "\n",
            "Test set: Average loss: 0.0172, Test Accuracy: 9944/10000 (99.44%)\n",
            "\n",
            "\n",
            "Maxium test accuracy: 99.45, Achieved in epoch: 28, Max Train accuracy : 99.46, Achieved in epoch : 38\n",
            "\n",
            "L1_Factor : 0 L2_factor : 0.0005\n"
          ],
          "name": "stdout"
        },
        {
          "output_type": "stream",
          "text": [
            "\r  0%|          | 0/469 [00:00<?, ?it/s]"
          ],
          "name": "stderr"
        },
        {
          "output_type": "stream",
          "text": [
            "EPOCH: 0\n"
          ],
          "name": "stdout"
        },
        {
          "output_type": "stream",
          "text": [
            "Loss=0.08491402864456177 Batch_id=468 Train Accuracy=91.49: 100%|██████████| 469/469 [00:20<00:00, 22.51it/s]\n",
            "  0%|          | 0/469 [00:00<?, ?it/s]"
          ],
          "name": "stderr"
        },
        {
          "output_type": "stream",
          "text": [
            "\n",
            "Test set: Average loss: 0.0608, Test Accuracy: 9837/10000 (98.37%)\n",
            "\n",
            "EPOCH: 1\n"
          ],
          "name": "stdout"
        },
        {
          "output_type": "stream",
          "text": [
            "Loss=0.042081087827682495 Batch_id=468 Train Accuracy=97.98: 100%|██████████| 469/469 [00:20<00:00, 22.99it/s]\n",
            "  0%|          | 0/469 [00:00<?, ?it/s]"
          ],
          "name": "stderr"
        },
        {
          "output_type": "stream",
          "text": [
            "\n",
            "Test set: Average loss: 0.0387, Test Accuracy: 9895/10000 (98.95%)\n",
            "\n",
            "EPOCH: 2\n"
          ],
          "name": "stdout"
        },
        {
          "output_type": "stream",
          "text": [
            "Loss=0.09945378452539444 Batch_id=468 Train Accuracy=98.38: 100%|██████████| 469/469 [00:20<00:00, 22.68it/s]\n",
            "  0%|          | 0/469 [00:00<?, ?it/s]"
          ],
          "name": "stderr"
        },
        {
          "output_type": "stream",
          "text": [
            "\n",
            "Test set: Average loss: 0.0402, Test Accuracy: 9878/10000 (98.78%)\n",
            "\n",
            "EPOCH: 3\n"
          ],
          "name": "stdout"
        },
        {
          "output_type": "stream",
          "text": [
            "Loss=0.032966289669275284 Batch_id=468 Train Accuracy=98.52: 100%|██████████| 469/469 [00:20<00:00, 22.76it/s]\n",
            "  0%|          | 0/469 [00:00<?, ?it/s]"
          ],
          "name": "stderr"
        },
        {
          "output_type": "stream",
          "text": [
            "\n",
            "Test set: Average loss: 0.0406, Test Accuracy: 9887/10000 (98.87%)\n",
            "\n",
            "EPOCH: 4\n"
          ],
          "name": "stdout"
        },
        {
          "output_type": "stream",
          "text": [
            "Loss=0.021783500909805298 Batch_id=468 Train Accuracy=98.67: 100%|██████████| 469/469 [00:20<00:00, 23.20it/s]\n",
            "  0%|          | 0/469 [00:00<?, ?it/s]"
          ],
          "name": "stderr"
        },
        {
          "output_type": "stream",
          "text": [
            "\n",
            "Test set: Average loss: 0.0302, Test Accuracy: 9918/10000 (99.18%)\n",
            "\n",
            "EPOCH: 5\n"
          ],
          "name": "stdout"
        },
        {
          "output_type": "stream",
          "text": [
            "Loss=0.02384493499994278 Batch_id=468 Train Accuracy=98.78: 100%|██████████| 469/469 [00:20<00:00, 22.99it/s]\n",
            "  0%|          | 0/469 [00:00<?, ?it/s]"
          ],
          "name": "stderr"
        },
        {
          "output_type": "stream",
          "text": [
            "\n",
            "Test set: Average loss: 0.0414, Test Accuracy: 9888/10000 (98.88%)\n",
            "\n",
            "EPOCH: 6\n"
          ],
          "name": "stdout"
        },
        {
          "output_type": "stream",
          "text": [
            "Loss=0.02121562696993351 Batch_id=468 Train Accuracy=98.77: 100%|██████████| 469/469 [00:20<00:00, 22.89it/s]\n",
            "  0%|          | 0/469 [00:00<?, ?it/s]"
          ],
          "name": "stderr"
        },
        {
          "output_type": "stream",
          "text": [
            "\n",
            "Test set: Average loss: 0.0343, Test Accuracy: 9895/10000 (98.95%)\n",
            "\n",
            "EPOCH: 7\n"
          ],
          "name": "stdout"
        },
        {
          "output_type": "stream",
          "text": [
            "Loss=0.02731054089963436 Batch_id=468 Train Accuracy=98.86: 100%|██████████| 469/469 [00:20<00:00, 22.96it/s]\n",
            "  0%|          | 0/469 [00:00<?, ?it/s]"
          ],
          "name": "stderr"
        },
        {
          "output_type": "stream",
          "text": [
            "\n",
            "Test set: Average loss: 0.0310, Test Accuracy: 9912/10000 (99.12%)\n",
            "\n",
            "EPOCH: 8\n"
          ],
          "name": "stdout"
        },
        {
          "output_type": "stream",
          "text": [
            "Loss=0.06714954227209091 Batch_id=468 Train Accuracy=98.88: 100%|██████████| 469/469 [00:20<00:00, 23.03it/s]\n",
            "  0%|          | 0/469 [00:00<?, ?it/s]"
          ],
          "name": "stderr"
        },
        {
          "output_type": "stream",
          "text": [
            "\n",
            "Test set: Average loss: 0.0295, Test Accuracy: 9920/10000 (99.20%)\n",
            "\n",
            "EPOCH: 9\n"
          ],
          "name": "stdout"
        },
        {
          "output_type": "stream",
          "text": [
            "Loss=0.0447145514190197 Batch_id=468 Train Accuracy=98.91: 100%|██████████| 469/469 [00:19<00:00, 23.56it/s]\n",
            "  0%|          | 0/469 [00:00<?, ?it/s]"
          ],
          "name": "stderr"
        },
        {
          "output_type": "stream",
          "text": [
            "\n",
            "Test set: Average loss: 0.0252, Test Accuracy: 9939/10000 (99.39%)\n",
            "\n",
            "EPOCH: 10\n"
          ],
          "name": "stdout"
        },
        {
          "output_type": "stream",
          "text": [
            "Loss=0.0772935301065445 Batch_id=468 Train Accuracy=98.86: 100%|██████████| 469/469 [00:20<00:00, 23.17it/s]\n",
            "  0%|          | 0/469 [00:00<?, ?it/s]"
          ],
          "name": "stderr"
        },
        {
          "output_type": "stream",
          "text": [
            "\n",
            "Test set: Average loss: 0.0253, Test Accuracy: 9923/10000 (99.23%)\n",
            "\n",
            "EPOCH: 11\n"
          ],
          "name": "stdout"
        },
        {
          "output_type": "stream",
          "text": [
            "Loss=0.02442878484725952 Batch_id=468 Train Accuracy=98.93: 100%|██████████| 469/469 [00:20<00:00, 23.07it/s]\n",
            "  0%|          | 0/469 [00:00<?, ?it/s]"
          ],
          "name": "stderr"
        },
        {
          "output_type": "stream",
          "text": [
            "\n",
            "Test set: Average loss: 0.0315, Test Accuracy: 9920/10000 (99.20%)\n",
            "\n",
            "EPOCH: 12\n"
          ],
          "name": "stdout"
        },
        {
          "output_type": "stream",
          "text": [
            "Loss=0.08229029923677444 Batch_id=468 Train Accuracy=98.98: 100%|██████████| 469/469 [00:20<00:00, 27.73it/s]\n",
            "  0%|          | 0/469 [00:00<?, ?it/s]"
          ],
          "name": "stderr"
        },
        {
          "output_type": "stream",
          "text": [
            "\n",
            "Test set: Average loss: 0.0286, Test Accuracy: 9920/10000 (99.20%)\n",
            "\n",
            "EPOCH: 13\n"
          ],
          "name": "stdout"
        },
        {
          "output_type": "stream",
          "text": [
            "Loss=0.061374470591545105 Batch_id=468 Train Accuracy=98.92: 100%|██████████| 469/469 [00:20<00:00, 22.73it/s]\n",
            "  0%|          | 0/469 [00:00<?, ?it/s]"
          ],
          "name": "stderr"
        },
        {
          "output_type": "stream",
          "text": [
            "\n",
            "Test set: Average loss: 0.0276, Test Accuracy: 9922/10000 (99.22%)\n",
            "\n",
            "EPOCH: 14\n"
          ],
          "name": "stdout"
        },
        {
          "output_type": "stream",
          "text": [
            "Loss=0.01981818675994873 Batch_id=468 Train Accuracy=98.99: 100%|██████████| 469/469 [00:20<00:00, 22.82it/s]\n",
            "  0%|          | 0/469 [00:00<?, ?it/s]"
          ],
          "name": "stderr"
        },
        {
          "output_type": "stream",
          "text": [
            "\n",
            "Test set: Average loss: 0.0245, Test Accuracy: 9938/10000 (99.38%)\n",
            "\n",
            "EPOCH: 15\n"
          ],
          "name": "stdout"
        },
        {
          "output_type": "stream",
          "text": [
            "Loss=0.016856392845511436 Batch_id=468 Train Accuracy=99.05: 100%|██████████| 469/469 [00:20<00:00, 23.26it/s]\n",
            "  0%|          | 0/469 [00:00<?, ?it/s]"
          ],
          "name": "stderr"
        },
        {
          "output_type": "stream",
          "text": [
            "\n",
            "Test set: Average loss: 0.0242, Test Accuracy: 9920/10000 (99.20%)\n",
            "\n",
            "EPOCH: 16\n"
          ],
          "name": "stdout"
        },
        {
          "output_type": "stream",
          "text": [
            "Loss=0.020834559574723244 Batch_id=468 Train Accuracy=99.06: 100%|██████████| 469/469 [00:20<00:00, 23.10it/s]\n",
            "  0%|          | 0/469 [00:00<?, ?it/s]"
          ],
          "name": "stderr"
        },
        {
          "output_type": "stream",
          "text": [
            "\n",
            "Test set: Average loss: 0.0343, Test Accuracy: 9906/10000 (99.06%)\n",
            "\n",
            "EPOCH: 17\n"
          ],
          "name": "stdout"
        },
        {
          "output_type": "stream",
          "text": [
            "Loss=0.05212640389800072 Batch_id=468 Train Accuracy=99.01: 100%|██████████| 469/469 [00:20<00:00, 23.36it/s]\n",
            "  0%|          | 0/469 [00:00<?, ?it/s]"
          ],
          "name": "stderr"
        },
        {
          "output_type": "stream",
          "text": [
            "\n",
            "Test set: Average loss: 0.0327, Test Accuracy: 9905/10000 (99.05%)\n",
            "\n",
            "EPOCH: 18\n"
          ],
          "name": "stdout"
        },
        {
          "output_type": "stream",
          "text": [
            "Loss=0.011977747082710266 Batch_id=468 Train Accuracy=99.00: 100%|██████████| 469/469 [00:20<00:00, 22.84it/s]\n",
            "  0%|          | 0/469 [00:00<?, ?it/s]"
          ],
          "name": "stderr"
        },
        {
          "output_type": "stream",
          "text": [
            "\n",
            "Test set: Average loss: 0.0233, Test Accuracy: 9938/10000 (99.38%)\n",
            "\n",
            "EPOCH: 19\n"
          ],
          "name": "stdout"
        },
        {
          "output_type": "stream",
          "text": [
            "Loss=0.04297756031155586 Batch_id=468 Train Accuracy=99.03: 100%|██████████| 469/469 [00:20<00:00, 22.86it/s]\n",
            "  0%|          | 0/469 [00:00<?, ?it/s]"
          ],
          "name": "stderr"
        },
        {
          "output_type": "stream",
          "text": [
            "\n",
            "Test set: Average loss: 0.0237, Test Accuracy: 9947/10000 (99.47%)\n",
            "\n",
            "EPOCH: 20\n"
          ],
          "name": "stdout"
        },
        {
          "output_type": "stream",
          "text": [
            "Loss=0.07073250412940979 Batch_id=468 Train Accuracy=99.00: 100%|██████████| 469/469 [00:20<00:00, 24.50it/s]\n",
            "  0%|          | 0/469 [00:00<?, ?it/s]"
          ],
          "name": "stderr"
        },
        {
          "output_type": "stream",
          "text": [
            "\n",
            "Test set: Average loss: 0.0298, Test Accuracy: 9909/10000 (99.09%)\n",
            "\n",
            "EPOCH: 21\n"
          ],
          "name": "stdout"
        },
        {
          "output_type": "stream",
          "text": [
            "Loss=0.0589500367641449 Batch_id=468 Train Accuracy=99.02: 100%|██████████| 469/469 [00:20<00:00, 23.23it/s]\n",
            "  0%|          | 0/469 [00:00<?, ?it/s]"
          ],
          "name": "stderr"
        },
        {
          "output_type": "stream",
          "text": [
            "\n",
            "Test set: Average loss: 0.0239, Test Accuracy: 9933/10000 (99.33%)\n",
            "\n",
            "EPOCH: 22\n"
          ],
          "name": "stdout"
        },
        {
          "output_type": "stream",
          "text": [
            "Loss=0.00627550994977355 Batch_id=468 Train Accuracy=99.06: 100%|██████████| 469/469 [00:20<00:00, 23.09it/s]\n",
            "  0%|          | 0/469 [00:00<?, ?it/s]"
          ],
          "name": "stderr"
        },
        {
          "output_type": "stream",
          "text": [
            "\n",
            "Test set: Average loss: 0.0335, Test Accuracy: 9907/10000 (99.07%)\n",
            "\n",
            "EPOCH: 23\n"
          ],
          "name": "stdout"
        },
        {
          "output_type": "stream",
          "text": [
            "Loss=0.015429466962814331 Batch_id=468 Train Accuracy=99.04: 100%|██████████| 469/469 [00:20<00:00, 23.40it/s]\n",
            "  0%|          | 0/469 [00:00<?, ?it/s]"
          ],
          "name": "stderr"
        },
        {
          "output_type": "stream",
          "text": [
            "\n",
            "Test set: Average loss: 0.0239, Test Accuracy: 9927/10000 (99.27%)\n",
            "\n",
            "EPOCH: 24\n"
          ],
          "name": "stdout"
        },
        {
          "output_type": "stream",
          "text": [
            "Loss=0.03272150829434395 Batch_id=468 Train Accuracy=99.00: 100%|██████████| 469/469 [00:20<00:00, 23.14it/s]\n",
            "  0%|          | 0/469 [00:00<?, ?it/s]"
          ],
          "name": "stderr"
        },
        {
          "output_type": "stream",
          "text": [
            "\n",
            "Test set: Average loss: 0.0305, Test Accuracy: 9900/10000 (99.00%)\n",
            "\n",
            "EPOCH: 25\n"
          ],
          "name": "stdout"
        },
        {
          "output_type": "stream",
          "text": [
            "Loss=0.006499444600194693 Batch_id=468 Train Accuracy=99.01: 100%|██████████| 469/469 [00:20<00:00, 22.74it/s]\n",
            "  0%|          | 0/469 [00:00<?, ?it/s]"
          ],
          "name": "stderr"
        },
        {
          "output_type": "stream",
          "text": [
            "\n",
            "Test set: Average loss: 0.0343, Test Accuracy: 9896/10000 (98.96%)\n",
            "\n",
            "EPOCH: 26\n"
          ],
          "name": "stdout"
        },
        {
          "output_type": "stream",
          "text": [
            "Loss=0.0476604700088501 Batch_id=468 Train Accuracy=99.02: 100%|██████████| 469/469 [00:19<00:00, 23.47it/s]\n",
            "  0%|          | 0/469 [00:00<?, ?it/s]"
          ],
          "name": "stderr"
        },
        {
          "output_type": "stream",
          "text": [
            "\n",
            "Test set: Average loss: 0.0234, Test Accuracy: 9934/10000 (99.34%)\n",
            "\n",
            "EPOCH: 27\n"
          ],
          "name": "stdout"
        },
        {
          "output_type": "stream",
          "text": [
            "Loss=0.06835751235485077 Batch_id=468 Train Accuracy=99.06: 100%|██████████| 469/469 [00:20<00:00, 23.17it/s]\n",
            "  0%|          | 0/469 [00:00<?, ?it/s]"
          ],
          "name": "stderr"
        },
        {
          "output_type": "stream",
          "text": [
            "\n",
            "Test set: Average loss: 0.0271, Test Accuracy: 9924/10000 (99.24%)\n",
            "\n",
            "EPOCH: 28\n"
          ],
          "name": "stdout"
        },
        {
          "output_type": "stream",
          "text": [
            "Loss=0.012875313870608807 Batch_id=468 Train Accuracy=99.04: 100%|██████████| 469/469 [00:19<00:00, 23.59it/s]\n",
            "  0%|          | 0/469 [00:00<?, ?it/s]"
          ],
          "name": "stderr"
        },
        {
          "output_type": "stream",
          "text": [
            "\n",
            "Test set: Average loss: 0.0323, Test Accuracy: 9910/10000 (99.10%)\n",
            "\n",
            "EPOCH: 29\n"
          ],
          "name": "stdout"
        },
        {
          "output_type": "stream",
          "text": [
            "Loss=0.06619775295257568 Batch_id=468 Train Accuracy=99.05: 100%|██████████| 469/469 [00:20<00:00, 23.07it/s]\n",
            "  0%|          | 0/469 [00:00<?, ?it/s]"
          ],
          "name": "stderr"
        },
        {
          "output_type": "stream",
          "text": [
            "\n",
            "Test set: Average loss: 0.0257, Test Accuracy: 9928/10000 (99.28%)\n",
            "\n",
            "EPOCH: 30\n"
          ],
          "name": "stdout"
        },
        {
          "output_type": "stream",
          "text": [
            "Loss=0.01570937968790531 Batch_id=468 Train Accuracy=98.99: 100%|██████████| 469/469 [00:20<00:00, 23.08it/s]\n",
            "  0%|          | 0/469 [00:00<?, ?it/s]"
          ],
          "name": "stderr"
        },
        {
          "output_type": "stream",
          "text": [
            "\n",
            "Test set: Average loss: 0.0210, Test Accuracy: 9939/10000 (99.39%)\n",
            "\n",
            "EPOCH: 31\n"
          ],
          "name": "stdout"
        },
        {
          "output_type": "stream",
          "text": [
            "Loss=0.03102930635213852 Batch_id=468 Train Accuracy=99.07: 100%|██████████| 469/469 [00:19<00:00, 23.65it/s]\n",
            "  0%|          | 0/469 [00:00<?, ?it/s]"
          ],
          "name": "stderr"
        },
        {
          "output_type": "stream",
          "text": [
            "\n",
            "Test set: Average loss: 0.0242, Test Accuracy: 9934/10000 (99.34%)\n",
            "\n",
            "EPOCH: 32\n"
          ],
          "name": "stdout"
        },
        {
          "output_type": "stream",
          "text": [
            "Loss=0.0317324697971344 Batch_id=468 Train Accuracy=99.08: 100%|██████████| 469/469 [00:20<00:00, 22.89it/s]\n",
            "  0%|          | 0/469 [00:00<?, ?it/s]"
          ],
          "name": "stderr"
        },
        {
          "output_type": "stream",
          "text": [
            "\n",
            "Test set: Average loss: 0.0271, Test Accuracy: 9925/10000 (99.25%)\n",
            "\n",
            "EPOCH: 33\n"
          ],
          "name": "stdout"
        },
        {
          "output_type": "stream",
          "text": [
            "Loss=0.02590826340019703 Batch_id=468 Train Accuracy=99.10: 100%|██████████| 469/469 [00:20<00:00, 23.09it/s]\n",
            "  0%|          | 0/469 [00:00<?, ?it/s]"
          ],
          "name": "stderr"
        },
        {
          "output_type": "stream",
          "text": [
            "\n",
            "Test set: Average loss: 0.0291, Test Accuracy: 9914/10000 (99.14%)\n",
            "\n",
            "EPOCH: 34\n"
          ],
          "name": "stdout"
        },
        {
          "output_type": "stream",
          "text": [
            "Loss=0.025475671514868736 Batch_id=468 Train Accuracy=99.05: 100%|██████████| 469/469 [00:20<00:00, 23.08it/s]\n",
            "  0%|          | 0/469 [00:00<?, ?it/s]"
          ],
          "name": "stderr"
        },
        {
          "output_type": "stream",
          "text": [
            "\n",
            "Test set: Average loss: 0.0259, Test Accuracy: 9933/10000 (99.33%)\n",
            "\n",
            "EPOCH: 35\n"
          ],
          "name": "stdout"
        },
        {
          "output_type": "stream",
          "text": [
            "Loss=0.07891598343849182 Batch_id=468 Train Accuracy=99.13: 100%|██████████| 469/469 [00:20<00:00, 23.33it/s]\n",
            "  0%|          | 0/469 [00:00<?, ?it/s]"
          ],
          "name": "stderr"
        },
        {
          "output_type": "stream",
          "text": [
            "\n",
            "Test set: Average loss: 0.0347, Test Accuracy: 9904/10000 (99.04%)\n",
            "\n",
            "EPOCH: 36\n"
          ],
          "name": "stdout"
        },
        {
          "output_type": "stream",
          "text": [
            "Loss=0.08647692203521729 Batch_id=468 Train Accuracy=99.12: 100%|██████████| 469/469 [00:20<00:00, 22.97it/s]\n",
            "  0%|          | 0/469 [00:00<?, ?it/s]"
          ],
          "name": "stderr"
        },
        {
          "output_type": "stream",
          "text": [
            "\n",
            "Test set: Average loss: 0.0244, Test Accuracy: 9926/10000 (99.26%)\n",
            "\n",
            "EPOCH: 37\n"
          ],
          "name": "stdout"
        },
        {
          "output_type": "stream",
          "text": [
            "Loss=0.03288239240646362 Batch_id=468 Train Accuracy=99.06: 100%|██████████| 469/469 [00:19<00:00, 23.51it/s]\n",
            "  0%|          | 0/469 [00:00<?, ?it/s]"
          ],
          "name": "stderr"
        },
        {
          "output_type": "stream",
          "text": [
            "\n",
            "Test set: Average loss: 0.0258, Test Accuracy: 9933/10000 (99.33%)\n",
            "\n",
            "EPOCH: 38\n"
          ],
          "name": "stdout"
        },
        {
          "output_type": "stream",
          "text": [
            "Loss=0.023345082998275757 Batch_id=468 Train Accuracy=99.04: 100%|██████████| 469/469 [00:20<00:00, 23.02it/s]\n",
            "  0%|          | 0/469 [00:00<?, ?it/s]"
          ],
          "name": "stderr"
        },
        {
          "output_type": "stream",
          "text": [
            "\n",
            "Test set: Average loss: 0.0270, Test Accuracy: 9915/10000 (99.15%)\n",
            "\n",
            "EPOCH: 39\n"
          ],
          "name": "stdout"
        },
        {
          "output_type": "stream",
          "text": [
            "Loss=0.008517374284565449 Batch_id=468 Train Accuracy=99.04: 100%|██████████| 469/469 [00:20<00:00, 23.17it/s]\n"
          ],
          "name": "stderr"
        },
        {
          "output_type": "stream",
          "text": [
            "\n",
            "Test set: Average loss: 0.0302, Test Accuracy: 9913/10000 (99.13%)\n",
            "\n",
            "\n",
            "Maxium test accuracy: 99.47, Achieved in epoch: 19, Max Train accuracy : 99.13, Achieved in epoch : 35\n",
            "\n",
            "L1_Factor : 0.001"
          ],
          "name": "stdout"
        },
        {
          "output_type": "stream",
          "text": [
            "\r  0%|          | 0/469 [00:00<?, ?it/s]"
          ],
          "name": "stderr"
        },
        {
          "output_type": "stream",
          "text": [
            " L2_factor : 0.0005\n",
            "EPOCH: 0\n"
          ],
          "name": "stdout"
        },
        {
          "output_type": "stream",
          "text": [
            "Loss=0.05961581692099571 Batch_id=468 Train Accuracy=91.39: 100%|██████████| 469/469 [00:20<00:00, 22.69it/s]\n",
            "  0%|          | 0/469 [00:00<?, ?it/s]"
          ],
          "name": "stderr"
        },
        {
          "output_type": "stream",
          "text": [
            "\n",
            "Test set: Average loss: 0.0879, Test Accuracy: 9756/10000 (97.56%)\n",
            "\n",
            "EPOCH: 1\n"
          ],
          "name": "stdout"
        },
        {
          "output_type": "stream",
          "text": [
            "Loss=0.1130344569683075 Batch_id=468 Train Accuracy=98.00: 100%|██████████| 469/469 [00:20<00:00, 22.49it/s]\n",
            "  0%|          | 0/469 [00:00<?, ?it/s]"
          ],
          "name": "stderr"
        },
        {
          "output_type": "stream",
          "text": [
            "\n",
            "Test set: Average loss: 0.0396, Test Accuracy: 9895/10000 (98.95%)\n",
            "\n",
            "EPOCH: 2\n"
          ],
          "name": "stdout"
        },
        {
          "output_type": "stream",
          "text": [
            "Loss=0.05608537048101425 Batch_id=468 Train Accuracy=98.37: 100%|██████████| 469/469 [00:19<00:00, 23.52it/s]\n",
            "  0%|          | 0/469 [00:00<?, ?it/s]"
          ],
          "name": "stderr"
        },
        {
          "output_type": "stream",
          "text": [
            "\n",
            "Test set: Average loss: 0.0376, Test Accuracy: 9893/10000 (98.93%)\n",
            "\n",
            "EPOCH: 3\n"
          ],
          "name": "stdout"
        },
        {
          "output_type": "stream",
          "text": [
            "Loss=0.017696619033813477 Batch_id=468 Train Accuracy=98.58: 100%|██████████| 469/469 [00:20<00:00, 22.84it/s]\n",
            "  0%|          | 0/469 [00:00<?, ?it/s]"
          ],
          "name": "stderr"
        },
        {
          "output_type": "stream",
          "text": [
            "\n",
            "Test set: Average loss: 0.0369, Test Accuracy: 9892/10000 (98.92%)\n",
            "\n",
            "EPOCH: 4\n"
          ],
          "name": "stdout"
        },
        {
          "output_type": "stream",
          "text": [
            "Loss=0.1120268702507019 Batch_id=468 Train Accuracy=98.72: 100%|██████████| 469/469 [00:20<00:00, 23.03it/s]\n",
            "  0%|          | 0/469 [00:00<?, ?it/s]"
          ],
          "name": "stderr"
        },
        {
          "output_type": "stream",
          "text": [
            "\n",
            "Test set: Average loss: 0.0306, Test Accuracy: 9910/10000 (99.10%)\n",
            "\n",
            "EPOCH: 5\n"
          ],
          "name": "stdout"
        },
        {
          "output_type": "stream",
          "text": [
            "Loss=0.09820994734764099 Batch_id=468 Train Accuracy=98.72: 100%|██████████| 469/469 [00:20<00:00, 23.34it/s]\n",
            "  0%|          | 0/469 [00:00<?, ?it/s]"
          ],
          "name": "stderr"
        },
        {
          "output_type": "stream",
          "text": [
            "\n",
            "Test set: Average loss: 0.0332, Test Accuracy: 9890/10000 (98.90%)\n",
            "\n",
            "EPOCH: 6\n"
          ],
          "name": "stdout"
        },
        {
          "output_type": "stream",
          "text": [
            "Loss=0.024146586656570435 Batch_id=468 Train Accuracy=98.81: 100%|██████████| 469/469 [00:20<00:00, 23.22it/s]\n",
            "  0%|          | 0/469 [00:00<?, ?it/s]"
          ],
          "name": "stderr"
        },
        {
          "output_type": "stream",
          "text": [
            "\n",
            "Test set: Average loss: 0.0313, Test Accuracy: 9909/10000 (99.09%)\n",
            "\n",
            "EPOCH: 7\n"
          ],
          "name": "stdout"
        },
        {
          "output_type": "stream",
          "text": [
            "Loss=0.038445889949798584 Batch_id=468 Train Accuracy=98.83: 100%|██████████| 469/469 [00:20<00:00, 22.95it/s]\n",
            "  0%|          | 0/469 [00:00<?, ?it/s]"
          ],
          "name": "stderr"
        },
        {
          "output_type": "stream",
          "text": [
            "\n",
            "Test set: Average loss: 0.0263, Test Accuracy: 9924/10000 (99.24%)\n",
            "\n",
            "EPOCH: 8\n"
          ],
          "name": "stdout"
        },
        {
          "output_type": "stream",
          "text": [
            "Loss=0.029397424310445786 Batch_id=468 Train Accuracy=98.85: 100%|██████████| 469/469 [00:19<00:00, 23.50it/s]\n",
            "  0%|          | 0/469 [00:00<?, ?it/s]"
          ],
          "name": "stderr"
        },
        {
          "output_type": "stream",
          "text": [
            "\n",
            "Test set: Average loss: 0.0299, Test Accuracy: 9920/10000 (99.20%)\n",
            "\n",
            "EPOCH: 9\n"
          ],
          "name": "stdout"
        },
        {
          "output_type": "stream",
          "text": [
            "Loss=0.06651224941015244 Batch_id=468 Train Accuracy=98.89: 100%|██████████| 469/469 [00:20<00:00, 27.18it/s]\n",
            "  0%|          | 0/469 [00:00<?, ?it/s]"
          ],
          "name": "stderr"
        },
        {
          "output_type": "stream",
          "text": [
            "\n",
            "Test set: Average loss: 0.0312, Test Accuracy: 9903/10000 (99.03%)\n",
            "\n",
            "EPOCH: 10\n"
          ],
          "name": "stdout"
        },
        {
          "output_type": "stream",
          "text": [
            "Loss=0.026506958529353142 Batch_id=468 Train Accuracy=98.95: 100%|██████████| 469/469 [00:20<00:00, 23.25it/s]\n",
            "  0%|          | 0/469 [00:00<?, ?it/s]"
          ],
          "name": "stderr"
        },
        {
          "output_type": "stream",
          "text": [
            "\n",
            "Test set: Average loss: 0.0318, Test Accuracy: 9907/10000 (99.07%)\n",
            "\n",
            "EPOCH: 11\n"
          ],
          "name": "stdout"
        },
        {
          "output_type": "stream",
          "text": [
            "Loss=0.07057256996631622 Batch_id=468 Train Accuracy=98.88: 100%|██████████| 469/469 [00:20<00:00, 22.89it/s]\n",
            "  0%|          | 0/469 [00:00<?, ?it/s]"
          ],
          "name": "stderr"
        },
        {
          "output_type": "stream",
          "text": [
            "\n",
            "Test set: Average loss: 0.0276, Test Accuracy: 9916/10000 (99.16%)\n",
            "\n",
            "EPOCH: 12\n"
          ],
          "name": "stdout"
        },
        {
          "output_type": "stream",
          "text": [
            "Loss=0.029311280697584152 Batch_id=468 Train Accuracy=98.95: 100%|██████████| 469/469 [00:20<00:00, 22.90it/s]\n",
            "  0%|          | 0/469 [00:00<?, ?it/s]"
          ],
          "name": "stderr"
        },
        {
          "output_type": "stream",
          "text": [
            "\n",
            "Test set: Average loss: 0.0249, Test Accuracy: 9930/10000 (99.30%)\n",
            "\n",
            "EPOCH: 13\n"
          ],
          "name": "stdout"
        },
        {
          "output_type": "stream",
          "text": [
            "Loss=0.04156896099448204 Batch_id=468 Train Accuracy=98.95: 100%|██████████| 469/469 [00:19<00:00, 23.70it/s]\n",
            "  0%|          | 0/469 [00:00<?, ?it/s]"
          ],
          "name": "stderr"
        },
        {
          "output_type": "stream",
          "text": [
            "\n",
            "Test set: Average loss: 0.0282, Test Accuracy: 9912/10000 (99.12%)\n",
            "\n",
            "EPOCH: 14\n"
          ],
          "name": "stdout"
        },
        {
          "output_type": "stream",
          "text": [
            "Loss=0.024619217962026596 Batch_id=468 Train Accuracy=99.01: 100%|██████████| 469/469 [00:20<00:00, 22.92it/s]\n",
            "  0%|          | 0/469 [00:00<?, ?it/s]"
          ],
          "name": "stderr"
        },
        {
          "output_type": "stream",
          "text": [
            "\n",
            "Test set: Average loss: 0.0253, Test Accuracy: 9926/10000 (99.26%)\n",
            "\n",
            "EPOCH: 15\n"
          ],
          "name": "stdout"
        },
        {
          "output_type": "stream",
          "text": [
            "Loss=0.029140494763851166 Batch_id=468 Train Accuracy=99.02: 100%|██████████| 469/469 [00:20<00:00, 22.95it/s]\n",
            "  0%|          | 0/469 [00:00<?, ?it/s]"
          ],
          "name": "stderr"
        },
        {
          "output_type": "stream",
          "text": [
            "\n",
            "Test set: Average loss: 0.0342, Test Accuracy: 9901/10000 (99.01%)\n",
            "\n",
            "EPOCH: 16\n"
          ],
          "name": "stdout"
        },
        {
          "output_type": "stream",
          "text": [
            "Loss=0.02759406715631485 Batch_id=468 Train Accuracy=99.07: 100%|██████████| 469/469 [00:20<00:00, 23.39it/s]\n",
            "  0%|          | 0/469 [00:00<?, ?it/s]"
          ],
          "name": "stderr"
        },
        {
          "output_type": "stream",
          "text": [
            "\n",
            "Test set: Average loss: 0.0292, Test Accuracy: 9911/10000 (99.11%)\n",
            "\n",
            "EPOCH: 17\n"
          ],
          "name": "stdout"
        },
        {
          "output_type": "stream",
          "text": [
            "Loss=0.038412775844335556 Batch_id=468 Train Accuracy=99.00: 100%|██████████| 469/469 [00:20<00:00, 23.42it/s]\n",
            "  0%|          | 0/469 [00:00<?, ?it/s]"
          ],
          "name": "stderr"
        },
        {
          "output_type": "stream",
          "text": [
            "\n",
            "Test set: Average loss: 0.0245, Test Accuracy: 9922/10000 (99.22%)\n",
            "\n",
            "EPOCH: 18\n"
          ],
          "name": "stdout"
        },
        {
          "output_type": "stream",
          "text": [
            "Loss=0.025528768077492714 Batch_id=468 Train Accuracy=99.03: 100%|██████████| 469/469 [00:20<00:00, 22.74it/s]\n",
            "  0%|          | 0/469 [00:00<?, ?it/s]"
          ],
          "name": "stderr"
        },
        {
          "output_type": "stream",
          "text": [
            "\n",
            "Test set: Average loss: 0.0369, Test Accuracy: 9882/10000 (98.82%)\n",
            "\n",
            "EPOCH: 19\n"
          ],
          "name": "stdout"
        },
        {
          "output_type": "stream",
          "text": [
            "Loss=0.03073987178504467 Batch_id=468 Train Accuracy=98.97: 100%|██████████| 469/469 [00:20<00:00, 23.43it/s]\n",
            "  0%|          | 0/469 [00:00<?, ?it/s]"
          ],
          "name": "stderr"
        },
        {
          "output_type": "stream",
          "text": [
            "\n",
            "Test set: Average loss: 0.0302, Test Accuracy: 9912/10000 (99.12%)\n",
            "\n",
            "EPOCH: 20\n"
          ],
          "name": "stdout"
        },
        {
          "output_type": "stream",
          "text": [
            "Loss=0.03412638232111931 Batch_id=468 Train Accuracy=99.03: 100%|██████████| 469/469 [00:20<00:00, 23.04it/s]\n",
            "  0%|          | 0/469 [00:00<?, ?it/s]"
          ],
          "name": "stderr"
        },
        {
          "output_type": "stream",
          "text": [
            "\n",
            "Test set: Average loss: 0.0307, Test Accuracy: 9904/10000 (99.04%)\n",
            "\n",
            "EPOCH: 21\n"
          ],
          "name": "stdout"
        },
        {
          "output_type": "stream",
          "text": [
            "Loss=0.031438279896974564 Batch_id=468 Train Accuracy=99.06: 100%|██████████| 469/469 [00:20<00:00, 23.33it/s]\n",
            "  0%|          | 0/469 [00:00<?, ?it/s]"
          ],
          "name": "stderr"
        },
        {
          "output_type": "stream",
          "text": [
            "\n",
            "Test set: Average loss: 0.0280, Test Accuracy: 9924/10000 (99.24%)\n",
            "\n",
            "EPOCH: 22\n"
          ],
          "name": "stdout"
        },
        {
          "output_type": "stream",
          "text": [
            "Loss=0.06370054930448532 Batch_id=468 Train Accuracy=99.01: 100%|██████████| 469/469 [00:20<00:00, 22.97it/s]\n",
            "  0%|          | 0/469 [00:00<?, ?it/s]"
          ],
          "name": "stderr"
        },
        {
          "output_type": "stream",
          "text": [
            "\n",
            "Test set: Average loss: 0.0354, Test Accuracy: 9898/10000 (98.98%)\n",
            "\n",
            "EPOCH: 23\n"
          ],
          "name": "stdout"
        },
        {
          "output_type": "stream",
          "text": [
            "Loss=0.020043499767780304 Batch_id=468 Train Accuracy=99.02: 100%|██████████| 469/469 [00:20<00:00, 22.68it/s]\n",
            "  0%|          | 0/469 [00:00<?, ?it/s]"
          ],
          "name": "stderr"
        },
        {
          "output_type": "stream",
          "text": [
            "\n",
            "Test set: Average loss: 0.0273, Test Accuracy: 9923/10000 (99.23%)\n",
            "\n",
            "EPOCH: 24\n"
          ],
          "name": "stdout"
        },
        {
          "output_type": "stream",
          "text": [
            "Loss=0.05322791635990143 Batch_id=468 Train Accuracy=99.08: 100%|██████████| 469/469 [00:19<00:00, 23.79it/s]\n",
            "  0%|          | 0/469 [00:00<?, ?it/s]"
          ],
          "name": "stderr"
        },
        {
          "output_type": "stream",
          "text": [
            "\n",
            "Test set: Average loss: 0.0324, Test Accuracy: 9905/10000 (99.05%)\n",
            "\n",
            "EPOCH: 25\n"
          ],
          "name": "stdout"
        },
        {
          "output_type": "stream",
          "text": [
            "Loss=0.021788708865642548 Batch_id=468 Train Accuracy=99.06: 100%|██████████| 469/469 [00:20<00:00, 22.66it/s]\n",
            "  0%|          | 0/469 [00:00<?, ?it/s]"
          ],
          "name": "stderr"
        },
        {
          "output_type": "stream",
          "text": [
            "\n",
            "Test set: Average loss: 0.0311, Test Accuracy: 9901/10000 (99.01%)\n",
            "\n",
            "EPOCH: 26\n"
          ],
          "name": "stdout"
        },
        {
          "output_type": "stream",
          "text": [
            "Loss=0.009884526953101158 Batch_id=468 Train Accuracy=98.97: 100%|██████████| 469/469 [00:20<00:00, 22.91it/s]\n",
            "  0%|          | 0/469 [00:00<?, ?it/s]"
          ],
          "name": "stderr"
        },
        {
          "output_type": "stream",
          "text": [
            "\n",
            "Test set: Average loss: 0.0247, Test Accuracy: 9921/10000 (99.21%)\n",
            "\n",
            "EPOCH: 27\n"
          ],
          "name": "stdout"
        },
        {
          "output_type": "stream",
          "text": [
            "Loss=0.05880581587553024 Batch_id=468 Train Accuracy=99.06: 100%|██████████| 469/469 [00:20<00:00, 23.35it/s]\n",
            "  0%|          | 0/469 [00:00<?, ?it/s]"
          ],
          "name": "stderr"
        },
        {
          "output_type": "stream",
          "text": [
            "\n",
            "Test set: Average loss: 0.0352, Test Accuracy: 9892/10000 (98.92%)\n",
            "\n",
            "EPOCH: 28\n"
          ],
          "name": "stdout"
        },
        {
          "output_type": "stream",
          "text": [
            "Loss=0.015279273502528667 Batch_id=468 Train Accuracy=99.00: 100%|██████████| 469/469 [00:20<00:00, 23.36it/s]\n",
            "  0%|          | 0/469 [00:00<?, ?it/s]"
          ],
          "name": "stderr"
        },
        {
          "output_type": "stream",
          "text": [
            "\n",
            "Test set: Average loss: 0.0309, Test Accuracy: 9900/10000 (99.00%)\n",
            "\n",
            "EPOCH: 29\n"
          ],
          "name": "stdout"
        },
        {
          "output_type": "stream",
          "text": [
            "Loss=0.03089264966547489 Batch_id=468 Train Accuracy=99.08: 100%|██████████| 469/469 [00:20<00:00, 22.61it/s]\n",
            "  0%|          | 0/469 [00:00<?, ?it/s]"
          ],
          "name": "stderr"
        },
        {
          "output_type": "stream",
          "text": [
            "\n",
            "Test set: Average loss: 0.0326, Test Accuracy: 9904/10000 (99.04%)\n",
            "\n",
            "EPOCH: 30\n"
          ],
          "name": "stdout"
        },
        {
          "output_type": "stream",
          "text": [
            "Loss=0.023179413750767708 Batch_id=468 Train Accuracy=99.11: 100%|██████████| 469/469 [00:19<00:00, 23.47it/s]\n",
            "  0%|          | 0/469 [00:00<?, ?it/s]"
          ],
          "name": "stderr"
        },
        {
          "output_type": "stream",
          "text": [
            "\n",
            "Test set: Average loss: 0.0288, Test Accuracy: 9911/10000 (99.11%)\n",
            "\n",
            "EPOCH: 31\n"
          ],
          "name": "stdout"
        },
        {
          "output_type": "stream",
          "text": [
            "Loss=0.06364519149065018 Batch_id=468 Train Accuracy=99.09: 100%|██████████| 469/469 [00:20<00:00, 23.05it/s]\n",
            "  0%|          | 0/469 [00:00<?, ?it/s]"
          ],
          "name": "stderr"
        },
        {
          "output_type": "stream",
          "text": [
            "\n",
            "Test set: Average loss: 0.0364, Test Accuracy: 9880/10000 (98.80%)\n",
            "\n",
            "EPOCH: 32\n"
          ],
          "name": "stdout"
        },
        {
          "output_type": "stream",
          "text": [
            "Loss=0.026491770520806313 Batch_id=468 Train Accuracy=99.08: 100%|██████████| 469/469 [00:20<00:00, 23.33it/s]\n",
            "  0%|          | 0/469 [00:00<?, ?it/s]"
          ],
          "name": "stderr"
        },
        {
          "output_type": "stream",
          "text": [
            "\n",
            "Test set: Average loss: 0.0254, Test Accuracy: 9925/10000 (99.25%)\n",
            "\n",
            "EPOCH: 33\n"
          ],
          "name": "stdout"
        },
        {
          "output_type": "stream",
          "text": [
            "Loss=0.012742596678435802 Batch_id=468 Train Accuracy=99.09: 100%|██████████| 469/469 [00:20<00:00, 23.23it/s]\n",
            "  0%|          | 0/469 [00:00<?, ?it/s]"
          ],
          "name": "stderr"
        },
        {
          "output_type": "stream",
          "text": [
            "\n",
            "Test set: Average loss: 0.0261, Test Accuracy: 9922/10000 (99.22%)\n",
            "\n",
            "EPOCH: 34\n"
          ],
          "name": "stdout"
        },
        {
          "output_type": "stream",
          "text": [
            "Loss=0.013022765517234802 Batch_id=468 Train Accuracy=99.10: 100%|██████████| 469/469 [00:20<00:00, 23.21it/s]\n",
            "  0%|          | 0/469 [00:00<?, ?it/s]"
          ],
          "name": "stderr"
        },
        {
          "output_type": "stream",
          "text": [
            "\n",
            "Test set: Average loss: 0.0295, Test Accuracy: 9912/10000 (99.12%)\n",
            "\n",
            "EPOCH: 35\n"
          ],
          "name": "stdout"
        },
        {
          "output_type": "stream",
          "text": [
            "Loss=0.01637062057852745 Batch_id=468 Train Accuracy=99.05: 100%|██████████| 469/469 [00:20<00:00, 23.34it/s]\n",
            "  0%|          | 0/469 [00:00<?, ?it/s]"
          ],
          "name": "stderr"
        },
        {
          "output_type": "stream",
          "text": [
            "\n",
            "Test set: Average loss: 0.0249, Test Accuracy: 9920/10000 (99.20%)\n",
            "\n",
            "EPOCH: 36\n"
          ],
          "name": "stdout"
        },
        {
          "output_type": "stream",
          "text": [
            "Loss=0.08069775253534317 Batch_id=468 Train Accuracy=99.11: 100%|██████████| 469/469 [00:20<00:00, 22.44it/s]\n",
            "  0%|          | 0/469 [00:00<?, ?it/s]"
          ],
          "name": "stderr"
        },
        {
          "output_type": "stream",
          "text": [
            "\n",
            "Test set: Average loss: 0.0279, Test Accuracy: 9915/10000 (99.15%)\n",
            "\n",
            "EPOCH: 37\n"
          ],
          "name": "stdout"
        },
        {
          "output_type": "stream",
          "text": [
            "Loss=0.019591065123677254 Batch_id=468 Train Accuracy=99.05: 100%|██████████| 469/469 [00:21<00:00, 22.24it/s]\n",
            "  0%|          | 0/469 [00:00<?, ?it/s]"
          ],
          "name": "stderr"
        },
        {
          "output_type": "stream",
          "text": [
            "\n",
            "Test set: Average loss: 0.0268, Test Accuracy: 9920/10000 (99.20%)\n",
            "\n",
            "EPOCH: 38\n"
          ],
          "name": "stdout"
        },
        {
          "output_type": "stream",
          "text": [
            "Loss=0.014386840164661407 Batch_id=468 Train Accuracy=99.07: 100%|██████████| 469/469 [00:20<00:00, 23.13it/s]\n",
            "  0%|          | 0/469 [00:00<?, ?it/s]"
          ],
          "name": "stderr"
        },
        {
          "output_type": "stream",
          "text": [
            "\n",
            "Test set: Average loss: 0.0298, Test Accuracy: 9911/10000 (99.11%)\n",
            "\n",
            "EPOCH: 39\n"
          ],
          "name": "stdout"
        },
        {
          "output_type": "stream",
          "text": [
            "Loss=0.040458373725414276 Batch_id=468 Train Accuracy=99.12: 100%|██████████| 469/469 [00:20<00:00, 23.10it/s]\n"
          ],
          "name": "stderr"
        },
        {
          "output_type": "stream",
          "text": [
            "\n",
            "Test set: Average loss: 0.0335, Test Accuracy: 9893/10000 (98.93%)\n",
            "\n",
            "\n",
            "Maxium test accuracy: 99.30, Achieved in epoch: 12, Max Train accuracy : 99.12, Achieved in epoch : 39\n",
            "\n"
          ],
          "name": "stdout"
        }
      ]
    },
    {
      "cell_type": "code",
      "metadata": {
        "id": "IxVvGp2okRU2",
        "colab_type": "code",
        "outputId": "c72a851f-4c05-4d08-b8cf-d9c41eca987a",
        "colab": {
          "base_uri": "https://localhost:8080/",
          "height": 121
        }
      },
      "source": [
        "print(len(act_img[0]))\n",
        "print(len(act_img[1]))\n",
        "print(len(pred_class[0]))\n",
        "print(len(pred_class[1]))\n",
        "print(len(act_class[0]))\n",
        "print(len(act_class[1]))"
      ],
      "execution_count": 0,
      "outputs": [
        {
          "output_type": "stream",
          "text": [
            "1137\n",
            "1167\n",
            "1137\n",
            "1167\n",
            "1137\n",
            "1167\n"
          ],
          "name": "stdout"
        }
      ]
    },
    {
      "cell_type": "code",
      "metadata": {
        "id": "MLXKQJsTu9yk",
        "colab_type": "code",
        "outputId": "f559d4bc-a617-4fcd-e166-8034a41a86b0",
        "colab": {
          "base_uri": "https://localhost:8080/",
          "height": 87
        }
      },
      "source": [
        "print(pred_class[0][30:34])\n",
        "print(pred_class[1][30:34])\n",
        "print(pred_class[2][30:34])\n",
        "print(pred_class[3][30:34])"
      ],
      "execution_count": 0,
      "outputs": [
        {
          "output_type": "stream",
          "text": [
            "[2, 9, 5, 1]\n",
            "[4, 3, 5, 7]\n",
            "[5, 4, 2, 5]\n",
            "[3, 2, 7, 7]\n"
          ],
          "name": "stdout"
        }
      ]
    },
    {
      "cell_type": "markdown",
      "metadata": {
        "id": "y1nr6PCVn-Qu",
        "colab_type": "text"
      },
      "source": [
        "# Visualizing the validation accuracy, Test loss and Train Loss for all 4 scenarios"
      ]
    },
    {
      "cell_type": "code",
      "metadata": {
        "id": "6ypMgYztcEwk",
        "colab_type": "code",
        "outputId": "5c9975e6-f2af-4332-a673-27932d2219fb",
        "colab": {
          "base_uri": "https://localhost:8080/",
          "height": 373
        }
      },
      "source": [
        "    figure = plt.figure(figsize=(40,5))\n",
        "    labels = ['w/o L1,L2', 'With L1=0.001', 'With L2=0.0005', 'With L1=0.001 & L2=0.0005']\n",
        "\n",
        "    plt.subplot(1,4,1)\n",
        "    plt.title(\"Validation Accuracies\")\n",
        "    plt.plot(val_accuracy[0],label=labels[0])\n",
        "    plt.plot(val_accuracy[1],label=labels[1])\n",
        "    plt.plot(val_accuracy[2],label=labels[2])\n",
        "    plt.plot(val_accuracy[3],label=labels[3])\n",
        "    plt.legend(loc=\"lower right\")\n",
        "\n",
        "    plt.subplot(1,4,2)\n",
        "    plt.title(\"Test Losses\")\n",
        "    plt.plot(loss_test[0],label=labels[0])\n",
        "    plt.plot(loss_test[1],label=labels[1])\n",
        "    plt.plot(loss_test[2],label=labels[2])\n",
        "    plt.plot(loss_test[3],label=labels[3])\n",
        "    plt.legend(loc=\"best\")\n",
        "\n",
        "    plt.subplot(1,4,3)\n",
        "    plt.title(\"Train Losses\")\n",
        "    plt.plot(loss_train[0],label=labels[0])\n",
        "    plt.plot(loss_train[1],label=labels[1])\n",
        "    plt.plot(loss_train[2],label=labels[2])\n",
        "    plt.plot(loss_train[3],label=labels[3])\n",
        "    plt.legend(loc=\"best\")    "
      ],
      "execution_count": 0,
      "outputs": [
        {
          "output_type": "execute_result",
          "data": {
            "text/plain": [
              "<matplotlib.legend.Legend at 0x7f0e746f4e48>"
            ]
          },
          "metadata": {
            "tags": []
          },
          "execution_count": 15
        },
        {
          "output_type": "display_data",
          "data": {
            "image/png": "[encoded data removed]",
            "text/plain": [
              "<Figure size 2880x360 with 3 Axes>"
            ]
          },
          "metadata": {
            "tags": []
          }
        }
      ]
    },
    {
      "cell_type": "markdown",
      "metadata": {
        "id": "oN7Td3zNeNTU",
        "colab_type": "text"
      },
      "source": [
        "# Visualizing Original Image, Predicted Class and Actual Class for scenario - W/O L1 & L2"
      ]
    },
    {
      "cell_type": "code",
      "metadata": {
        "id": "LbsDse-O3yaT",
        "colab_type": "code",
        "outputId": "5aaf39fd-b67b-4abe-a833-5319948252f5",
        "colab": {
          "base_uri": "https://localhost:8080/",
          "height": 456
        }
      },
      "source": [
        "figure = plt.figure()\n",
        "diag = 0\n",
        "p    = 0        # Change this to get diff. scenarios we are plotting i.e. 0 -> w/o l1,l2, 1 -> wid l1, 2 -> wid l2, 3 -> wid l1 & l2\n",
        "\n",
        "if len(act_img[p]) < 25:\n",
        "  print('Not enough images to print') \n",
        "else:\n",
        "  start = len(act_img[p])-25       # Printing last 25 images, that were wrongly predicted\n",
        "  end   = len(act_img[p])\n",
        "  for index in range(start, end):\n",
        "            diag += 1\n",
        "            plt.subplot(5, 5, diag)\n",
        "            plt.axis('off')\n",
        "            plt.imshow(act_img[p][index].reshape(28,28), cmap='gray_r') \n",
        "  \n",
        "  t = start -1\n",
        "\n",
        "  print ('    Actual Target Value in MNIST - Model w/o L1 & L2')\n",
        "  print('   ',act_class[p][t+1],'    ',act_class[p][t+2],'      ',act_class[p][t+3],'      ',act_class[p][t+4],'        ',act_class[p][t+5])\n",
        "  print('   ',act_class[p][t+6],'    ',act_class[p][t+7],'      ',act_class[p][t+8],'      ',act_class[p][t+9],'        ',act_class[p][t+10])\n",
        "  print('   ',act_class[p][t+11],'    ',act_class[p][t+12],'      ',act_class[p][t+13],'      ',act_class[p][t+14],'        ',act_class[p][t+15])\n",
        "  print('   ',act_class[p][t+16],'    ',act_class[p][t+17],'      ',act_class[p][t+18],'      ',act_class[p][t+19],'        ',act_class[p][t+20])\n",
        "  print('   ',act_class[p][t+21],'    ',act_class[p][t+22],'      ',act_class[p][t+23],'      ',act_class[p][t+24],'        ',act_class[p][t+25])\n",
        "\n",
        "  print('     Wrongly Predicted Classes - Model w/o L1 & L2')\n",
        "  print('   ',pred_class[p][t+1],'    ',pred_class[p][t+2],'      ',pred_class[p][t+3],'      ',pred_class[p][t+4],'        ',pred_class[p][t+5])\n",
        "  print('   ',pred_class[p][t+6],'    ',pred_class[p][t+7],'      ',pred_class[p][t+8],'      ',pred_class[p][t+9],'        ',pred_class[p][t+10])\n",
        "  print('   ',pred_class[p][t+11],'    ',pred_class[p][t+12],'      ',pred_class[p][t+13],'      ',pred_class[p][t+14],'        ',pred_class[p][t+15])\n",
        "  print('   ',pred_class[p][t+16],'    ',pred_class[p][t+17],'      ',pred_class[p][t+18],'      ',pred_class[p][t+19],'        ',pred_class[p][t+20])\n",
        "  print('   ',pred_class[p][t+21],'    ',pred_class[p][t+22],'      ',pred_class[p][t+23],'      ',pred_class[p][t+24],'        ',pred_class[p][t+25])"
      ],
      "execution_count": 0,
      "outputs": [
        {
          "output_type": "stream",
          "text": [
            "    Actual Target Value in MNIST - Model w/o L1 & L2\n",
            "    2      6        6        2          9\n",
            "    0      3        6        9          9\n",
            "    5      5        9        0          8\n",
            "    8      7        9        9          9\n",
            "    7      4        9        6          9\n",
            "     Wrongly Predicted Classes - Model w/o L1 & L2\n",
            "    0      1        0        7          4\n",
            "    6      5        1        7          4\n",
            "    3      3        4        6          9\n",
            "    5      1        4        5          4\n",
            "    2      7        5        0          4\n"
          ],
          "name": "stdout"
        },
        {
          "output_type": "display_data",
          "data": {
            "image/png": "[encoded data removed]",
            "text/plain": [
              "<Figure size 432x288 with 25 Axes>"
            ]
          },
          "metadata": {
            "tags": []
          }
        }
      ]
    },
    {
      "cell_type": "markdown",
      "metadata": {
        "id": "dQHqaE83eMiM",
        "colab_type": "text"
      },
      "source": [
        "# Visualizing Original Image, Predicted Class and Actual Class for scenario - With L1 "
      ]
    },
    {
      "cell_type": "code",
      "metadata": {
        "id": "QUncwc62tITw",
        "colab_type": "code",
        "outputId": "1fe7ede6-8ac6-4c9b-f873-87b4cc68a4aa",
        "colab": {
          "base_uri": "https://localhost:8080/",
          "height": 456
        }
      },
      "source": [
        "figure = plt.figure()\n",
        "diag = 0\n",
        "p    = 1        # Change this to get diff. scenarios we are plotting i.e. 0 -> w/o l1,l2, 1 -> wid l1, 2 -> wid l2, 3 -> wid l1 & l2\n",
        "\n",
        "if len(act_img[p]) < 25:\n",
        "  print('Not enough images to print') \n",
        "else:\n",
        "  start = len(act_img[p])-25       # Printing last 25 images, that were wrongly predicted\n",
        "  end   = len(act_img[p])\n",
        "  for index in range(start, end):\n",
        "            diag += 1\n",
        "            plt.subplot(5, 5, diag)\n",
        "            plt.axis('off')\n",
        "            plt.imshow(act_img[p][index].reshape(28,28), cmap='gray_r') \n",
        "  \n",
        "  t = start -1\n",
        "\n",
        "  print ('    Actual Target Value in MNIST - Model w/o L1 & L2')\n",
        "  print('   ',act_class[p][t+1],'    ',act_class[p][t+2],'      ',act_class[p][t+3],'      ',act_class[p][t+4],'        ',act_class[p][t+5])\n",
        "  print('   ',act_class[p][t+6],'    ',act_class[p][t+7],'      ',act_class[p][t+8],'      ',act_class[p][t+9],'        ',act_class[p][t+10])\n",
        "  print('   ',act_class[p][t+11],'    ',act_class[p][t+12],'      ',act_class[p][t+13],'      ',act_class[p][t+14],'        ',act_class[p][t+15])\n",
        "  print('   ',act_class[p][t+16],'    ',act_class[p][t+17],'      ',act_class[p][t+18],'      ',act_class[p][t+19],'        ',act_class[p][t+20])\n",
        "  print('   ',act_class[p][t+21],'    ',act_class[p][t+22],'      ',act_class[p][t+23],'      ',act_class[p][t+24],'        ',act_class[p][t+25])\n",
        "\n",
        "  print('     Wrongly Predicted Classes - Model w/o L1 & L2')\n",
        "  print('   ',pred_class[p][t+1],'    ',pred_class[p][t+2],'      ',pred_class[p][t+3],'      ',pred_class[p][t+4],'        ',pred_class[p][t+5])\n",
        "  print('   ',pred_class[p][t+6],'    ',pred_class[p][t+7],'      ',pred_class[p][t+8],'      ',pred_class[p][t+9],'        ',pred_class[p][t+10])\n",
        "  print('   ',pred_class[p][t+11],'    ',pred_class[p][t+12],'      ',pred_class[p][t+13],'      ',pred_class[p][t+14],'        ',pred_class[p][t+15])\n",
        "  print('   ',pred_class[p][t+16],'    ',pred_class[p][t+17],'      ',pred_class[p][t+18],'      ',pred_class[p][t+19],'        ',pred_class[p][t+20])\n",
        "  print('   ',pred_class[p][t+21],'    ',pred_class[p][t+22],'      ',pred_class[p][t+23],'      ',pred_class[p][t+24],'        ',pred_class[p][t+25])"
      ],
      "execution_count": 0,
      "outputs": [
        {
          "output_type": "stream",
          "text": [
            "    Actual Target Value in MNIST - Model w/o L1 & L2\n",
            "    3      7        7        3          9\n",
            "    7      7        5        9          3\n",
            "    5      2        8        5          7\n",
            "    9      7        2        5          9\n",
            "    3      6        3        4          2\n",
            "     Wrongly Predicted Classes - Model w/o L1 & L2\n",
            "    5      2        1        5          4\n",
            "    2      3        6        4          8\n",
            "    6      7        2        3          1\n",
            "    5      2        7        3          4\n",
            "    5      8        5        9          0\n"
          ],
          "name": "stdout"
        },
        {
          "output_type": "display_data",
          "data": {
            "image/png": "[encoded data removed]",
            "text/plain": [
              "<Figure size 432x288 with 25 Axes>"
            ]
          },
          "metadata": {
            "tags": []
          }
        }
      ]
    },
    {
      "cell_type": "markdown",
      "metadata": {
        "id": "zkMCbp9LfG-Q",
        "colab_type": "text"
      },
      "source": [
        "#Visualizing Original Image, Predicted Class and Actual Class for scenario - With L2"
      ]
    },
    {
      "cell_type": "code",
      "metadata": {
        "id": "7ULEC6m8fIk8",
        "colab_type": "code",
        "outputId": "46e4130c-cc0e-4791-936b-851f265bc999",
        "colab": {
          "base_uri": "https://localhost:8080/",
          "height": 456
        }
      },
      "source": [
        "figure = plt.figure()\n",
        "diag = 0\n",
        "p    = 2        # Change this to get diff. scenarios we are plotting i.e. 0 -> w/o l1,l2, 1 -> wid l1, 2 -> wid l2, 3 -> wid l1 & l2\n",
        "\n",
        "if len(act_img[p]) < 25:\n",
        "  print('Not enough images to print') \n",
        "else:\n",
        "  start = len(act_img[p])-25       # Printing last 25 images, that were wrongly predicted\n",
        "  end   = len(act_img[p])\n",
        "  for index in range(start, end):\n",
        "            diag += 1\n",
        "            plt.subplot(5, 5, diag)\n",
        "            plt.axis('off')\n",
        "            plt.imshow(act_img[p][index].reshape(28,28), cmap='gray_r') \n",
        "  \n",
        "  t = start -1\n",
        "\n",
        "  print ('    Actual Target Value in MNIST - Model w/o L1 & L2')\n",
        "  print('   ',act_class[p][t+1],'    ',act_class[p][t+2],'      ',act_class[p][t+3],'      ',act_class[p][t+4],'        ',act_class[p][t+5])\n",
        "  print('   ',act_class[p][t+6],'    ',act_class[p][t+7],'      ',act_class[p][t+8],'      ',act_class[p][t+9],'        ',act_class[p][t+10])\n",
        "  print('   ',act_class[p][t+11],'    ',act_class[p][t+12],'      ',act_class[p][t+13],'      ',act_class[p][t+14],'        ',act_class[p][t+15])\n",
        "  print('   ',act_class[p][t+16],'    ',act_class[p][t+17],'      ',act_class[p][t+18],'      ',act_class[p][t+19],'        ',act_class[p][t+20])\n",
        "  print('   ',act_class[p][t+21],'    ',act_class[p][t+22],'      ',act_class[p][t+23],'      ',act_class[p][t+24],'        ',act_class[p][t+25])\n",
        "\n",
        "  print('     Wrongly Predicted Classes - Model w/o L1 & L2')\n",
        "  print('   ',pred_class[p][t+1],'    ',pred_class[p][t+2],'      ',pred_class[p][t+3],'      ',pred_class[p][t+4],'        ',pred_class[p][t+5])\n",
        "  print('   ',pred_class[p][t+6],'    ',pred_class[p][t+7],'      ',pred_class[p][t+8],'      ',pred_class[p][t+9],'        ',pred_class[p][t+10])\n",
        "  print('   ',pred_class[p][t+11],'    ',pred_class[p][t+12],'      ',pred_class[p][t+13],'      ',pred_class[p][t+14],'        ',pred_class[p][t+15])\n",
        "  print('   ',pred_class[p][t+16],'    ',pred_class[p][t+17],'      ',pred_class[p][t+18],'      ',pred_class[p][t+19],'        ',pred_class[p][t+20])\n",
        "  print('   ',pred_class[p][t+21],'    ',pred_class[p][t+22],'      ',pred_class[p][t+23],'      ',pred_class[p][t+24],'        ',pred_class[p][t+25])"
      ],
      "execution_count": 0,
      "outputs": [
        {
          "output_type": "stream",
          "text": [
            "    Actual Target Value in MNIST - Model w/o L1 & L2\n",
            "    6      2        6        6          2\n",
            "    6      1        3        6          6\n",
            "    4      2        5        8          8\n",
            "    3      9        2        3          6\n",
            "    5      8        9        6          9\n",
            "     Wrongly Predicted Classes - Model w/o L1 & L2\n",
            "    1      7        5        0          7\n",
            "    0      2        5        4          2\n",
            "    9      3        6        7          3\n",
            "    5      5        1        5          5\n",
            "    3      9        5        8          4\n"
          ],
          "name": "stdout"
        },
        {
          "output_type": "display_data",
          "data": {
            "image/png": "[encoded data removed]",
            "text/plain": [
              "<Figure size 432x288 with 25 Axes>"
            ]
          },
          "metadata": {
            "tags": []
          }
        }
      ]
    },
    {
      "cell_type": "markdown",
      "metadata": {
        "id": "1bzmvXRRhpUQ",
        "colab_type": "text"
      },
      "source": [
        "#Visualizing Original Image, Predicted Class and Actual Class for scenario - With L1 & L2"
      ]
    },
    {
      "cell_type": "code",
      "metadata": {
        "id": "HaMpTalGhvAm",
        "colab_type": "code",
        "outputId": "06d96ac0-0c0f-4d30-9396-93764e7d8381",
        "colab": {
          "base_uri": "https://localhost:8080/",
          "height": 456
        }
      },
      "source": [
        "figure = plt.figure()\n",
        "diag = 0\n",
        "p    = 3        # Change this to get diff. scenarios we are plotting i.e. 0 -> w/o l1,l2, 1 -> wid l1, 2 -> wid l2, 3 -> wid l1 & l2\n",
        "\n",
        "if len(act_img[p]) < 25:\n",
        "  print('Not enough images to print') \n",
        "else:\n",
        "  start = len(act_img[p])-25       # Printing last 25 images, that were wrongly predicted\n",
        "  end   = len(act_img[p])\n",
        "  for index in range(start, end):\n",
        "            diag += 1\n",
        "            plt.subplot(5, 5, diag)\n",
        "            plt.axis('off')\n",
        "            plt.imshow(act_img[p][index].reshape(28,28), cmap='gray_r') \n",
        "  \n",
        "  t = start -1\n",
        "\n",
        "  print ('    Actual Target Value in MNIST - Model w/o L1 & L2')\n",
        "  print('   ',act_class[p][t+1],'    ',act_class[p][t+2],'      ',act_class[p][t+3],'      ',act_class[p][t+4],'        ',act_class[p][t+5])\n",
        "  print('   ',act_class[p][t+6],'    ',act_class[p][t+7],'      ',act_class[p][t+8],'      ',act_class[p][t+9],'        ',act_class[p][t+10])\n",
        "  print('   ',act_class[p][t+11],'    ',act_class[p][t+12],'      ',act_class[p][t+13],'      ',act_class[p][t+14],'        ',act_class[p][t+15])\n",
        "  print('   ',act_class[p][t+16],'    ',act_class[p][t+17],'      ',act_class[p][t+18],'      ',act_class[p][t+19],'        ',act_class[p][t+20])\n",
        "  print('   ',act_class[p][t+21],'    ',act_class[p][t+22],'      ',act_class[p][t+23],'      ',act_class[p][t+24],'        ',act_class[p][t+25])\n",
        "\n",
        "  print('     Wrongly Predicted Classes - Model w/o L1 & L2')\n",
        "  print('   ',pred_class[p][t+1],'    ',pred_class[p][t+2],'      ',pred_class[p][t+3],'      ',pred_class[p][t+4],'        ',pred_class[p][t+5])\n",
        "  print('   ',pred_class[p][t+6],'    ',pred_class[p][t+7],'      ',pred_class[p][t+8],'      ',pred_class[p][t+9],'        ',pred_class[p][t+10])\n",
        "  print('   ',pred_class[p][t+11],'    ',pred_class[p][t+12],'      ',pred_class[p][t+13],'      ',pred_class[p][t+14],'        ',pred_class[p][t+15])\n",
        "  print('   ',pred_class[p][t+16],'    ',pred_class[p][t+17],'      ',pred_class[p][t+18],'      ',pred_class[p][t+19],'        ',pred_class[p][t+20])\n",
        "  print('   ',pred_class[p][t+21],'    ',pred_class[p][t+22],'      ',pred_class[p][t+23],'      ',pred_class[p][t+24],'        ',pred_class[p][t+25])"
      ],
      "execution_count": 0,
      "outputs": [
        {
          "output_type": "stream",
          "text": [
            "    Actual Target Value in MNIST - Model w/o L1 & L2\n",
            "    9      5        3        2          3\n",
            "    4      2        6        3          2\n",
            "    0      6        2        2          2\n",
            "    9      9        2        2          2\n",
            "    4      9        3        8          9\n",
            "     Wrongly Predicted Classes - Model w/o L1 & L2\n",
            "    7      9        5        7          7\n",
            "    7      7        0        7          7\n",
            "    6      2        7        3          7\n",
            "    4      4        7        7          7\n",
            "    7      5        7        9          4\n"
          ],
          "name": "stdout"
        },
        {
          "output_type": "display_data",
          "data": {
            "image/png": "[encoded data removed]",
            "text/plain": [
              "<Figure size 432x288 with 25 Axes>"
            ]
          },
          "metadata": {
            "tags": []
          }
        }
      ]
    },
    {
      "cell_type": "code",
      "metadata": {
        "id": "flnBDZcP1YGw",
        "colab_type": "code",
        "colab": {}
      },
      "source": [
        ""
      ],
      "execution_count": 0,
      "outputs": []
    }
  ]
}
