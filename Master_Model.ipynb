{
  "nbformat": 4,
  "nbformat_minor": 0,
  "metadata": {
    "colab": {
      "name": "Master Model.ipynb",
      "provenance": [],
      "collapsed_sections": [],
      "include_colab_link": true
    },
    "kernelspec": {
      "name": "python3",
      "display_name": "Python 3"
    },
    "accelerator": "GPU",
    "widgets": {
      "application/vnd.jupyter.widget-state+json": {
        "9d83738401194f71a478ce14cf597030": {
          "model_module": "@jupyter-widgets/controls",
          "model_name": "HBoxModel",
          "state": {
            "_view_name": "HBoxView",
            "_dom_classes": [],
            "_model_name": "HBoxModel",
            "_view_module": "@jupyter-widgets/controls",
            "_model_module_version": "1.5.0",
            "_view_count": null,
            "_view_module_version": "1.5.0",
            "box_style": "",
            "layout": "IPY_MODEL_367d08c416fd4c7280b06e3ddeb75af3",
            "_model_module": "@jupyter-widgets/controls",
            "children": [
              "IPY_MODEL_76febf53c0fb42dd8efc0d04bd67c30d",
              "IPY_MODEL_5e6077ee91eb45a984262106a4a66f7a"
            ]
          }
        },
        "367d08c416fd4c7280b06e3ddeb75af3": {
          "model_module": "@jupyter-widgets/base",
          "model_name": "LayoutModel",
          "state": {
            "_view_name": "LayoutView",
            "grid_template_rows": null,
            "right": null,
            "justify_content": null,
            "_view_module": "@jupyter-widgets/base",
            "overflow": null,
            "_model_module_version": "1.2.0",
            "_view_count": null,
            "flex_flow": null,
            "width": null,
            "min_width": null,
            "border": null,
            "align_items": null,
            "bottom": null,
            "_model_module": "@jupyter-widgets/base",
            "top": null,
            "grid_column": null,
            "overflow_y": null,
            "overflow_x": null,
            "grid_auto_flow": null,
            "grid_area": null,
            "grid_template_columns": null,
            "flex": null,
            "_model_name": "LayoutModel",
            "justify_items": null,
            "grid_row": null,
            "max_height": null,
            "align_content": null,
            "visibility": null,
            "align_self": null,
            "height": null,
            "min_height": null,
            "padding": null,
            "grid_auto_rows": null,
            "grid_gap": null,
            "max_width": null,
            "order": null,
            "_view_module_version": "1.2.0",
            "grid_template_areas": null,
            "object_position": null,
            "object_fit": null,
            "grid_auto_columns": null,
            "margin": null,
            "display": null,
            "left": null
          }
        },
        "76febf53c0fb42dd8efc0d04bd67c30d": {
          "model_module": "@jupyter-widgets/controls",
          "model_name": "IntProgressModel",
          "state": {
            "_view_name": "ProgressView",
            "style": "IPY_MODEL_7e7383560ffa4fc9b9413add202cb7cc",
            "_dom_classes": [],
            "description": "",
            "_model_name": "IntProgressModel",
            "bar_style": "info",
            "max": 1,
            "_view_module": "@jupyter-widgets/controls",
            "_model_module_version": "1.5.0",
            "value": 1,
            "_view_count": null,
            "_view_module_version": "1.5.0",
            "orientation": "horizontal",
            "min": 0,
            "description_tooltip": null,
            "_model_module": "@jupyter-widgets/controls",
            "layout": "IPY_MODEL_e9369b5b3b454d15bd089d981d8c4719"
          }
        },
        "5e6077ee91eb45a984262106a4a66f7a": {
          "model_module": "@jupyter-widgets/controls",
          "model_name": "HTMLModel",
          "state": {
            "_view_name": "HTMLView",
            "style": "IPY_MODEL_45dd21efd9064ff58c0b2194631c5bcd",
            "_dom_classes": [],
            "description": "",
            "_model_name": "HTMLModel",
            "placeholder": "​",
            "_view_module": "@jupyter-widgets/controls",
            "_model_module_version": "1.5.0",
            "value": "170500096it [00:30, 16741616.40it/s]",
            "_view_count": null,
            "_view_module_version": "1.5.0",
            "description_tooltip": null,
            "_model_module": "@jupyter-widgets/controls",
            "layout": "IPY_MODEL_e92edbff36f4479cae0169c447a5f812"
          }
        },
        "7e7383560ffa4fc9b9413add202cb7cc": {
          "model_module": "@jupyter-widgets/controls",
          "model_name": "ProgressStyleModel",
          "state": {
            "_view_name": "StyleView",
            "_model_name": "ProgressStyleModel",
            "description_width": "",
            "_view_module": "@jupyter-widgets/base",
            "_model_module_version": "1.5.0",
            "_view_count": null,
            "_view_module_version": "1.2.0",
            "bar_color": null,
            "_model_module": "@jupyter-widgets/controls"
          }
        },
        "e9369b5b3b454d15bd089d981d8c4719": {
          "model_module": "@jupyter-widgets/base",
          "model_name": "LayoutModel",
          "state": {
            "_view_name": "LayoutView",
            "grid_template_rows": null,
            "right": null,
            "justify_content": null,
            "_view_module": "@jupyter-widgets/base",
            "overflow": null,
            "_model_module_version": "1.2.0",
            "_view_count": null,
            "flex_flow": null,
            "width": null,
            "min_width": null,
            "border": null,
            "align_items": null,
            "bottom": null,
            "_model_module": "@jupyter-widgets/base",
            "top": null,
            "grid_column": null,
            "overflow_y": null,
            "overflow_x": null,
            "grid_auto_flow": null,
            "grid_area": null,
            "grid_template_columns": null,
            "flex": null,
            "_model_name": "LayoutModel",
            "justify_items": null,
            "grid_row": null,
            "max_height": null,
            "align_content": null,
            "visibility": null,
            "align_self": null,
            "height": null,
            "min_height": null,
            "padding": null,
            "grid_auto_rows": null,
            "grid_gap": null,
            "max_width": null,
            "order": null,
            "_view_module_version": "1.2.0",
            "grid_template_areas": null,
            "object_position": null,
            "object_fit": null,
            "grid_auto_columns": null,
            "margin": null,
            "display": null,
            "left": null
          }
        },
        "45dd21efd9064ff58c0b2194631c5bcd": {
          "model_module": "@jupyter-widgets/controls",
          "model_name": "DescriptionStyleModel",
          "state": {
            "_view_name": "StyleView",
            "_model_name": "DescriptionStyleModel",
            "description_width": "",
            "_view_module": "@jupyter-widgets/base",
            "_model_module_version": "1.5.0",
            "_view_count": null,
            "_view_module_version": "1.2.0",
            "_model_module": "@jupyter-widgets/controls"
          }
        },
        "e92edbff36f4479cae0169c447a5f812": {
          "model_module": "@jupyter-widgets/base",
          "model_name": "LayoutModel",
          "state": {
            "_view_name": "LayoutView",
            "grid_template_rows": null,
            "right": null,
            "justify_content": null,
            "_view_module": "@jupyter-widgets/base",
            "overflow": null,
            "_model_module_version": "1.2.0",
            "_view_count": null,
            "flex_flow": null,
            "width": null,
            "min_width": null,
            "border": null,
            "align_items": null,
            "bottom": null,
            "_model_module": "@jupyter-widgets/base",
            "top": null,
            "grid_column": null,
            "overflow_y": null,
            "overflow_x": null,
            "grid_auto_flow": null,
            "grid_area": null,
            "grid_template_columns": null,
            "flex": null,
            "_model_name": "LayoutModel",
            "justify_items": null,
            "grid_row": null,
            "max_height": null,
            "align_content": null,
            "visibility": null,
            "align_self": null,
            "height": null,
            "min_height": null,
            "padding": null,
            "grid_auto_rows": null,
            "grid_gap": null,
            "max_width": null,
            "order": null,
            "_view_module_version": "1.2.0",
            "grid_template_areas": null,
            "object_position": null,
            "object_fit": null,
            "grid_auto_columns": null,
            "margin": null,
            "display": null,
            "left": null
          }
        }
      }
    }
  },
  "cells": [
    {
      "cell_type": "markdown",
      "metadata": {
        "id": "view-in-github",
        "colab_type": "text"
      },
      "source": [
        "<a href=\"https://colab.research.google.com/github/anilbhatt1/Deep_Learning_EVA4_Phase1/blob/master/Master_Model.ipynb\" target=\"_parent\"><img src=\"https://colab.research.google.com/assets/colab-badge.svg\" alt=\"Open In Colab\"/></a>"
      ]
    },
    {
      "cell_type": "code",
      "metadata": {
        "id": "qwMc1rYisyZ9",
        "colab_type": "code",
        "colab": {}
      },
      "source": [
        "# Mounting the drive and copying the code from github to drive\n",
        "from google.colab import drive \n",
        "drive.mount('/content/gdrive')\n",
        "%cd gdrive/My Drive/project_folder\n",
        "! ls"
      ],
      "execution_count": 0,
      "outputs": []
    },
    {
      "cell_type": "code",
      "metadata": {
        "id": "5y-BdVIirPsJ",
        "colab_type": "code",
        "outputId": "8afc372e-2fa6-4050-a65d-d75a196ff9ce",
        "colab": {
          "base_uri": "https://localhost:8080/",
          "height": 139
        }
      },
      "source": [
        "!git clone https://github.com/anilbhatt1/Deep_Learning_EVA4_Phase1"
      ],
      "execution_count": 2,
      "outputs": [
        {
          "output_type": "stream",
          "text": [
            "Cloning into 'Deep_Learning_EVA4_Phase1'...\n",
            "remote: Enumerating objects: 179, done.\u001b[K\n",
            "remote: Counting objects: 100% (179/179), done.\u001b[K\n",
            "remote: Compressing objects: 100% (177/177), done.\u001b[K\n",
            "remote: Total 568 (delta 113), reused 0 (delta 0), pack-reused 389\u001b[K\n",
            "Receiving objects: 100% (568/568), 4.17 MiB | 3.18 MiB/s, done.\n",
            "Resolving deltas: 100% (350/350), done.\n"
          ],
          "name": "stdout"
        }
      ]
    },
    {
      "cell_type": "code",
      "metadata": {
        "id": "Q20naiUStIan",
        "colab_type": "code",
        "outputId": "d6474ab4-e183-4191-e1bc-2e11a5b05504",
        "colab": {
          "base_uri": "https://localhost:8080/",
          "height": 52
        }
      },
      "source": [
        "%cd Deep_Learning_EVA4_Phase1/S7_CIFAR10_Modular\n",
        "! ls"
      ],
      "execution_count": 3,
      "outputs": [
        {
          "output_type": "stream",
          "text": [
            "/content/gdrive/My Drive/project_folder/Deep_Learning_EVA4_Phase1/S7_CIFAR10_Modular\n",
            "Master_Model.ipynb  models  README.md\n"
          ],
          "name": "stdout"
        }
      ]
    },
    {
      "cell_type": "code",
      "metadata": {
        "id": "3pkMQem56QSQ",
        "colab_type": "code",
        "colab": {}
      },
      "source": [
        "from __future__ import print_function\n",
        "import torch\n",
        "import torchvision\n",
        "from torchvision import transforms\n",
        "import torch.nn as nn\n",
        "import torch.nn.functional as F\n",
        "import torch.optim as optim\n",
        "import numpy as np\n",
        "from tqdm import tqdm\n",
        "from models import S7_Datatransforms,S7_Model,S7_Dataloaders,S7_Train_Losses,S7_Test_losses"
      ],
      "execution_count": 0,
      "outputs": []
    },
    {
      "cell_type": "code",
      "metadata": {
        "id": "73_JJsQt6ehB",
        "colab_type": "code",
        "outputId": "4fcf4778-09c9-4bd1-ee14-cfddcb8ba277",
        "colab": {
          "base_uri": "https://localhost:8080/",
          "height": 101,
          "referenced_widgets": [
            "9d83738401194f71a478ce14cf597030",
            "367d08c416fd4c7280b06e3ddeb75af3",
            "76febf53c0fb42dd8efc0d04bd67c30d",
            "5e6077ee91eb45a984262106a4a66f7a",
            "7e7383560ffa4fc9b9413add202cb7cc",
            "e9369b5b3b454d15bd089d981d8c4719",
            "45dd21efd9064ff58c0b2194631c5bcd",
            "e92edbff36f4479cae0169c447a5f812"
          ]
        }
      },
      "source": [
        "data_loader = S7_Dataloaders.DataLoader(shuffle=True,batch_size=128,seed=1)\n",
        "\n",
        "mean = (0.49139968, 0.48215841, 0.44653091)\n",
        "stdev = (0.24703223, 0.24348513, 0.26158784)\n",
        "transform_instance  = S7_Datatransforms.Transforms_custom(normalize=True, mean=mean, stdev=stdev)\n",
        "\n",
        "before_norm_list = [transforms.ColorJitter(brightness=0.1, contrast=0.1, saturation=0.1, hue=0.1),\n",
        "               transforms.RandomRotation((-7,7),fill=(1,))]\n",
        "               \n",
        "test_transforms   = transform_instance.test_transforms()\n",
        "train_transforms  = transform_instance.train_transforms(before_norm = None)\n",
        "\n",
        "train_data = torchvision.datasets.CIFAR10('./data', train=True, download=True, transform=train_transforms)\n",
        "test_data  = torchvision.datasets.CIFAR10('./data', train=False, download=True, transform=test_transforms)\n",
        "\n",
        "classes = ('plane', 'car', 'bird', 'cat','deer', 'dog', 'frog', 'horse', 'ship', 'truck')"
      ],
      "execution_count": 5,
      "outputs": [
        {
          "output_type": "stream",
          "text": [
            "Downloading https://www.cs.toronto.edu/~kriz/cifar-10-python.tar.gz to ./data/cifar-10-python.tar.gz\n"
          ],
          "name": "stdout"
        },
        {
          "output_type": "display_data",
          "data": {
            "application/vnd.jupyter.widget-view+json": {
              "model_id": "9d83738401194f71a478ce14cf597030",
              "version_minor": 0,
              "version_major": 2
            },
            "text/plain": [
              "HBox(children=(IntProgress(value=1, bar_style='info', max=1), HTML(value='')))"
            ]
          },
          "metadata": {
            "tags": []
          }
        },
        {
          "output_type": "stream",
          "text": [
            "Extracting ./data/cifar-10-python.tar.gz to ./data\n",
            "Files already downloaded and verified\n"
          ],
          "name": "stdout"
        }
      ]
    },
    {
      "cell_type": "code",
      "metadata": {
        "id": "-ZzMIofPsy6v",
        "colab_type": "code",
        "colab": {}
      },
      "source": [
        "trainloader = data_loader.load(train_data)\n",
        "testloader  = data_loader.load(test_data)"
      ],
      "execution_count": 0,
      "outputs": []
    },
    {
      "cell_type": "code",
      "metadata": {
        "id": "0SdiTKnWuhyn",
        "colab_type": "code",
        "outputId": "bc269fe4-52bf-489c-ee62-eee67fa4deb8",
        "colab": {
          "base_uri": "https://localhost:8080/",
          "height": 780
        }
      },
      "source": [
        "!pip install torchsummary\n",
        "from torchsummary import summary\n",
        "use_cuda = torch.cuda.is_available()\n",
        "device = torch.device(\"cuda\" if use_cuda else \"cpu\")\n",
        "print(device)\n",
        "model = S7_Model.Net()\n",
        "model.to(device)\n",
        "summary(model, input_size=(3, 32, 32))"
      ],
      "execution_count": 7,
      "outputs": [
        {
          "output_type": "stream",
          "text": [
            "Requirement already satisfied: torchsummary in /usr/local/lib/python3.6/dist-packages (1.5.1)\n",
            "cuda\n",
            "----------------------------------------------------------------\n",
            "        Layer (type)               Output Shape         Param #\n",
            "================================================================\n",
            "            Conv2d-1           [-1, 32, 32, 32]             864\n",
            "              ReLU-2           [-1, 32, 32, 32]               0\n",
            "       BatchNorm2d-3           [-1, 32, 32, 32]              64\n",
            "           Dropout-4           [-1, 32, 32, 32]               0\n",
            "            Conv2d-5           [-1, 64, 32, 32]          18,432\n",
            "              ReLU-6           [-1, 64, 32, 32]               0\n",
            "       BatchNorm2d-7           [-1, 64, 32, 32]             128\n",
            "           Dropout-8           [-1, 64, 32, 32]               0\n",
            "         MaxPool2d-9           [-1, 64, 16, 16]               0\n",
            "           Conv2d-10           [-1, 32, 16, 16]           2,048\n",
            "           Conv2d-11           [-1, 64, 16, 16]          18,432\n",
            "             ReLU-12           [-1, 64, 16, 16]               0\n",
            "      BatchNorm2d-13           [-1, 64, 16, 16]             128\n",
            "          Dropout-14           [-1, 64, 16, 16]               0\n",
            "           Conv2d-15           [-1, 64, 16, 16]             576\n",
            "             ReLU-16           [-1, 64, 16, 16]               0\n",
            "      BatchNorm2d-17           [-1, 64, 16, 16]             128\n",
            "          Dropout-18           [-1, 64, 16, 16]               0\n",
            "           Conv2d-19          [-1, 128, 16, 16]           8,192\n",
            "        MaxPool2d-20            [-1, 128, 8, 8]               0\n",
            "           Conv2d-21             [-1, 32, 8, 8]           4,096\n",
            "           Conv2d-22             [-1, 64, 8, 8]          18,432\n",
            "             ReLU-23             [-1, 64, 8, 8]               0\n",
            "      BatchNorm2d-24             [-1, 64, 8, 8]             128\n",
            "          Dropout-25             [-1, 64, 8, 8]               0\n",
            "        MaxPool2d-26             [-1, 64, 4, 4]               0\n",
            "           Conv2d-27             [-1, 32, 6, 6]           2,048\n",
            "        AvgPool2d-28             [-1, 32, 1, 1]               0\n",
            "           Conv2d-29             [-1, 10, 1, 1]             320\n",
            "================================================================\n",
            "Total params: 74,016\n",
            "Trainable params: 74,016\n",
            "Non-trainable params: 0\n",
            "----------------------------------------------------------------\n",
            "Input size (MB): 0.01\n",
            "Forward/backward pass size (MB): 4.66\n",
            "Params size (MB): 0.28\n",
            "Estimated Total Size (MB): 4.95\n",
            "----------------------------------------------------------------\n"
          ],
          "name": "stdout"
        }
      ]
    },
    {
      "cell_type": "code",
      "metadata": {
        "id": "sYGWz6VDxkC8",
        "colab_type": "code",
        "colab": {}
      },
      "source": [
        "train_loss = S7_Train_Losses.Train_loss()\n",
        "test_loss  = S7_Test_losses.Test_loss()"
      ],
      "execution_count": 0,
      "outputs": []
    },
    {
      "cell_type": "markdown",
      "metadata": {
        "id": "Cu4wRX-WLGAi",
        "colab_type": "text"
      },
      "source": [
        "# Train and Test the model "
      ]
    },
    {
      "cell_type": "code",
      "metadata": {
        "id": "BNX9W00SLKYr",
        "colab_type": "code",
        "outputId": "bda8a061-9905-41b3-b8a2-d1de882da1bc",
        "colab": {
          "base_uri": "https://localhost:8080/",
          "height": 1000
        }
      },
      "source": [
        "EPOCH     = 20\n",
        "L2_factor = 0.0005\n",
        "L1_factor = 0.001\n",
        "OPTIMIZER = optim.SGD(model.parameters(), lr=0.025, momentum=0.9,weight_decay=L2_factor)\n",
        "train_loss_all = []\n",
        "train_acc_all  = []\n",
        "test_loss_all  = []\n",
        "test_acc_all   = []\n",
        "\n",
        "for epoch in range(EPOCH):\n",
        "\n",
        "    print(\"EPOCH:\", epoch)\n",
        "    train_losses, train_acc = train_loss.train_loss_calc(model,device,train_loader=trainloader,optimizer=OPTIMIZER,epoch=EPOCH,factor=L1_factor)\n",
        "    test_losses, test_acc   = test_loss.test_loss_calc(model,device,test_loader=testloader)\n",
        "\n",
        "    train_loss_all.extend(train_losses)\n",
        "    train_acc_all.extend(train_acc)\n",
        "    test_loss_all.extend(test_losses)\n",
        "    test_acc_all.extend(test_acc)"
      ],
      "execution_count": 9,
      "outputs": [
        {
          "output_type": "stream",
          "text": [
            "\r  0%|          | 0/391 [00:00<?, ?it/s]"
          ],
          "name": "stderr"
        },
        {
          "output_type": "stream",
          "text": [
            "EPOCH: 0\n"
          ],
          "name": "stdout"
        },
        {
          "output_type": "stream",
          "text": [
            "Train Loss = 1.2024728059768677 Batch Id = 390 Train Accuracy = 46.66: 100%|██████████| 391/391 [00:42<00:00,  9.14it/s]\n",
            "  0%|          | 0/391 [00:00<?, ?it/s]"
          ],
          "name": "stderr"
        },
        {
          "output_type": "stream",
          "text": [
            "\n",
            "Test set: Average loss: 154.9283, Test Accuracy: 70.29\n",
            "\n",
            "EPOCH: 1\n"
          ],
          "name": "stdout"
        },
        {
          "output_type": "stream",
          "text": [
            "Train Loss = 0.866962730884552 Batch Id = 390 Train Accuracy = 62.36: 100%|██████████| 391/391 [00:42<00:00,  9.19it/s]\n",
            "  0%|          | 0/391 [00:00<?, ?it/s]"
          ],
          "name": "stderr"
        },
        {
          "output_type": "stream",
          "text": [
            "\n",
            "Test set: Average loss: 135.3747, Test Accuracy: 78.22\n",
            "\n",
            "EPOCH: 2\n"
          ],
          "name": "stdout"
        },
        {
          "output_type": "stream",
          "text": [
            "Train Loss = 0.9103291630744934 Batch Id = 390 Train Accuracy = 68.09: 100%|██████████| 391/391 [00:42<00:00,  9.19it/s]\n",
            "  0%|          | 0/391 [00:00<?, ?it/s]"
          ],
          "name": "stderr"
        },
        {
          "output_type": "stream",
          "text": [
            "\n",
            "Test set: Average loss: 112.4375, Test Accuracy: 86.54\n",
            "\n",
            "EPOCH: 3\n"
          ],
          "name": "stdout"
        },
        {
          "output_type": "stream",
          "text": [
            "Train Loss = 1.0203001499176025 Batch Id = 390 Train Accuracy = 71.88: 100%|██████████| 391/391 [00:42<00:00,  9.29it/s]\n",
            "  0%|          | 0/391 [00:00<?, ?it/s]"
          ],
          "name": "stderr"
        },
        {
          "output_type": "stream",
          "text": [
            "\n",
            "Test set: Average loss: 108.5814, Test Accuracy: 87.32\n",
            "\n",
            "EPOCH: 4\n"
          ],
          "name": "stdout"
        },
        {
          "output_type": "stream",
          "text": [
            "Train Loss = 0.730050265789032 Batch Id = 390 Train Accuracy = 74.04: 100%|██████████| 391/391 [00:42<00:00,  9.16it/s]\n",
            "  0%|          | 0/391 [00:00<?, ?it/s]"
          ],
          "name": "stderr"
        },
        {
          "output_type": "stream",
          "text": [
            "\n",
            "Test set: Average loss: 103.0319, Test Accuracy: 90.75\n",
            "\n",
            "EPOCH: 5\n"
          ],
          "name": "stdout"
        },
        {
          "output_type": "stream",
          "text": [
            "Train Loss = 0.6701748371124268 Batch Id = 390 Train Accuracy = 76.13: 100%|██████████| 391/391 [00:41<00:00,  9.31it/s]\n",
            "  0%|          | 0/391 [00:00<?, ?it/s]"
          ],
          "name": "stderr"
        },
        {
          "output_type": "stream",
          "text": [
            "\n",
            "Test set: Average loss: 97.4175, Test Accuracy: 94.04\n",
            "\n",
            "EPOCH: 6\n"
          ],
          "name": "stdout"
        },
        {
          "output_type": "stream",
          "text": [
            "Train Loss = 0.6471266746520996 Batch Id = 390 Train Accuracy = 77.61: 100%|██████████| 391/391 [00:42<00:00,  9.18it/s]\n",
            "  0%|          | 0/391 [00:00<?, ?it/s]"
          ],
          "name": "stderr"
        },
        {
          "output_type": "stream",
          "text": [
            "\n",
            "Test set: Average loss: 90.7603, Test Accuracy: 94.96\n",
            "\n",
            "EPOCH: 7\n"
          ],
          "name": "stdout"
        },
        {
          "output_type": "stream",
          "text": [
            "Train Loss = 0.7573099136352539 Batch Id = 390 Train Accuracy = 78.60: 100%|██████████| 391/391 [00:42<00:00,  9.27it/s]\n",
            "  0%|          | 0/391 [00:00<?, ?it/s]"
          ],
          "name": "stderr"
        },
        {
          "output_type": "stream",
          "text": [
            "\n",
            "Test set: Average loss: 84.4756, Test Accuracy: 97.46\n",
            "\n",
            "EPOCH: 8\n"
          ],
          "name": "stdout"
        },
        {
          "output_type": "stream",
          "text": [
            "Train Loss = 0.3862851560115814 Batch Id = 390 Train Accuracy = 79.19: 100%|██████████| 391/391 [00:42<00:00,  9.14it/s]\n",
            "  0%|          | 0/391 [00:00<?, ?it/s]"
          ],
          "name": "stderr"
        },
        {
          "output_type": "stream",
          "text": [
            "\n",
            "Test set: Average loss: 91.0715, Test Accuracy: 94.66\n",
            "\n",
            "EPOCH: 9\n"
          ],
          "name": "stdout"
        },
        {
          "output_type": "stream",
          "text": [
            "Train Loss = 0.6802712082862854 Batch Id = 390 Train Accuracy = 80.28: 100%|██████████| 391/391 [00:42<00:00,  9.11it/s]\n",
            "  0%|          | 0/391 [00:00<?, ?it/s]"
          ],
          "name": "stderr"
        },
        {
          "output_type": "stream",
          "text": [
            "\n",
            "Test set: Average loss: 85.9823, Test Accuracy: 97.11\n",
            "\n",
            "EPOCH: 10\n"
          ],
          "name": "stdout"
        },
        {
          "output_type": "stream",
          "text": [
            "Train Loss = 0.4134290814399719 Batch Id = 390 Train Accuracy = 80.54: 100%|██████████| 391/391 [00:42<00:00,  9.18it/s]\n",
            "  0%|          | 0/391 [00:00<?, ?it/s]"
          ],
          "name": "stderr"
        },
        {
          "output_type": "stream",
          "text": [
            "\n",
            "Test set: Average loss: 80.3473, Test Accuracy: 99.32\n",
            "\n",
            "EPOCH: 11\n"
          ],
          "name": "stdout"
        },
        {
          "output_type": "stream",
          "text": [
            "Train Loss = 0.560106098651886 Batch Id = 390 Train Accuracy = 81.32: 100%|██████████| 391/391 [00:42<00:00,  9.19it/s]\n",
            "  0%|          | 0/391 [00:00<?, ?it/s]"
          ],
          "name": "stderr"
        },
        {
          "output_type": "stream",
          "text": [
            "\n",
            "Test set: Average loss: 85.3793, Test Accuracy: 98.00\n",
            "\n",
            "EPOCH: 12\n"
          ],
          "name": "stdout"
        },
        {
          "output_type": "stream",
          "text": [
            "Train Loss = 0.5476766228675842 Batch Id = 390 Train Accuracy = 81.93: 100%|██████████| 391/391 [00:42<00:00,  9.17it/s]\n",
            "  0%|          | 0/391 [00:00<?, ?it/s]"
          ],
          "name": "stderr"
        },
        {
          "output_type": "stream",
          "text": [
            "\n",
            "Test set: Average loss: 81.9289, Test Accuracy: 98.22\n",
            "\n",
            "EPOCH: 13\n"
          ],
          "name": "stdout"
        },
        {
          "output_type": "stream",
          "text": [
            "Train Loss = 0.4960392415523529 Batch Id = 390 Train Accuracy = 82.11: 100%|██████████| 391/391 [00:42<00:00,  9.16it/s]\n",
            "  0%|          | 0/391 [00:00<?, ?it/s]"
          ],
          "name": "stderr"
        },
        {
          "output_type": "stream",
          "text": [
            "\n",
            "Test set: Average loss: 82.0683, Test Accuracy: 99.47\n",
            "\n",
            "EPOCH: 14\n"
          ],
          "name": "stdout"
        },
        {
          "output_type": "stream",
          "text": [
            "Train Loss = 0.40939685702323914 Batch Id = 390 Train Accuracy = 82.52: 100%|██████████| 391/391 [00:42<00:00,  9.12it/s]\n",
            "  0%|          | 0/391 [00:00<?, ?it/s]"
          ],
          "name": "stderr"
        },
        {
          "output_type": "stream",
          "text": [
            "\n",
            "Test set: Average loss: 84.8311, Test Accuracy: 98.47\n",
            "\n",
            "EPOCH: 15\n"
          ],
          "name": "stdout"
        },
        {
          "output_type": "stream",
          "text": [
            "Train Loss = 0.5502331256866455 Batch Id = 390 Train Accuracy = 83.10: 100%|██████████| 391/391 [00:42<00:00,  9.17it/s]\n",
            "  0%|          | 0/391 [00:00<?, ?it/s]"
          ],
          "name": "stderr"
        },
        {
          "output_type": "stream",
          "text": [
            "\n",
            "Test set: Average loss: 85.6390, Test Accuracy: 98.42\n",
            "\n",
            "EPOCH: 16\n"
          ],
          "name": "stdout"
        },
        {
          "output_type": "stream",
          "text": [
            "Train Loss = 0.45644769072532654 Batch Id = 390 Train Accuracy = 83.23: 100%|██████████| 391/391 [00:42<00:00,  9.10it/s]\n",
            "  0%|          | 0/391 [00:00<?, ?it/s]"
          ],
          "name": "stderr"
        },
        {
          "output_type": "stream",
          "text": [
            "\n",
            "Test set: Average loss: 77.6556, Test Accuracy: 100.48\n",
            "\n",
            "EPOCH: 17\n"
          ],
          "name": "stdout"
        },
        {
          "output_type": "stream",
          "text": [
            "Train Loss = 0.4153425991535187 Batch Id = 390 Train Accuracy = 83.70: 100%|██████████| 391/391 [00:42<00:00,  9.18it/s]\n",
            "  0%|          | 0/391 [00:00<?, ?it/s]"
          ],
          "name": "stderr"
        },
        {
          "output_type": "stream",
          "text": [
            "\n",
            "Test set: Average loss: 76.2167, Test Accuracy: 101.68\n",
            "\n",
            "EPOCH: 18\n"
          ],
          "name": "stdout"
        },
        {
          "output_type": "stream",
          "text": [
            "Train Loss = 0.533661425113678 Batch Id = 390 Train Accuracy = 84.02: 100%|██████████| 391/391 [00:42<00:00,  9.14it/s]\n",
            "  0%|          | 0/391 [00:00<?, ?it/s]"
          ],
          "name": "stderr"
        },
        {
          "output_type": "stream",
          "text": [
            "\n",
            "Test set: Average loss: 76.9379, Test Accuracy: 101.14\n",
            "\n",
            "EPOCH: 19\n"
          ],
          "name": "stdout"
        },
        {
          "output_type": "stream",
          "text": [
            "Train Loss = 0.3992951512336731 Batch Id = 390 Train Accuracy = 84.18: 100%|██████████| 391/391 [00:42<00:00,  9.22it/s]\n"
          ],
          "name": "stderr"
        },
        {
          "output_type": "stream",
          "text": [
            "\n",
            "Test set: Average loss: 79.7730, Test Accuracy: 100.05\n",
            "\n"
          ],
          "name": "stdout"
        }
      ]
    },
    {
      "cell_type": "code",
      "metadata": {
        "id": "1fVFg_e5lGj-",
        "colab_type": "code",
        "colab": {}
      },
      "source": [
        ""
      ],
      "execution_count": 0,
      "outputs": []
    }
  ]
}